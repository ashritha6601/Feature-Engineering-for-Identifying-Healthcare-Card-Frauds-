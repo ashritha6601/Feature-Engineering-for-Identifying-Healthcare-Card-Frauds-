{
 "cells": [
  {
   "cell_type": "markdown",
   "id": "ca056b5d",
   "metadata": {},
   "source": [
    "# Feature Engineering for HealthCare Industry Fraud Detection"
   ]
  },
  {
   "cell_type": "markdown",
   "id": "a7904eea",
   "metadata": {},
   "source": [
    "## Objective\n",
    "- Glossary:\n",
    "- Total discharges: The number of discharges billed by the provider for inpatient hospital services. When you leave a hospital after treatment, you go through a process called hospital discharge. \n",
    "- Covered Charges: Charges for covered services that your health plan paid for. There may be a limit on covered charges if you receive services from providers outside your plan's network of providers. \n",
    "- Covered Person - Any person covered under the plan. \n",
    "- Covered Service - A healthcare provider’s service or medical supplies covered by your health plan. Benefits will be given for these services based on your plan.Total Covered Charge Amount = the sum of all covered charges\n",
    "- Average Covered Charges = Total Covered Charge Amount / Total Discharges \n",
    "- Payment is the amount a hospital actually receives for providing patient care. This is the actual amount paid to a hospital by consumers, insurers or governments. The sources of payment are:\n",
    "- Medicare and Medicaid ,Private insurer if any, The Patient\n",
    "- Average Total Payments = Total Payments / Total Discharges\n",
    "- Average Medicare Payments = Medicare Payment Amount / Total Discharges\n",
    "- ===============================================================================================\n",
    "- Medical fraud occurs when a doctor purposefully submits false claims or makes false statements.\n",
    "- An efficient feature should be able to recognize outliers. Imagine if a doctor created a fake patient and generated numerous bills for that fake patient.\n",
    "- With the help of these features, healthcare data would be able to identify anomalies and fraud.\n",
    "\n",
    "\n",
    "\n",
    "## Table of Contents\n",
    "* [Section 1: Data preparation](#Section_1)\n",
    "    * [Section 1.1: Load data](#Section_11)\n",
    "    * [Section 1.2: Data preparation](#Section_12)\n",
    "* [Section 2: EDA](#Section_2)\n",
    "    * [Section 2.1: Distribution plots](#Section_21)\n",
    "    * [Section 2.2: Count by Name](#Section_22)    \n",
    "    * [Section 2.3: Count by Cities](#Section_23)\n",
    "    * [Section 2.4: Count by State ](#Section_24)\n",
    "    * [Section 2.5: Distribution of payments of different procedures for the top 5 discharges](#Section_25)\n",
    "    * [Section 2.6: Distribution of payments of Hospital regions for the top 5 discharges](#Section_26)\n",
    "* [Section 3: Feature engineering](#Section_3)\n",
    "    * [Section 3.1: Ratio count of average total payments per state for each drug procedure](#Section_31)\n",
    "    * [Section 3.2: Ratio count of median total payments per state for each drug](#Section_32)\n",
    "    * [Section 3.3: Ratio count of total covered charges per provider for each hospital](#Section_33)  \n",
    "    * [Section 3.4: Ratio count of average medicare charges per provider state for each drug](#Section_34)  \n",
    "    * [Section 3.5: Ratio count of average number of discharges for each hospital per individual clinical procedure](#Section_35)  \n",
    "    * [Section 3.6: Ratio count of average covered charges for each hosp per drug](#Section_36)  \n",
    "    * [Section 3.7: Ratio count of average medicare payments zipcode wise](#Section_37)  \n",
    "    * [Section 3.8: Ratio count of Average medicare payments for hosp and drug](#Section_38)  \n",
    "    * [Section 3.9: Ratio count of Median medicare Payments for hosp and drug](#Section_39)  \n",
    "    * [Section 3.10:Ratio count of median medicare payments for each state and drugs](#Section_40)   \n",
    "\n",
    "* [Section 4:Anomaly Detection with PyOD using HBOS](#Section_4) \n",
    "    * [Section 4.1:Histogram Based Outlier Detection (HBOS)](#Section_41) \n",
    "    * [Section 4.2:Business Insights](#Section_42) "
   ]
  },
  {
   "cell_type": "markdown",
   "id": "65e5d0ff",
   "metadata": {},
   "source": [
    "## Section 1: Data preparation <a class=\"anchor\" id=\"Section_1\"></a>\n",
    "* Import packages and data \n",
    "* Rename column\n",
    "* Change data type and transfer spending amount with dollar sign into numeric\n",
    "* Understand the data strcuture. "
   ]
  },
  {
   "cell_type": "markdown",
   "id": "1de88abb",
   "metadata": {},
   "source": [
    "### 1.1 Load Data <a class=\"anchor\" id=\"Section_11\"></a>"
   ]
  },
  {
   "cell_type": "code",
   "execution_count": 1,
   "id": "9ee273f4",
   "metadata": {},
   "outputs": [],
   "source": [
    "import pandas as pd\n",
    "import numpy as np\n",
    "import plotly\n",
    "import plotly.express as px\n",
    "from datetime import datetime\n",
    "import matplotlib.pyplot as plt\n",
    "import seaborn as sns"
   ]
  },
  {
   "cell_type": "code",
   "execution_count": 2,
   "id": "275469b2",
   "metadata": {},
   "outputs": [],
   "source": [
    "#!pip install --upgrade seaborn"
   ]
  },
  {
   "cell_type": "code",
   "execution_count": 3,
   "id": "a4fbb4b9",
   "metadata": {},
   "outputs": [],
   "source": [
    "df = pd.read_csv('/Users/arshithas/Documents/APAN/Sem2/Anamoly_Detection/A4/inpatientCharges.csv')"
   ]
  },
  {
   "cell_type": "code",
   "execution_count": 4,
   "id": "a520ac48",
   "metadata": {},
   "outputs": [
    {
     "data": {
      "text/html": [
       "<div>\n",
       "<style scoped>\n",
       "    .dataframe tbody tr th:only-of-type {\n",
       "        vertical-align: middle;\n",
       "    }\n",
       "\n",
       "    .dataframe tbody tr th {\n",
       "        vertical-align: top;\n",
       "    }\n",
       "\n",
       "    .dataframe thead th {\n",
       "        text-align: right;\n",
       "    }\n",
       "</style>\n",
       "<table border=\"1\" class=\"dataframe\">\n",
       "  <thead>\n",
       "    <tr style=\"text-align: right;\">\n",
       "      <th></th>\n",
       "      <th>DRG Definition</th>\n",
       "      <th>Provider Id</th>\n",
       "      <th>Provider Name</th>\n",
       "      <th>Provider Street Address</th>\n",
       "      <th>Provider City</th>\n",
       "      <th>Provider State</th>\n",
       "      <th>Provider Zip Code</th>\n",
       "      <th>Hospital Referral Region Description</th>\n",
       "      <th>Total Discharges</th>\n",
       "      <th>Average Covered Charges</th>\n",
       "      <th>Average Total Payments</th>\n",
       "      <th>Average Medicare Payments</th>\n",
       "    </tr>\n",
       "  </thead>\n",
       "  <tbody>\n",
       "    <tr>\n",
       "      <th>0</th>\n",
       "      <td>039 - EXTRACRANIAL PROCEDURES W/O CC/MCC</td>\n",
       "      <td>10001</td>\n",
       "      <td>SOUTHEAST ALABAMA MEDICAL CENTER</td>\n",
       "      <td>1108 ROSS CLARK CIRCLE</td>\n",
       "      <td>DOTHAN</td>\n",
       "      <td>AL</td>\n",
       "      <td>36301</td>\n",
       "      <td>AL - Dothan</td>\n",
       "      <td>91</td>\n",
       "      <td>$32963.07</td>\n",
       "      <td>$5777.24</td>\n",
       "      <td>$4763.73</td>\n",
       "    </tr>\n",
       "    <tr>\n",
       "      <th>1</th>\n",
       "      <td>039 - EXTRACRANIAL PROCEDURES W/O CC/MCC</td>\n",
       "      <td>10005</td>\n",
       "      <td>MARSHALL MEDICAL CENTER SOUTH</td>\n",
       "      <td>2505 U S HIGHWAY 431 NORTH</td>\n",
       "      <td>BOAZ</td>\n",
       "      <td>AL</td>\n",
       "      <td>35957</td>\n",
       "      <td>AL - Birmingham</td>\n",
       "      <td>14</td>\n",
       "      <td>$15131.85</td>\n",
       "      <td>$5787.57</td>\n",
       "      <td>$4976.71</td>\n",
       "    </tr>\n",
       "    <tr>\n",
       "      <th>2</th>\n",
       "      <td>039 - EXTRACRANIAL PROCEDURES W/O CC/MCC</td>\n",
       "      <td>10006</td>\n",
       "      <td>ELIZA COFFEE MEMORIAL HOSPITAL</td>\n",
       "      <td>205 MARENGO STREET</td>\n",
       "      <td>FLORENCE</td>\n",
       "      <td>AL</td>\n",
       "      <td>35631</td>\n",
       "      <td>AL - Birmingham</td>\n",
       "      <td>24</td>\n",
       "      <td>$37560.37</td>\n",
       "      <td>$5434.95</td>\n",
       "      <td>$4453.79</td>\n",
       "    </tr>\n",
       "    <tr>\n",
       "      <th>3</th>\n",
       "      <td>039 - EXTRACRANIAL PROCEDURES W/O CC/MCC</td>\n",
       "      <td>10011</td>\n",
       "      <td>ST VINCENT'S EAST</td>\n",
       "      <td>50 MEDICAL PARK EAST DRIVE</td>\n",
       "      <td>BIRMINGHAM</td>\n",
       "      <td>AL</td>\n",
       "      <td>35235</td>\n",
       "      <td>AL - Birmingham</td>\n",
       "      <td>25</td>\n",
       "      <td>$13998.28</td>\n",
       "      <td>$5417.56</td>\n",
       "      <td>$4129.16</td>\n",
       "    </tr>\n",
       "    <tr>\n",
       "      <th>4</th>\n",
       "      <td>039 - EXTRACRANIAL PROCEDURES W/O CC/MCC</td>\n",
       "      <td>10016</td>\n",
       "      <td>SHELBY BAPTIST MEDICAL CENTER</td>\n",
       "      <td>1000 FIRST STREET NORTH</td>\n",
       "      <td>ALABASTER</td>\n",
       "      <td>AL</td>\n",
       "      <td>35007</td>\n",
       "      <td>AL - Birmingham</td>\n",
       "      <td>18</td>\n",
       "      <td>$31633.27</td>\n",
       "      <td>$5658.33</td>\n",
       "      <td>$4851.44</td>\n",
       "    </tr>\n",
       "  </tbody>\n",
       "</table>\n",
       "</div>"
      ],
      "text/plain": [
       "                             DRG Definition  Provider Id  \\\n",
       "0  039 - EXTRACRANIAL PROCEDURES W/O CC/MCC        10001   \n",
       "1  039 - EXTRACRANIAL PROCEDURES W/O CC/MCC        10005   \n",
       "2  039 - EXTRACRANIAL PROCEDURES W/O CC/MCC        10006   \n",
       "3  039 - EXTRACRANIAL PROCEDURES W/O CC/MCC        10011   \n",
       "4  039 - EXTRACRANIAL PROCEDURES W/O CC/MCC        10016   \n",
       "\n",
       "                      Provider Name     Provider Street Address Provider City  \\\n",
       "0  SOUTHEAST ALABAMA MEDICAL CENTER      1108 ROSS CLARK CIRCLE        DOTHAN   \n",
       "1     MARSHALL MEDICAL CENTER SOUTH  2505 U S HIGHWAY 431 NORTH          BOAZ   \n",
       "2    ELIZA COFFEE MEMORIAL HOSPITAL          205 MARENGO STREET      FLORENCE   \n",
       "3                 ST VINCENT'S EAST  50 MEDICAL PARK EAST DRIVE    BIRMINGHAM   \n",
       "4     SHELBY BAPTIST MEDICAL CENTER     1000 FIRST STREET NORTH     ALABASTER   \n",
       "\n",
       "  Provider State  Provider Zip Code Hospital Referral Region Description  \\\n",
       "0             AL              36301                          AL - Dothan   \n",
       "1             AL              35957                      AL - Birmingham   \n",
       "2             AL              35631                      AL - Birmingham   \n",
       "3             AL              35235                      AL - Birmingham   \n",
       "4             AL              35007                      AL - Birmingham   \n",
       "\n",
       "    Total Discharges   Average Covered Charges   Average Total Payments   \\\n",
       "0                  91                 $32963.07                 $5777.24   \n",
       "1                  14                 $15131.85                 $5787.57   \n",
       "2                  24                 $37560.37                 $5434.95   \n",
       "3                  25                 $13998.28                 $5417.56   \n",
       "4                  18                 $31633.27                 $5658.33   \n",
       "\n",
       "  Average Medicare Payments  \n",
       "0                  $4763.73  \n",
       "1                  $4976.71  \n",
       "2                  $4453.79  \n",
       "3                  $4129.16  \n",
       "4                  $4851.44  "
      ]
     },
     "execution_count": 4,
     "metadata": {},
     "output_type": "execute_result"
    }
   ],
   "source": [
    "df.head()"
   ]
  },
  {
   "cell_type": "code",
   "execution_count": 5,
   "id": "5685587a",
   "metadata": {},
   "outputs": [
    {
     "data": {
      "text/plain": [
       "(163065, 12)"
      ]
     },
     "execution_count": 5,
     "metadata": {},
     "output_type": "execute_result"
    }
   ],
   "source": [
    "df.shape"
   ]
  },
  {
   "cell_type": "code",
   "execution_count": 6,
   "id": "bb516d40",
   "metadata": {},
   "outputs": [
    {
     "data": {
      "text/plain": [
       "Index(['DRG Definition', 'Provider Id', 'Provider Name',\n",
       "       'Provider Street Address', 'Provider City', 'Provider State',\n",
       "       'Provider Zip Code', 'Hospital Referral Region Description',\n",
       "       ' Total Discharges ', ' Average Covered Charges ',\n",
       "       ' Average Total Payments ', 'Average Medicare Payments'],\n",
       "      dtype='object')"
      ]
     },
     "execution_count": 6,
     "metadata": {},
     "output_type": "execute_result"
    }
   ],
   "source": [
    "df.columns"
   ]
  },
  {
   "cell_type": "markdown",
   "id": "be547e48",
   "metadata": {},
   "source": [
    "### 1.2 Data Preparation <a class=\"anchor\" id=\"Section_12\"></a>"
   ]
  },
  {
   "cell_type": "code",
   "execution_count": 7,
   "id": "380b462f",
   "metadata": {},
   "outputs": [],
   "source": [
    "df.columns = ['DRG_Definition', 'Provider_Id', 'Provider_Name',\n",
    "       'Provider_Street_Address', 'Provider_City', 'Provider_State',\n",
    "       'Provider_Zip_Code', 'Hospital_Referral_Region_Description',\n",
    "       'Total_Discharges', 'Average_Covered_Charges',\n",
    "       'Average_Total_Payments', 'Average_Medicare_Payments']"
   ]
  },
  {
   "cell_type": "code",
   "execution_count": 8,
   "id": "4e55aa9d",
   "metadata": {},
   "outputs": [
    {
     "name": "stderr",
     "output_type": "stream",
     "text": [
      "/var/folders/gr/f5m4xwn94f30827t7nnxzvy40000gn/T/ipykernel_3470/3306472758.py:6: FutureWarning: The default value of regex will change from True to False in a future version.\n",
      "  df['Average_Total_Payments'] = (df['Average_Total_Payments'].astype(str)\n",
      "/var/folders/gr/f5m4xwn94f30827t7nnxzvy40000gn/T/ipykernel_3470/3306472758.py:8: FutureWarning: The default value of regex will change from True to False in a future version.\n",
      "  df['Average_Covered_Charges'] = (df['Average_Covered_Charges'].astype(str)\n",
      "/var/folders/gr/f5m4xwn94f30827t7nnxzvy40000gn/T/ipykernel_3470/3306472758.py:10: FutureWarning: The default value of regex will change from True to False in a future version.\n",
      "  df['Average_Medicare_Payments'] = (df['Average_Medicare_Payments'].astype(str)\n"
     ]
    }
   ],
   "source": [
    "# Change data type and transfer spending amount with dollar sign into numeric\n",
    "df['DRG_Definition'] = df['DRG_Definition'].astype('category')\n",
    "df['Provider_State'] = df['Provider_State'].astype('category')\n",
    "df['Provider_City'] = df['Provider_City'].astype('category')\n",
    "df['Provider_Id'] = df['Provider_Id'].astype('category')\n",
    "df['Average_Total_Payments'] = (df['Average_Total_Payments'].astype(str)\n",
    "                             .str.replace(r'[^-+\\d.]', '').astype(float))\n",
    "df['Average_Covered_Charges'] = (df['Average_Covered_Charges'].astype(str)\n",
    "                              .str.replace(r'[^-+\\d.]', '').astype(float))\n",
    "df['Average_Medicare_Payments'] = (df['Average_Medicare_Payments'].astype(str)\n",
    "                              .str.replace(r'[^-+\\d.]', '').astype(float))"
   ]
  },
  {
   "cell_type": "markdown",
   "id": "6576cdf3",
   "metadata": {},
   "source": [
    "## 2. EDA <a class=\"anchor\" id=\"Section_2\"></a>"
   ]
  },
  {
   "cell_type": "markdown",
   "id": "fa926ddd",
   "metadata": {},
   "source": [
    "### 2.1 Distribution Plot <a class=\"anchor\" id=\"Section_21\"></a>"
   ]
  },
  {
   "cell_type": "code",
   "execution_count": 9,
   "id": "1df5c582",
   "metadata": {},
   "outputs": [
    {
     "data": {
      "text/plain": [
       "<AxesSubplot:xlabel='Average_Total_Payments', ylabel='Count'>"
      ]
     },
     "execution_count": 9,
     "metadata": {},
     "output_type": "execute_result"
    },
    {
     "data": {
      "image/png": "[encoded data removed]",
      "text/plain": [
       "<Figure size 720x360 with 1 Axes>"
      ]
     },
     "metadata": {
      "needs_background": "light"
     },
     "output_type": "display_data"
    }
   ],
   "source": [
    "plt.figure(figsize=(10,5)) # Plot a graph with reasonable size.\n",
    "sns.histplot(df['Average_Total_Payments'])\n",
    "# plt.plot(data['Average_Total_Payments'])"
   ]
  },
  {
   "cell_type": "markdown",
   "id": "9e9872d5",
   "metadata": {},
   "source": [
    "### 2.2 Count By Provider Name <a class=\"anchor\" id=\"Section_22\"></a>"
   ]
  },
  {
   "cell_type": "markdown",
   "id": "b965acc8",
   "metadata": {},
   "source": [
    "According to the graph below, \"Good Samaritan Hospital\" has the most hospital divisions."
   ]
  },
  {
   "cell_type": "code",
   "execution_count": 10,
   "id": "392f1e81",
   "metadata": {},
   "outputs": [
    {
     "data": {
      "image/png": "[encoded data removed]",
      "text/plain": [
       "<Figure size 1080x360 with 1 Axes>"
      ]
     },
     "metadata": {
      "needs_background": "light"
     },
     "output_type": "display_data"
    }
   ],
   "source": [
    "plt.figure(figsize=(15,5))\n",
    "txt = df['Provider_Name'].value_counts()[:20].index\n",
    "\n",
    "chart = sns.countplot(\n",
    "    x='Provider_Name' ,data=df , order=txt\n",
    ")\n",
    "\n",
    "_ = chart.set_xticklabels(chart.get_xticklabels(), rotation=45)\n",
    "plt.rcParams[\"axes.labelsize\"] = 10"
   ]
  },
  {
   "cell_type": "markdown",
   "id": "a9bff774",
   "metadata": {},
   "source": [
    "### 2.3 Count by City <a class=\"anchor\" id=\"Section_23\"></a>"
   ]
  },
  {
   "cell_type": "markdown",
   "id": "95770232",
   "metadata": {},
   "source": [
    "- From the graph below, we observe that Chicago has highest number of hospital divisions"
   ]
  },
  {
   "cell_type": "code",
   "execution_count": 11,
   "id": "d56a6ca3",
   "metadata": {},
   "outputs": [
    {
     "data": {
      "image/png": "[encoded data removed]",
      "text/plain": [
       "<Figure size 1080x360 with 1 Axes>"
      ]
     },
     "metadata": {
      "needs_background": "light"
     },
     "output_type": "display_data"
    }
   ],
   "source": [
    "plt.figure(figsize=(15,5))\n",
    "txt = df['Provider_City'].value_counts()[:20].index\n",
    "\n",
    "chart = sns.countplot(\n",
    "    x='Provider_City' ,data=df , order=txt\n",
    ")\n",
    "\n",
    "_ = chart.set_xticklabels(chart.get_xticklabels(), rotation=45)\n",
    "plt.rcParams[\"axes.labelsize\"] = 10"
   ]
  },
  {
   "cell_type": "markdown",
   "id": "d36ae0e1",
   "metadata": {},
   "source": [
    "### 2.4 Count by State <a class=\"anchor\" id=\"Section_24\"></a>"
   ]
  },
  {
   "cell_type": "markdown",
   "id": "18e86048",
   "metadata": {},
   "source": [
    "- From the graph below, we observe that California, Texas and Florida have highest number of hospital divisions"
   ]
  },
  {
   "cell_type": "code",
   "execution_count": 12,
   "id": "033f8142",
   "metadata": {},
   "outputs": [
    {
     "data": {
      "image/png": "[encoded data removed]",
      "text/plain": [
       "<Figure size 1080x360 with 1 Axes>"
      ]
     },
     "metadata": {
      "needs_background": "light"
     },
     "output_type": "display_data"
    }
   ],
   "source": [
    "\n",
    "plt.figure(figsize=(15,5))\n",
    "sns.countplot(x='Provider_State',data=df,order=df['Provider_State'].value_counts().index)\n",
    "\n",
    "plt.rcParams[\"axes.labelsize\"] = 20"
   ]
  },
  {
   "cell_type": "markdown",
   "id": "ea0768d3",
   "metadata": {},
   "source": [
    "### 2.5 Distribution of payments of different procedures for the top 5 discharges <a class=\"anchor\" id=\"Section_25\"></a>"
   ]
  },
  {
   "cell_type": "markdown",
   "id": "dba3c22f",
   "metadata": {},
   "source": [
    "- Attempted to take the top five discharges in terms of the diagnosis procedures. The highest Average Covered Charges for all industries can be seen in the payments distribution."
   ]
  },
  {
   "cell_type": "code",
   "execution_count": 13,
   "id": "92497012",
   "metadata": {},
   "outputs": [
    {
     "data": {
      "text/html": [
       "<div>\n",
       "<style scoped>\n",
       "    .dataframe tbody tr th:only-of-type {\n",
       "        vertical-align: middle;\n",
       "    }\n",
       "\n",
       "    .dataframe tbody tr th {\n",
       "        vertical-align: top;\n",
       "    }\n",
       "\n",
       "    .dataframe thead th {\n",
       "        text-align: right;\n",
       "    }\n",
       "</style>\n",
       "<table border=\"1\" class=\"dataframe\">\n",
       "  <thead>\n",
       "    <tr style=\"text-align: right;\">\n",
       "      <th></th>\n",
       "      <th>DRG_Definition</th>\n",
       "      <th>Average_Total_Payments</th>\n",
       "      <th>Average_Covered_Charges</th>\n",
       "      <th>Average_Medicare_Payments</th>\n",
       "      <th>Total_Discharges</th>\n",
       "    </tr>\n",
       "  </thead>\n",
       "  <tbody>\n",
       "    <tr>\n",
       "      <th>0</th>\n",
       "      <td>470 - MAJOR JOINT REPLACEMENT OR REATTACHMENT ...</td>\n",
       "      <td>14566.929215</td>\n",
       "      <td>52062.935927</td>\n",
       "      <td>12464.623622</td>\n",
       "      <td>427207</td>\n",
       "    </tr>\n",
       "    <tr>\n",
       "      <th>1</th>\n",
       "      <td>871 - SEPTICEMIA OR SEVERE SEPSIS W/O MV 96+ H...</td>\n",
       "      <td>13238.823385</td>\n",
       "      <td>45934.993962</td>\n",
       "      <td>12169.041668</td>\n",
       "      <td>319072</td>\n",
       "    </tr>\n",
       "    <tr>\n",
       "      <th>2</th>\n",
       "      <td>392 - ESOPHAGITIS, GASTROENT &amp; MISC DIGEST DIS...</td>\n",
       "      <td>5041.766136</td>\n",
       "      <td>19086.716512</td>\n",
       "      <td>3962.437668</td>\n",
       "      <td>244854</td>\n",
       "    </tr>\n",
       "    <tr>\n",
       "      <th>3</th>\n",
       "      <td>292 - HEART FAILURE &amp; SHOCK W CC</td>\n",
       "      <td>6957.831656</td>\n",
       "      <td>23517.980789</td>\n",
       "      <td>6132.341256</td>\n",
       "      <td>222038</td>\n",
       "    </tr>\n",
       "    <tr>\n",
       "      <th>4</th>\n",
       "      <td>690 - KIDNEY &amp; URINARY TRACT INFECTIONS W/O MCC</td>\n",
       "      <td>5353.763309</td>\n",
       "      <td>18280.231134</td>\n",
       "      <td>4437.804065</td>\n",
       "      <td>206695</td>\n",
       "    </tr>\n",
       "  </tbody>\n",
       "</table>\n",
       "</div>"
      ],
      "text/plain": [
       "                                      DRG_Definition  Average_Total_Payments  \\\n",
       "0  470 - MAJOR JOINT REPLACEMENT OR REATTACHMENT ...            14566.929215   \n",
       "1  871 - SEPTICEMIA OR SEVERE SEPSIS W/O MV 96+ H...            13238.823385   \n",
       "2  392 - ESOPHAGITIS, GASTROENT & MISC DIGEST DIS...             5041.766136   \n",
       "3                   292 - HEART FAILURE & SHOCK W CC             6957.831656   \n",
       "4    690 - KIDNEY & URINARY TRACT INFECTIONS W/O MCC             5353.763309   \n",
       "\n",
       "   Average_Covered_Charges  Average_Medicare_Payments  Total_Discharges  \n",
       "0             52062.935927               12464.623622            427207  \n",
       "1             45934.993962               12169.041668            319072  \n",
       "2             19086.716512                3962.437668            244854  \n",
       "3             23517.980789                6132.341256            222038  \n",
       "4             18280.231134                4437.804065            206695  "
      ]
     },
     "execution_count": 13,
     "metadata": {},
     "output_type": "execute_result"
    }
   ],
   "source": [
    "dff = df.groupby(['DRG_Definition']).agg({'Average_Total_Payments':'mean','Average_Covered_Charges':'mean','Average_Medicare_Payments':'mean','Total_Discharges':'sum'}).sort_values(by=['Total_Discharges'],ascending=False).reset_index()\n",
    "dff = dff[:5]\n",
    "dff"
   ]
  },
  {
   "cell_type": "code",
   "execution_count": 14,
   "id": "aaa2a199",
   "metadata": {},
   "outputs": [
    {
     "data": {
      "text/plain": [
       "<AxesSubplot:xlabel='DRG_Definition'>"
      ]
     },
     "execution_count": 14,
     "metadata": {},
     "output_type": "execute_result"
    },
    {
     "data": {
      "image/png": "[encoded data removed]",
      "text/plain": [
       "<Figure size 432x288 with 1 Axes>"
      ]
     },
     "metadata": {
      "needs_background": "light"
     },
     "output_type": "display_data"
    }
   ],
   "source": [
    "dff.plot(x=\"DRG_Definition\", y=['Average_Total_Payments','Average_Covered_Charges','Average_Medicare_Payments'], kind=\"bar\")\n",
    "#plt.xticks(rotation=75)"
   ]
  },
  {
   "cell_type": "markdown",
   "id": "52374a73",
   "metadata": {},
   "source": [
    "### 2.6 Distribution of payments of Hospital regions for the top 5 discharges  <a class=\"anchor\" id=\"Section_26\"></a>"
   ]
  },
  {
   "cell_type": "markdown",
   "id": "523a1325",
   "metadata": {},
   "source": [
    "- Similarly, we tried grouping with respect to the hospital divisons and observed that covered charges are leading among all other payments"
   ]
  },
  {
   "cell_type": "code",
   "execution_count": 15,
   "id": "f36df8df",
   "metadata": {},
   "outputs": [
    {
     "data": {
      "text/html": [
       "<div>\n",
       "<style scoped>\n",
       "    .dataframe tbody tr th:only-of-type {\n",
       "        vertical-align: middle;\n",
       "    }\n",
       "\n",
       "    .dataframe tbody tr th {\n",
       "        vertical-align: top;\n",
       "    }\n",
       "\n",
       "    .dataframe thead th {\n",
       "        text-align: right;\n",
       "    }\n",
       "</style>\n",
       "<table border=\"1\" class=\"dataframe\">\n",
       "  <thead>\n",
       "    <tr style=\"text-align: right;\">\n",
       "      <th></th>\n",
       "      <th>Hospital_Referral_Region_Description</th>\n",
       "      <th>Average_Total_Payments</th>\n",
       "      <th>Average_Covered_Charges</th>\n",
       "      <th>Average_Medicare_Payments</th>\n",
       "      <th>Total_Discharges</th>\n",
       "    </tr>\n",
       "  </thead>\n",
       "  <tbody>\n",
       "    <tr>\n",
       "      <th>0</th>\n",
       "      <td>MA - Boston</td>\n",
       "      <td>10496.979845</td>\n",
       "      <td>20962.989677</td>\n",
       "      <td>9488.572182</td>\n",
       "      <td>151896</td>\n",
       "    </tr>\n",
       "    <tr>\n",
       "      <th>1</th>\n",
       "      <td>CA - Los Angeles</td>\n",
       "      <td>12840.321481</td>\n",
       "      <td>68254.250964</td>\n",
       "      <td>11797.551443</td>\n",
       "      <td>141274</td>\n",
       "    </tr>\n",
       "    <tr>\n",
       "      <th>2</th>\n",
       "      <td>NY - East Long Island</td>\n",
       "      <td>12335.366658</td>\n",
       "      <td>40005.886040</td>\n",
       "      <td>10928.696223</td>\n",
       "      <td>117794</td>\n",
       "    </tr>\n",
       "    <tr>\n",
       "      <th>3</th>\n",
       "      <td>FL - Orlando</td>\n",
       "      <td>8387.049767</td>\n",
       "      <td>40544.937919</td>\n",
       "      <td>7232.012830</td>\n",
       "      <td>113759</td>\n",
       "    </tr>\n",
       "    <tr>\n",
       "      <th>4</th>\n",
       "      <td>NY - Manhattan</td>\n",
       "      <td>16076.525257</td>\n",
       "      <td>37339.499978</td>\n",
       "      <td>14939.505640</td>\n",
       "      <td>112363</td>\n",
       "    </tr>\n",
       "  </tbody>\n",
       "</table>\n",
       "</div>"
      ],
      "text/plain": [
       "  Hospital_Referral_Region_Description  Average_Total_Payments  \\\n",
       "0                          MA - Boston            10496.979845   \n",
       "1                     CA - Los Angeles            12840.321481   \n",
       "2                NY - East Long Island            12335.366658   \n",
       "3                         FL - Orlando             8387.049767   \n",
       "4                       NY - Manhattan            16076.525257   \n",
       "\n",
       "   Average_Covered_Charges  Average_Medicare_Payments  Total_Discharges  \n",
       "0             20962.989677                9488.572182            151896  \n",
       "1             68254.250964               11797.551443            141274  \n",
       "2             40005.886040               10928.696223            117794  \n",
       "3             40544.937919                7232.012830            113759  \n",
       "4             37339.499978               14939.505640            112363  "
      ]
     },
     "execution_count": 15,
     "metadata": {},
     "output_type": "execute_result"
    }
   ],
   "source": [
    "dff1 = df.groupby(['Hospital_Referral_Region_Description']).agg({'Average_Total_Payments':'mean','Average_Covered_Charges':'mean','Average_Medicare_Payments':'mean','Total_Discharges':'sum'}).sort_values(by=['Total_Discharges'],ascending=False).reset_index()\n",
    "dff1 = dff1[:5]\n",
    "dff1"
   ]
  },
  {
   "cell_type": "code",
   "execution_count": 16,
   "id": "7241b31b",
   "metadata": {},
   "outputs": [
    {
     "data": {
      "text/plain": [
       "<AxesSubplot:xlabel='Hospital_Referral_Region_Description'>"
      ]
     },
     "execution_count": 16,
     "metadata": {},
     "output_type": "execute_result"
    },
    {
     "data": {
      "image/png": "[encoded data removed]",
      "text/plain": [
       "<Figure size 432x288 with 1 Axes>"
      ]
     },
     "metadata": {
      "needs_background": "light"
     },
     "output_type": "display_data"
    }
   ],
   "source": [
    "dff1.plot(x=\"Hospital_Referral_Region_Description\", y=['Average_Total_Payments','Average_Covered_Charges','Average_Medicare_Payments'], kind=\"bar\")"
   ]
  },
  {
   "cell_type": "markdown",
   "id": "acbe7dcd",
   "metadata": {},
   "source": [
    "## 3. Feature Engineering"
   ]
  },
  {
   "cell_type": "markdown",
   "id": "cd6ab601",
   "metadata": {},
   "source": [
    "- We create various features for the given data which can help identify the outliers and understand the data accurately. "
   ]
  },
  {
   "cell_type": "markdown",
   "id": "dcbde8ff",
   "metadata": {},
   "source": [
    "### 3.1 Ratio count of average total payments per state for each diagnosis procedure"
   ]
  },
  {
   "cell_type": "markdown",
   "id": "8bb2cf0b",
   "metadata": {},
   "source": [
    "- Idea: We calculated the mean of average total payments grouping by state and diagnosis procedure and tried to check if there are any payments that are deviating from the mean so that we could claim it as fraud. We can check which state is involving more abusive physicians who are charging more for diagnosis procedure.\n",
    "- This comes under abusive behaviour. \n",
    "- This feature enables us to identify the abnormal charges for which the patient will be responsible and any additional payments by third parties for coordination of benefits."
   ]
  },
  {
   "cell_type": "code",
   "execution_count": 17,
   "id": "01f20885",
   "metadata": {},
   "outputs": [
    {
     "data": {
      "text/html": [
       "<div>\n",
       "<style scoped>\n",
       "    .dataframe tbody tr th:only-of-type {\n",
       "        vertical-align: middle;\n",
       "    }\n",
       "\n",
       "    .dataframe tbody tr th {\n",
       "        vertical-align: top;\n",
       "    }\n",
       "\n",
       "    .dataframe thead th {\n",
       "        text-align: right;\n",
       "    }\n",
       "</style>\n",
       "<table border=\"1\" class=\"dataframe\">\n",
       "  <thead>\n",
       "    <tr style=\"text-align: right;\">\n",
       "      <th></th>\n",
       "      <th>Provider_State</th>\n",
       "      <th>DRG_Definition</th>\n",
       "      <th>Avg_Payment_ByStateDRG</th>\n",
       "    </tr>\n",
       "  </thead>\n",
       "  <tbody>\n",
       "    <tr>\n",
       "      <th>0</th>\n",
       "      <td>AK</td>\n",
       "      <td>039 - EXTRACRANIAL PROCEDURES W/O CC/MCC</td>\n",
       "      <td>8401.950000</td>\n",
       "    </tr>\n",
       "    <tr>\n",
       "      <th>1</th>\n",
       "      <td>AK</td>\n",
       "      <td>057 - DEGENERATIVE NERVOUS SYSTEM DISORDERS W/...</td>\n",
       "      <td>8799.000000</td>\n",
       "    </tr>\n",
       "    <tr>\n",
       "      <th>2</th>\n",
       "      <td>AK</td>\n",
       "      <td>064 - INTRACRANIAL HEMORRHAGE OR CEREBRAL INFA...</td>\n",
       "      <td>21608.010000</td>\n",
       "    </tr>\n",
       "    <tr>\n",
       "      <th>3</th>\n",
       "      <td>AK</td>\n",
       "      <td>065 - INTRACRANIAL HEMORRHAGE OR CEREBRAL INFA...</td>\n",
       "      <td>12555.548333</td>\n",
       "    </tr>\n",
       "    <tr>\n",
       "      <th>4</th>\n",
       "      <td>AK</td>\n",
       "      <td>066 - INTRACRANIAL HEMORRHAGE OR CEREBRAL INFA...</td>\n",
       "      <td>9275.867500</td>\n",
       "    </tr>\n",
       "  </tbody>\n",
       "</table>\n",
       "</div>"
      ],
      "text/plain": [
       "  Provider_State                                     DRG_Definition  \\\n",
       "0             AK           039 - EXTRACRANIAL PROCEDURES W/O CC/MCC   \n",
       "1             AK  057 - DEGENERATIVE NERVOUS SYSTEM DISORDERS W/...   \n",
       "2             AK  064 - INTRACRANIAL HEMORRHAGE OR CEREBRAL INFA...   \n",
       "3             AK  065 - INTRACRANIAL HEMORRHAGE OR CEREBRAL INFA...   \n",
       "4             AK  066 - INTRACRANIAL HEMORRHAGE OR CEREBRAL INFA...   \n",
       "\n",
       "   Avg_Payment_ByStateDRG  \n",
       "0             8401.950000  \n",
       "1             8799.000000  \n",
       "2            21608.010000  \n",
       "3            12555.548333  \n",
       "4             9275.867500  "
      ]
     },
     "execution_count": 17,
     "metadata": {},
     "output_type": "execute_result"
    }
   ],
   "source": [
    "a = df.groupby(['Provider_State','DRG_Definition'])['Average_Total_Payments'].mean().reset_index()\n",
    "a.columns = ['Provider_State','DRG_Definition','Avg_Payment_ByStateDRG']\n",
    "a.head()"
   ]
  },
  {
   "cell_type": "code",
   "execution_count": 18,
   "id": "cabadee1",
   "metadata": {},
   "outputs": [
    {
     "data": {
      "text/plain": [
       "count    163065.000000\n",
       "mean          1.000000\n",
       "std           0.195274\n",
       "min           0.384805\n",
       "25%           0.880824\n",
       "50%           0.956830\n",
       "75%           1.064688\n",
       "max           7.857934\n",
       "Name: state_drug_avg_ratio_amount, dtype: float64"
      ]
     },
     "execution_count": 18,
     "metadata": {},
     "output_type": "execute_result"
    }
   ],
   "source": [
    "df1 = pd.merge(df, a, how='left', on=['Provider_State','DRG_Definition'])\n",
    "# Feature 1: ratio of amount spending and avergae spending by merchant category \n",
    "df1['state_drug_avg_ratio_amount'] = np.where(df1['Avg_Payment_ByStateDRG']==0,0, df1['Average_Total_Payments'] / df1['Avg_Payment_ByStateDRG'])\n",
    "df1['state_drug_avg_ratio_amount'].describe()"
   ]
  },
  {
   "cell_type": "code",
   "execution_count": 19,
   "id": "807bc0f3",
   "metadata": {},
   "outputs": [
    {
     "data": {
      "text/html": [
       "<div>\n",
       "<style scoped>\n",
       "    .dataframe tbody tr th:only-of-type {\n",
       "        vertical-align: middle;\n",
       "    }\n",
       "\n",
       "    .dataframe tbody tr th {\n",
       "        vertical-align: top;\n",
       "    }\n",
       "\n",
       "    .dataframe thead th {\n",
       "        text-align: right;\n",
       "    }\n",
       "</style>\n",
       "<table border=\"1\" class=\"dataframe\">\n",
       "  <thead>\n",
       "    <tr style=\"text-align: right;\">\n",
       "      <th></th>\n",
       "      <th>DRG_Definition</th>\n",
       "      <th>Provider_Id</th>\n",
       "      <th>Provider_Name</th>\n",
       "      <th>Provider_Street_Address</th>\n",
       "      <th>Provider_City</th>\n",
       "      <th>Provider_State</th>\n",
       "      <th>Provider_Zip_Code</th>\n",
       "      <th>Hospital_Referral_Region_Description</th>\n",
       "      <th>Total_Discharges</th>\n",
       "      <th>Average_Covered_Charges</th>\n",
       "      <th>Average_Total_Payments</th>\n",
       "      <th>Average_Medicare_Payments</th>\n",
       "      <th>Avg_Payment_ByStateDRG</th>\n",
       "      <th>state_drug_avg_ratio_amount</th>\n",
       "      <th>state_drug_avg_ratio_amount_D</th>\n",
       "    </tr>\n",
       "  </thead>\n",
       "  <tbody>\n",
       "    <tr>\n",
       "      <th>0</th>\n",
       "      <td>039 - EXTRACRANIAL PROCEDURES W/O CC/MCC</td>\n",
       "      <td>10001</td>\n",
       "      <td>SOUTHEAST ALABAMA MEDICAL CENTER</td>\n",
       "      <td>1108 ROSS CLARK CIRCLE</td>\n",
       "      <td>DOTHAN</td>\n",
       "      <td>AL</td>\n",
       "      <td>36301</td>\n",
       "      <td>AL - Dothan</td>\n",
       "      <td>91</td>\n",
       "      <td>32963.07</td>\n",
       "      <td>5777.24</td>\n",
       "      <td>4763.73</td>\n",
       "      <td>5743.611739</td>\n",
       "      <td>1.005855</td>\n",
       "      <td>(0.957, 1.102]</td>\n",
       "    </tr>\n",
       "    <tr>\n",
       "      <th>1</th>\n",
       "      <td>039 - EXTRACRANIAL PROCEDURES W/O CC/MCC</td>\n",
       "      <td>10005</td>\n",
       "      <td>MARSHALL MEDICAL CENTER SOUTH</td>\n",
       "      <td>2505 U S HIGHWAY 431 NORTH</td>\n",
       "      <td>BOAZ</td>\n",
       "      <td>AL</td>\n",
       "      <td>35957</td>\n",
       "      <td>AL - Birmingham</td>\n",
       "      <td>14</td>\n",
       "      <td>15131.85</td>\n",
       "      <td>5787.57</td>\n",
       "      <td>4976.71</td>\n",
       "      <td>5743.611739</td>\n",
       "      <td>1.007653</td>\n",
       "      <td>(0.957, 1.102]</td>\n",
       "    </tr>\n",
       "    <tr>\n",
       "      <th>2</th>\n",
       "      <td>039 - EXTRACRANIAL PROCEDURES W/O CC/MCC</td>\n",
       "      <td>10006</td>\n",
       "      <td>ELIZA COFFEE MEMORIAL HOSPITAL</td>\n",
       "      <td>205 MARENGO STREET</td>\n",
       "      <td>FLORENCE</td>\n",
       "      <td>AL</td>\n",
       "      <td>35631</td>\n",
       "      <td>AL - Birmingham</td>\n",
       "      <td>24</td>\n",
       "      <td>37560.37</td>\n",
       "      <td>5434.95</td>\n",
       "      <td>4453.79</td>\n",
       "      <td>5743.611739</td>\n",
       "      <td>0.946260</td>\n",
       "      <td>(0.864, 0.957]</td>\n",
       "    </tr>\n",
       "    <tr>\n",
       "      <th>3</th>\n",
       "      <td>039 - EXTRACRANIAL PROCEDURES W/O CC/MCC</td>\n",
       "      <td>10011</td>\n",
       "      <td>ST VINCENT'S EAST</td>\n",
       "      <td>50 MEDICAL PARK EAST DRIVE</td>\n",
       "      <td>BIRMINGHAM</td>\n",
       "      <td>AL</td>\n",
       "      <td>35235</td>\n",
       "      <td>AL - Birmingham</td>\n",
       "      <td>25</td>\n",
       "      <td>13998.28</td>\n",
       "      <td>5417.56</td>\n",
       "      <td>4129.16</td>\n",
       "      <td>5743.611739</td>\n",
       "      <td>0.943232</td>\n",
       "      <td>(0.864, 0.957]</td>\n",
       "    </tr>\n",
       "    <tr>\n",
       "      <th>4</th>\n",
       "      <td>039 - EXTRACRANIAL PROCEDURES W/O CC/MCC</td>\n",
       "      <td>10016</td>\n",
       "      <td>SHELBY BAPTIST MEDICAL CENTER</td>\n",
       "      <td>1000 FIRST STREET NORTH</td>\n",
       "      <td>ALABASTER</td>\n",
       "      <td>AL</td>\n",
       "      <td>35007</td>\n",
       "      <td>AL - Birmingham</td>\n",
       "      <td>18</td>\n",
       "      <td>31633.27</td>\n",
       "      <td>5658.33</td>\n",
       "      <td>4851.44</td>\n",
       "      <td>5743.611739</td>\n",
       "      <td>0.985152</td>\n",
       "      <td>(0.957, 1.102]</td>\n",
       "    </tr>\n",
       "  </tbody>\n",
       "</table>\n",
       "</div>"
      ],
      "text/plain": [
       "                             DRG_Definition Provider_Id  \\\n",
       "0  039 - EXTRACRANIAL PROCEDURES W/O CC/MCC       10001   \n",
       "1  039 - EXTRACRANIAL PROCEDURES W/O CC/MCC       10005   \n",
       "2  039 - EXTRACRANIAL PROCEDURES W/O CC/MCC       10006   \n",
       "3  039 - EXTRACRANIAL PROCEDURES W/O CC/MCC       10011   \n",
       "4  039 - EXTRACRANIAL PROCEDURES W/O CC/MCC       10016   \n",
       "\n",
       "                      Provider_Name     Provider_Street_Address Provider_City  \\\n",
       "0  SOUTHEAST ALABAMA MEDICAL CENTER      1108 ROSS CLARK CIRCLE        DOTHAN   \n",
       "1     MARSHALL MEDICAL CENTER SOUTH  2505 U S HIGHWAY 431 NORTH          BOAZ   \n",
       "2    ELIZA COFFEE MEMORIAL HOSPITAL          205 MARENGO STREET      FLORENCE   \n",
       "3                 ST VINCENT'S EAST  50 MEDICAL PARK EAST DRIVE    BIRMINGHAM   \n",
       "4     SHELBY BAPTIST MEDICAL CENTER     1000 FIRST STREET NORTH     ALABASTER   \n",
       "\n",
       "  Provider_State  Provider_Zip_Code Hospital_Referral_Region_Description  \\\n",
       "0             AL              36301                          AL - Dothan   \n",
       "1             AL              35957                      AL - Birmingham   \n",
       "2             AL              35631                      AL - Birmingham   \n",
       "3             AL              35235                      AL - Birmingham   \n",
       "4             AL              35007                      AL - Birmingham   \n",
       "\n",
       "   Total_Discharges  Average_Covered_Charges  Average_Total_Payments  \\\n",
       "0                91                 32963.07                 5777.24   \n",
       "1                14                 15131.85                 5787.57   \n",
       "2                24                 37560.37                 5434.95   \n",
       "3                25                 13998.28                 5417.56   \n",
       "4                18                 31633.27                 5658.33   \n",
       "\n",
       "   Average_Medicare_Payments  Avg_Payment_ByStateDRG  \\\n",
       "0                    4763.73             5743.611739   \n",
       "1                    4976.71             5743.611739   \n",
       "2                    4453.79             5743.611739   \n",
       "3                    4129.16             5743.611739   \n",
       "4                    4851.44             5743.611739   \n",
       "\n",
       "   state_drug_avg_ratio_amount state_drug_avg_ratio_amount_D  \n",
       "0                     1.005855                (0.957, 1.102]  \n",
       "1                     1.007653                (0.957, 1.102]  \n",
       "2                     0.946260                (0.864, 0.957]  \n",
       "3                     0.943232                (0.864, 0.957]  \n",
       "4                     0.985152                (0.957, 1.102]  "
      ]
     },
     "execution_count": 19,
     "metadata": {},
     "output_type": "execute_result"
    }
   ],
   "source": [
    "var = 'state_drug_avg_ratio_amount'\n",
    "binned_var = var + '_D'\n",
    "percentile = [0,0.01,0.05,0.2,0.5,0.8,0.95,0.99,1]\n",
    "df1[binned_var] = pd.qcut( df1[var],percentile)\n",
    "df1[['state_drug_avg_ratio_amount_D']]\n",
    "df1.head()\n"
   ]
  },
  {
   "cell_type": "code",
   "execution_count": 20,
   "id": "7ea54235",
   "metadata": {},
   "outputs": [
    {
     "data": {
      "text/plain": [
       "[Text(0, 0, '(0.384, 0.694]'),\n",
       " Text(1, 0, '(0.694, 0.785]'),\n",
       " Text(2, 0, '(0.785, 0.864]'),\n",
       " Text(3, 0, '(0.864, 0.957]'),\n",
       " Text(4, 0, '(0.957, 1.102]'),\n",
       " Text(5, 0, '(1.102, 1.383]'),\n",
       " Text(6, 0, '(1.383, 1.663]'),\n",
       " Text(7, 0, '(1.663, 7.858]')]"
      ]
     },
     "execution_count": 20,
     "metadata": {},
     "output_type": "execute_result"
    },
    {
     "data": {
      "image/png": "[encoded data removed]",
      "text/plain": [
       "<Figure size 432x288 with 1 Axes>"
      ]
     },
     "metadata": {
      "needs_background": "light"
     },
     "output_type": "display_data"
    }
   ],
   "source": [
    "import matplotlib.pyplot as plt\n",
    "plt.figure(figsize=(6,4))\n",
    "g = sns.countplot(x=\"state_drug_avg_ratio_amount_D\", data=df1)\n",
    "g.set_xticklabels(g.get_xticklabels(), rotation=90)"
   ]
  },
  {
   "cell_type": "markdown",
   "id": "49c458ea",
   "metadata": {},
   "source": [
    "We retrived those hospital divisions in which the physicians involved in abusive behaviour are working. This way we can track these hospitals for necessary action. "
   ]
  },
  {
   "cell_type": "code",
   "execution_count": 21,
   "id": "68bdf2c5",
   "metadata": {},
   "outputs": [
    {
     "data": {
      "text/plain": [
       "104            CA - Salinas\n",
       "280       IL - Melrose Park\n",
       "294           IL - Evanston\n",
       "456          MD - Baltimore\n",
       "537           MN - St. Paul\n",
       "                ...        \n",
       "162805         TX - Houston\n",
       "162822         TX - Houston\n",
       "162893         TX - Lubbock\n",
       "162934        VA - Richmond\n",
       "162972         WA - Seattle\n",
       "Name: Hospital_Referral_Region_Description, Length: 1573, dtype: object"
      ]
     },
     "execution_count": 21,
     "metadata": {},
     "output_type": "execute_result"
    }
   ],
   "source": [
    "df1.loc[df1['state_drug_avg_ratio_amount']>1.67,'Hospital_Referral_Region_Description']"
   ]
  },
  {
   "cell_type": "markdown",
   "id": "50e7ee64",
   "metadata": {},
   "source": [
    "### 3.2 Ratio count of median total payments per state for each diagnosis"
   ]
  },
  {
   "cell_type": "markdown",
   "id": "819b942a",
   "metadata": {},
   "source": [
    "- This is similar to the above intution and the difference is only the median of payments taken into account rather than the mean. The median is less affected by outliers and skewed data than the mean, and is usually the preferred measure of central tendency when the distribution is not symmetrical."
   ]
  },
  {
   "cell_type": "code",
   "execution_count": 22,
   "id": "29afac88",
   "metadata": {},
   "outputs": [
    {
     "data": {
      "text/html": [
       "<div>\n",
       "<style scoped>\n",
       "    .dataframe tbody tr th:only-of-type {\n",
       "        vertical-align: middle;\n",
       "    }\n",
       "\n",
       "    .dataframe tbody tr th {\n",
       "        vertical-align: top;\n",
       "    }\n",
       "\n",
       "    .dataframe thead th {\n",
       "        text-align: right;\n",
       "    }\n",
       "</style>\n",
       "<table border=\"1\" class=\"dataframe\">\n",
       "  <thead>\n",
       "    <tr style=\"text-align: right;\">\n",
       "      <th></th>\n",
       "      <th>Provider_State</th>\n",
       "      <th>DRG_Definition</th>\n",
       "      <th>Median_Payment_ByStateDRG</th>\n",
       "    </tr>\n",
       "  </thead>\n",
       "  <tbody>\n",
       "    <tr>\n",
       "      <th>0</th>\n",
       "      <td>AK</td>\n",
       "      <td>039 - EXTRACRANIAL PROCEDURES W/O CC/MCC</td>\n",
       "      <td>8401.950</td>\n",
       "    </tr>\n",
       "    <tr>\n",
       "      <th>1</th>\n",
       "      <td>AK</td>\n",
       "      <td>057 - DEGENERATIVE NERVOUS SYSTEM DISORDERS W/...</td>\n",
       "      <td>8799.000</td>\n",
       "    </tr>\n",
       "    <tr>\n",
       "      <th>2</th>\n",
       "      <td>AK</td>\n",
       "      <td>064 - INTRACRANIAL HEMORRHAGE OR CEREBRAL INFA...</td>\n",
       "      <td>21608.010</td>\n",
       "    </tr>\n",
       "    <tr>\n",
       "      <th>3</th>\n",
       "      <td>AK</td>\n",
       "      <td>065 - INTRACRANIAL HEMORRHAGE OR CEREBRAL INFA...</td>\n",
       "      <td>12437.045</td>\n",
       "    </tr>\n",
       "    <tr>\n",
       "      <th>4</th>\n",
       "      <td>AK</td>\n",
       "      <td>066 - INTRACRANIAL HEMORRHAGE OR CEREBRAL INFA...</td>\n",
       "      <td>9320.250</td>\n",
       "    </tr>\n",
       "  </tbody>\n",
       "</table>\n",
       "</div>"
      ],
      "text/plain": [
       "  Provider_State                                     DRG_Definition  \\\n",
       "0             AK           039 - EXTRACRANIAL PROCEDURES W/O CC/MCC   \n",
       "1             AK  057 - DEGENERATIVE NERVOUS SYSTEM DISORDERS W/...   \n",
       "2             AK  064 - INTRACRANIAL HEMORRHAGE OR CEREBRAL INFA...   \n",
       "3             AK  065 - INTRACRANIAL HEMORRHAGE OR CEREBRAL INFA...   \n",
       "4             AK  066 - INTRACRANIAL HEMORRHAGE OR CEREBRAL INFA...   \n",
       "\n",
       "   Median_Payment_ByStateDRG  \n",
       "0                   8401.950  \n",
       "1                   8799.000  \n",
       "2                  21608.010  \n",
       "3                  12437.045  \n",
       "4                   9320.250  "
      ]
     },
     "execution_count": 22,
     "metadata": {},
     "output_type": "execute_result"
    }
   ],
   "source": [
    "b = df.groupby(['Provider_State','DRG_Definition'])['Average_Total_Payments'].median().reset_index()\n",
    "b.columns = ['Provider_State','DRG_Definition','Median_Payment_ByStateDRG']\n",
    "b.head()"
   ]
  },
  {
   "cell_type": "code",
   "execution_count": 23,
   "id": "1c843d01",
   "metadata": {},
   "outputs": [
    {
     "data": {
      "text/plain": [
       "count    163065.000000\n",
       "mean          1.050746\n",
       "std           0.211465\n",
       "min           0.517695\n",
       "25%           0.925511\n",
       "50%           1.000000\n",
       "75%           1.112126\n",
       "max           9.338775\n",
       "Name: state_drug_median_ratio_amount, dtype: float64"
      ]
     },
     "execution_count": 23,
     "metadata": {},
     "output_type": "execute_result"
    }
   ],
   "source": [
    "df2 = pd.merge(df, b, how='left', on=['Provider_State','DRG_Definition'])\n",
    "df2['state_drug_median_ratio_amount'] = np.where(df2['Median_Payment_ByStateDRG']==0,0, df2['Average_Total_Payments'] / df2['Median_Payment_ByStateDRG'])\n",
    "df2['state_drug_median_ratio_amount'].describe()"
   ]
  },
  {
   "cell_type": "code",
   "execution_count": 24,
   "id": "b654ba0e",
   "metadata": {},
   "outputs": [
    {
     "data": {
      "text/html": [
       "<div>\n",
       "<style scoped>\n",
       "    .dataframe tbody tr th:only-of-type {\n",
       "        vertical-align: middle;\n",
       "    }\n",
       "\n",
       "    .dataframe tbody tr th {\n",
       "        vertical-align: top;\n",
       "    }\n",
       "\n",
       "    .dataframe thead th {\n",
       "        text-align: right;\n",
       "    }\n",
       "</style>\n",
       "<table border=\"1\" class=\"dataframe\">\n",
       "  <thead>\n",
       "    <tr style=\"text-align: right;\">\n",
       "      <th></th>\n",
       "      <th>DRG_Definition</th>\n",
       "      <th>Provider_Id</th>\n",
       "      <th>Provider_Name</th>\n",
       "      <th>Provider_Street_Address</th>\n",
       "      <th>Provider_City</th>\n",
       "      <th>Provider_State</th>\n",
       "      <th>Provider_Zip_Code</th>\n",
       "      <th>Hospital_Referral_Region_Description</th>\n",
       "      <th>Total_Discharges</th>\n",
       "      <th>Average_Covered_Charges</th>\n",
       "      <th>Average_Total_Payments</th>\n",
       "      <th>Average_Medicare_Payments</th>\n",
       "      <th>Median_Payment_ByStateDRG</th>\n",
       "      <th>state_drug_median_ratio_amount</th>\n",
       "      <th>state_drug_median_ratio_amount_D</th>\n",
       "    </tr>\n",
       "  </thead>\n",
       "  <tbody>\n",
       "    <tr>\n",
       "      <th>0</th>\n",
       "      <td>039 - EXTRACRANIAL PROCEDURES W/O CC/MCC</td>\n",
       "      <td>10001</td>\n",
       "      <td>SOUTHEAST ALABAMA MEDICAL CENTER</td>\n",
       "      <td>1108 ROSS CLARK CIRCLE</td>\n",
       "      <td>DOTHAN</td>\n",
       "      <td>AL</td>\n",
       "      <td>36301</td>\n",
       "      <td>AL - Dothan</td>\n",
       "      <td>91</td>\n",
       "      <td>32963.07</td>\n",
       "      <td>5777.24</td>\n",
       "      <td>4763.73</td>\n",
       "      <td>5658.33</td>\n",
       "      <td>1.021015</td>\n",
       "      <td>(1.0, 1.153]</td>\n",
       "    </tr>\n",
       "    <tr>\n",
       "      <th>1</th>\n",
       "      <td>039 - EXTRACRANIAL PROCEDURES W/O CC/MCC</td>\n",
       "      <td>10005</td>\n",
       "      <td>MARSHALL MEDICAL CENTER SOUTH</td>\n",
       "      <td>2505 U S HIGHWAY 431 NORTH</td>\n",
       "      <td>BOAZ</td>\n",
       "      <td>AL</td>\n",
       "      <td>35957</td>\n",
       "      <td>AL - Birmingham</td>\n",
       "      <td>14</td>\n",
       "      <td>15131.85</td>\n",
       "      <td>5787.57</td>\n",
       "      <td>4976.71</td>\n",
       "      <td>5658.33</td>\n",
       "      <td>1.022841</td>\n",
       "      <td>(1.0, 1.153]</td>\n",
       "    </tr>\n",
       "    <tr>\n",
       "      <th>2</th>\n",
       "      <td>039 - EXTRACRANIAL PROCEDURES W/O CC/MCC</td>\n",
       "      <td>10006</td>\n",
       "      <td>ELIZA COFFEE MEMORIAL HOSPITAL</td>\n",
       "      <td>205 MARENGO STREET</td>\n",
       "      <td>FLORENCE</td>\n",
       "      <td>AL</td>\n",
       "      <td>35631</td>\n",
       "      <td>AL - Birmingham</td>\n",
       "      <td>24</td>\n",
       "      <td>37560.37</td>\n",
       "      <td>5434.95</td>\n",
       "      <td>4453.79</td>\n",
       "      <td>5658.33</td>\n",
       "      <td>0.960522</td>\n",
       "      <td>(0.908, 1.0]</td>\n",
       "    </tr>\n",
       "    <tr>\n",
       "      <th>3</th>\n",
       "      <td>039 - EXTRACRANIAL PROCEDURES W/O CC/MCC</td>\n",
       "      <td>10011</td>\n",
       "      <td>ST VINCENT'S EAST</td>\n",
       "      <td>50 MEDICAL PARK EAST DRIVE</td>\n",
       "      <td>BIRMINGHAM</td>\n",
       "      <td>AL</td>\n",
       "      <td>35235</td>\n",
       "      <td>AL - Birmingham</td>\n",
       "      <td>25</td>\n",
       "      <td>13998.28</td>\n",
       "      <td>5417.56</td>\n",
       "      <td>4129.16</td>\n",
       "      <td>5658.33</td>\n",
       "      <td>0.957449</td>\n",
       "      <td>(0.908, 1.0]</td>\n",
       "    </tr>\n",
       "    <tr>\n",
       "      <th>4</th>\n",
       "      <td>039 - EXTRACRANIAL PROCEDURES W/O CC/MCC</td>\n",
       "      <td>10016</td>\n",
       "      <td>SHELBY BAPTIST MEDICAL CENTER</td>\n",
       "      <td>1000 FIRST STREET NORTH</td>\n",
       "      <td>ALABASTER</td>\n",
       "      <td>AL</td>\n",
       "      <td>35007</td>\n",
       "      <td>AL - Birmingham</td>\n",
       "      <td>18</td>\n",
       "      <td>31633.27</td>\n",
       "      <td>5658.33</td>\n",
       "      <td>4851.44</td>\n",
       "      <td>5658.33</td>\n",
       "      <td>1.000000</td>\n",
       "      <td>(0.908, 1.0]</td>\n",
       "    </tr>\n",
       "  </tbody>\n",
       "</table>\n",
       "</div>"
      ],
      "text/plain": [
       "                             DRG_Definition Provider_Id  \\\n",
       "0  039 - EXTRACRANIAL PROCEDURES W/O CC/MCC       10001   \n",
       "1  039 - EXTRACRANIAL PROCEDURES W/O CC/MCC       10005   \n",
       "2  039 - EXTRACRANIAL PROCEDURES W/O CC/MCC       10006   \n",
       "3  039 - EXTRACRANIAL PROCEDURES W/O CC/MCC       10011   \n",
       "4  039 - EXTRACRANIAL PROCEDURES W/O CC/MCC       10016   \n",
       "\n",
       "                      Provider_Name     Provider_Street_Address Provider_City  \\\n",
       "0  SOUTHEAST ALABAMA MEDICAL CENTER      1108 ROSS CLARK CIRCLE        DOTHAN   \n",
       "1     MARSHALL MEDICAL CENTER SOUTH  2505 U S HIGHWAY 431 NORTH          BOAZ   \n",
       "2    ELIZA COFFEE MEMORIAL HOSPITAL          205 MARENGO STREET      FLORENCE   \n",
       "3                 ST VINCENT'S EAST  50 MEDICAL PARK EAST DRIVE    BIRMINGHAM   \n",
       "4     SHELBY BAPTIST MEDICAL CENTER     1000 FIRST STREET NORTH     ALABASTER   \n",
       "\n",
       "  Provider_State  Provider_Zip_Code Hospital_Referral_Region_Description  \\\n",
       "0             AL              36301                          AL - Dothan   \n",
       "1             AL              35957                      AL - Birmingham   \n",
       "2             AL              35631                      AL - Birmingham   \n",
       "3             AL              35235                      AL - Birmingham   \n",
       "4             AL              35007                      AL - Birmingham   \n",
       "\n",
       "   Total_Discharges  Average_Covered_Charges  Average_Total_Payments  \\\n",
       "0                91                 32963.07                 5777.24   \n",
       "1                14                 15131.85                 5787.57   \n",
       "2                24                 37560.37                 5434.95   \n",
       "3                25                 13998.28                 5417.56   \n",
       "4                18                 31633.27                 5658.33   \n",
       "\n",
       "   Average_Medicare_Payments  Median_Payment_ByStateDRG  \\\n",
       "0                    4763.73                    5658.33   \n",
       "1                    4976.71                    5658.33   \n",
       "2                    4453.79                    5658.33   \n",
       "3                    4129.16                    5658.33   \n",
       "4                    4851.44                    5658.33   \n",
       "\n",
       "   state_drug_median_ratio_amount state_drug_median_ratio_amount_D  \n",
       "0                        1.021015                     (1.0, 1.153]  \n",
       "1                        1.022841                     (1.0, 1.153]  \n",
       "2                        0.960522                     (0.908, 1.0]  \n",
       "3                        0.957449                     (0.908, 1.0]  \n",
       "4                        1.000000                     (0.908, 1.0]  "
      ]
     },
     "execution_count": 24,
     "metadata": {},
     "output_type": "execute_result"
    }
   ],
   "source": [
    "var = 'state_drug_median_ratio_amount'\n",
    "binned_var = var + '_D'\n",
    "percentile = [0,0.01,0.05,0.2,0.5,0.8,0.95,0.99,1]\n",
    "df2[binned_var] = pd.qcut(df2[var],percentile)\n",
    "df2[['state_drug_median_ratio_amount_D']]\n",
    "df2.head()"
   ]
  },
  {
   "cell_type": "code",
   "execution_count": 25,
   "id": "e12b919e",
   "metadata": {},
   "outputs": [
    {
     "data": {
      "text/plain": [
       "[Text(0, 0, '(0.517, 0.75]'),\n",
       " Text(1, 0, '(0.75, 0.83]'),\n",
       " Text(2, 0, '(0.83, 0.908]'),\n",
       " Text(3, 0, '(0.908, 1.0]'),\n",
       " Text(4, 0, '(1.0, 1.153]'),\n",
       " Text(5, 0, '(1.153, 1.466]'),\n",
       " Text(6, 0, '(1.466, 1.79]'),\n",
       " Text(7, 0, '(1.79, 9.339]')]"
      ]
     },
     "execution_count": 25,
     "metadata": {},
     "output_type": "execute_result"
    },
    {
     "data": {
      "image/png": "[encoded data removed]",
      "text/plain": [
       "<Figure size 432x288 with 1 Axes>"
      ]
     },
     "metadata": {
      "needs_background": "light"
     },
     "output_type": "display_data"
    }
   ],
   "source": [
    "import matplotlib.pyplot as plt\n",
    "plt.figure(figsize=(6,4))\n",
    "g = sns.countplot(x=\"state_drug_median_ratio_amount_D\", data=df2)\n",
    "g.set_xticklabels(g.get_xticklabels(), rotation=90)"
   ]
  },
  {
   "cell_type": "code",
   "execution_count": 26,
   "id": "7f275f8d",
   "metadata": {},
   "outputs": [
    {
     "data": {
      "text/plain": [
       "104                CA - Salinas\n",
       "280           IL - Melrose Park\n",
       "294               IL - Evanston\n",
       "456              MD - Baltimore\n",
       "690       NY - East Long Island\n",
       "                  ...          \n",
       "162713        PA - Philadelphia\n",
       "162805             TX - Houston\n",
       "162822             TX - Houston\n",
       "162893             TX - Lubbock\n",
       "162934            VA - Richmond\n",
       "Name: Hospital_Referral_Region_Description, Length: 1549, dtype: object"
      ]
     },
     "execution_count": 26,
     "metadata": {},
     "output_type": "execute_result"
    }
   ],
   "source": [
    "df2.loc[df2['state_drug_median_ratio_amount']>1.8,'Hospital_Referral_Region_Description']"
   ]
  },
  {
   "cell_type": "markdown",
   "id": "d96cb10b",
   "metadata": {},
   "source": [
    "### 3.3 Ratio count of total covered charges per provider for each hospital"
   ]
  },
  {
   "cell_type": "markdown",
   "id": "69d8c84c",
   "metadata": {},
   "source": [
    "- Idea: We calculated the total amount of average covered charges grouping by the provider name and hospital division\n",
    "If we are able to find any charged prescription higher than the mean spend, we detect it as an outlier.\n",
    "Covered charges gives us information on all the charges that are covered by medicare for the discharges\n",
    "This features enables us to detect any abnormal charges filed on the patient to claim the insurance"
   ]
  },
  {
   "cell_type": "code",
   "execution_count": 27,
   "id": "d683814f",
   "metadata": {},
   "outputs": [
    {
     "data": {
      "text/html": [
       "<div>\n",
       "<style scoped>\n",
       "    .dataframe tbody tr th:only-of-type {\n",
       "        vertical-align: middle;\n",
       "    }\n",
       "\n",
       "    .dataframe tbody tr th {\n",
       "        vertical-align: top;\n",
       "    }\n",
       "\n",
       "    .dataframe thead th {\n",
       "        text-align: right;\n",
       "    }\n",
       "</style>\n",
       "<table border=\"1\" class=\"dataframe\">\n",
       "  <thead>\n",
       "    <tr style=\"text-align: right;\">\n",
       "      <th></th>\n",
       "      <th>Provider_Name</th>\n",
       "      <th>Hospital_Referral_Region_Description</th>\n",
       "      <th>Sum_Payment_ByNameprovider</th>\n",
       "    </tr>\n",
       "  </thead>\n",
       "  <tbody>\n",
       "    <tr>\n",
       "      <th>0</th>\n",
       "      <td>ABBEVILLE GENERAL HOSPITAL</td>\n",
       "      <td>LA - Lafayette</td>\n",
       "      <td>309353.80</td>\n",
       "    </tr>\n",
       "    <tr>\n",
       "      <th>1</th>\n",
       "      <td>ABBOTT NORTHWESTERN HOSPITAL</td>\n",
       "      <td>MN - Minneapolis</td>\n",
       "      <td>4453851.49</td>\n",
       "    </tr>\n",
       "    <tr>\n",
       "      <th>2</th>\n",
       "      <td>ABILENE REGIONAL MEDICAL CENTER</td>\n",
       "      <td>TX - Abilene</td>\n",
       "      <td>3587698.19</td>\n",
       "    </tr>\n",
       "    <tr>\n",
       "      <th>3</th>\n",
       "      <td>ABINGTON MEMORIAL HOSPITAL</td>\n",
       "      <td>PA - Philadelphia</td>\n",
       "      <td>6786860.92</td>\n",
       "    </tr>\n",
       "    <tr>\n",
       "      <th>4</th>\n",
       "      <td>ACMH HOSPITAL</td>\n",
       "      <td>PA - Pittsburgh</td>\n",
       "      <td>391734.02</td>\n",
       "    </tr>\n",
       "  </tbody>\n",
       "</table>\n",
       "</div>"
      ],
      "text/plain": [
       "                     Provider_Name Hospital_Referral_Region_Description  \\\n",
       "0       ABBEVILLE GENERAL HOSPITAL                       LA - Lafayette   \n",
       "1     ABBOTT NORTHWESTERN HOSPITAL                     MN - Minneapolis   \n",
       "2  ABILENE REGIONAL MEDICAL CENTER                         TX - Abilene   \n",
       "3       ABINGTON MEMORIAL HOSPITAL                    PA - Philadelphia   \n",
       "4                    ACMH HOSPITAL                      PA - Pittsburgh   \n",
       "\n",
       "   Sum_Payment_ByNameprovider  \n",
       "0                   309353.80  \n",
       "1                  4453851.49  \n",
       "2                  3587698.19  \n",
       "3                  6786860.92  \n",
       "4                   391734.02  "
      ]
     },
     "execution_count": 27,
     "metadata": {},
     "output_type": "execute_result"
    }
   ],
   "source": [
    "c = df.groupby(['Provider_Name','Hospital_Referral_Region_Description'])['Average_Covered_Charges'].sum().reset_index()\n",
    "c.columns = ['Provider_Name','Hospital_Referral_Region_Description','Sum_Payment_ByNameprovider']\n",
    "c.head()"
   ]
  },
  {
   "cell_type": "code",
   "execution_count": 28,
   "id": "a6bb71be",
   "metadata": {},
   "outputs": [
    {
     "data": {
      "text/plain": [
       "count    163065.000000\n",
       "mean          0.020452\n",
       "std           0.036628\n",
       "min           0.001903\n",
       "25%           0.007624\n",
       "50%           0.012352\n",
       "75%           0.021981\n",
       "max           1.000000\n",
       "Name: name_hosp_sum_ratio_amount, dtype: float64"
      ]
     },
     "execution_count": 28,
     "metadata": {},
     "output_type": "execute_result"
    }
   ],
   "source": [
    "df3 = pd.merge(df, c, how='left', on=['Provider_Name','Hospital_Referral_Region_Description'])\n",
    "df3['name_hosp_sum_ratio_amount'] = np.where(df3['Sum_Payment_ByNameprovider']==0,0, df3['Average_Covered_Charges'] / df3['Sum_Payment_ByNameprovider'])\n",
    "df3['name_hosp_sum_ratio_amount'].describe()"
   ]
  },
  {
   "cell_type": "code",
   "execution_count": 29,
   "id": "4c03bf03",
   "metadata": {},
   "outputs": [
    {
     "data": {
      "text/html": [
       "<div>\n",
       "<style scoped>\n",
       "    .dataframe tbody tr th:only-of-type {\n",
       "        vertical-align: middle;\n",
       "    }\n",
       "\n",
       "    .dataframe tbody tr th {\n",
       "        vertical-align: top;\n",
       "    }\n",
       "\n",
       "    .dataframe thead th {\n",
       "        text-align: right;\n",
       "    }\n",
       "</style>\n",
       "<table border=\"1\" class=\"dataframe\">\n",
       "  <thead>\n",
       "    <tr style=\"text-align: right;\">\n",
       "      <th></th>\n",
       "      <th>DRG_Definition</th>\n",
       "      <th>Provider_Id</th>\n",
       "      <th>Provider_Name</th>\n",
       "      <th>Provider_Street_Address</th>\n",
       "      <th>Provider_City</th>\n",
       "      <th>Provider_State</th>\n",
       "      <th>Provider_Zip_Code</th>\n",
       "      <th>Hospital_Referral_Region_Description</th>\n",
       "      <th>Total_Discharges</th>\n",
       "      <th>Average_Covered_Charges</th>\n",
       "      <th>Average_Total_Payments</th>\n",
       "      <th>Average_Medicare_Payments</th>\n",
       "      <th>Sum_Payment_ByNameprovider</th>\n",
       "      <th>name_hosp_sum_ratio_amount</th>\n",
       "      <th>name_hosp_sum_ratio_amount_D</th>\n",
       "    </tr>\n",
       "  </thead>\n",
       "  <tbody>\n",
       "    <tr>\n",
       "      <th>0</th>\n",
       "      <td>039 - EXTRACRANIAL PROCEDURES W/O CC/MCC</td>\n",
       "      <td>10001</td>\n",
       "      <td>SOUTHEAST ALABAMA MEDICAL CENTER</td>\n",
       "      <td>1108 ROSS CLARK CIRCLE</td>\n",
       "      <td>DOTHAN</td>\n",
       "      <td>AL</td>\n",
       "      <td>36301</td>\n",
       "      <td>AL - Dothan</td>\n",
       "      <td>91</td>\n",
       "      <td>32963.07</td>\n",
       "      <td>5777.24</td>\n",
       "      <td>4763.73</td>\n",
       "      <td>3242726.59</td>\n",
       "      <td>0.010165</td>\n",
       "      <td>(0.00691, 0.0124]</td>\n",
       "    </tr>\n",
       "    <tr>\n",
       "      <th>1</th>\n",
       "      <td>039 - EXTRACRANIAL PROCEDURES W/O CC/MCC</td>\n",
       "      <td>10005</td>\n",
       "      <td>MARSHALL MEDICAL CENTER SOUTH</td>\n",
       "      <td>2505 U S HIGHWAY 431 NORTH</td>\n",
       "      <td>BOAZ</td>\n",
       "      <td>AL</td>\n",
       "      <td>35957</td>\n",
       "      <td>AL - Birmingham</td>\n",
       "      <td>14</td>\n",
       "      <td>15131.85</td>\n",
       "      <td>5787.57</td>\n",
       "      <td>4976.71</td>\n",
       "      <td>806103.51</td>\n",
       "      <td>0.018772</td>\n",
       "      <td>(0.0124, 0.0258]</td>\n",
       "    </tr>\n",
       "    <tr>\n",
       "      <th>2</th>\n",
       "      <td>039 - EXTRACRANIAL PROCEDURES W/O CC/MCC</td>\n",
       "      <td>10006</td>\n",
       "      <td>ELIZA COFFEE MEMORIAL HOSPITAL</td>\n",
       "      <td>205 MARENGO STREET</td>\n",
       "      <td>FLORENCE</td>\n",
       "      <td>AL</td>\n",
       "      <td>35631</td>\n",
       "      <td>AL - Birmingham</td>\n",
       "      <td>24</td>\n",
       "      <td>37560.37</td>\n",
       "      <td>5434.95</td>\n",
       "      <td>4453.79</td>\n",
       "      <td>3177042.74</td>\n",
       "      <td>0.011822</td>\n",
       "      <td>(0.00691, 0.0124]</td>\n",
       "    </tr>\n",
       "    <tr>\n",
       "      <th>3</th>\n",
       "      <td>039 - EXTRACRANIAL PROCEDURES W/O CC/MCC</td>\n",
       "      <td>10011</td>\n",
       "      <td>ST VINCENT'S EAST</td>\n",
       "      <td>50 MEDICAL PARK EAST DRIVE</td>\n",
       "      <td>BIRMINGHAM</td>\n",
       "      <td>AL</td>\n",
       "      <td>35235</td>\n",
       "      <td>AL - Birmingham</td>\n",
       "      <td>25</td>\n",
       "      <td>13998.28</td>\n",
       "      <td>5417.56</td>\n",
       "      <td>4129.16</td>\n",
       "      <td>2414914.68</td>\n",
       "      <td>0.005797</td>\n",
       "      <td>(0.00482, 0.00691]</td>\n",
       "    </tr>\n",
       "    <tr>\n",
       "      <th>4</th>\n",
       "      <td>039 - EXTRACRANIAL PROCEDURES W/O CC/MCC</td>\n",
       "      <td>10016</td>\n",
       "      <td>SHELBY BAPTIST MEDICAL CENTER</td>\n",
       "      <td>1000 FIRST STREET NORTH</td>\n",
       "      <td>ALABASTER</td>\n",
       "      <td>AL</td>\n",
       "      <td>35007</td>\n",
       "      <td>AL - Birmingham</td>\n",
       "      <td>18</td>\n",
       "      <td>31633.27</td>\n",
       "      <td>5658.33</td>\n",
       "      <td>4851.44</td>\n",
       "      <td>3178250.42</td>\n",
       "      <td>0.009953</td>\n",
       "      <td>(0.00691, 0.0124]</td>\n",
       "    </tr>\n",
       "  </tbody>\n",
       "</table>\n",
       "</div>"
      ],
      "text/plain": [
       "                             DRG_Definition Provider_Id  \\\n",
       "0  039 - EXTRACRANIAL PROCEDURES W/O CC/MCC       10001   \n",
       "1  039 - EXTRACRANIAL PROCEDURES W/O CC/MCC       10005   \n",
       "2  039 - EXTRACRANIAL PROCEDURES W/O CC/MCC       10006   \n",
       "3  039 - EXTRACRANIAL PROCEDURES W/O CC/MCC       10011   \n",
       "4  039 - EXTRACRANIAL PROCEDURES W/O CC/MCC       10016   \n",
       "\n",
       "                      Provider_Name     Provider_Street_Address Provider_City  \\\n",
       "0  SOUTHEAST ALABAMA MEDICAL CENTER      1108 ROSS CLARK CIRCLE        DOTHAN   \n",
       "1     MARSHALL MEDICAL CENTER SOUTH  2505 U S HIGHWAY 431 NORTH          BOAZ   \n",
       "2    ELIZA COFFEE MEMORIAL HOSPITAL          205 MARENGO STREET      FLORENCE   \n",
       "3                 ST VINCENT'S EAST  50 MEDICAL PARK EAST DRIVE    BIRMINGHAM   \n",
       "4     SHELBY BAPTIST MEDICAL CENTER     1000 FIRST STREET NORTH     ALABASTER   \n",
       "\n",
       "  Provider_State  Provider_Zip_Code Hospital_Referral_Region_Description  \\\n",
       "0             AL              36301                          AL - Dothan   \n",
       "1             AL              35957                      AL - Birmingham   \n",
       "2             AL              35631                      AL - Birmingham   \n",
       "3             AL              35235                      AL - Birmingham   \n",
       "4             AL              35007                      AL - Birmingham   \n",
       "\n",
       "   Total_Discharges  Average_Covered_Charges  Average_Total_Payments  \\\n",
       "0                91                 32963.07                 5777.24   \n",
       "1                14                 15131.85                 5787.57   \n",
       "2                24                 37560.37                 5434.95   \n",
       "3                25                 13998.28                 5417.56   \n",
       "4                18                 31633.27                 5658.33   \n",
       "\n",
       "   Average_Medicare_Payments  Sum_Payment_ByNameprovider  \\\n",
       "0                    4763.73                  3242726.59   \n",
       "1                    4976.71                   806103.51   \n",
       "2                    4453.79                  3177042.74   \n",
       "3                    4129.16                  2414914.68   \n",
       "4                    4851.44                  3178250.42   \n",
       "\n",
       "   name_hosp_sum_ratio_amount name_hosp_sum_ratio_amount_D  \n",
       "0                    0.010165            (0.00691, 0.0124]  \n",
       "1                    0.018772             (0.0124, 0.0258]  \n",
       "2                    0.011822            (0.00691, 0.0124]  \n",
       "3                    0.005797           (0.00482, 0.00691]  \n",
       "4                    0.009953            (0.00691, 0.0124]  "
      ]
     },
     "execution_count": 29,
     "metadata": {},
     "output_type": "execute_result"
    }
   ],
   "source": [
    "var = 'name_hosp_sum_ratio_amount'\n",
    "binned_var = var + '_D'\n",
    "percentile = [0,0.01,0.05,0.2,0.5,0.8,0.95,0.99,1]\n",
    "df3[binned_var] = pd.qcut( df3[var],percentile)\n",
    "df3[['name_hosp_sum_ratio_amount_D']]\n",
    "df3.head()"
   ]
  },
  {
   "cell_type": "code",
   "execution_count": 30,
   "id": "420fca48",
   "metadata": {},
   "outputs": [
    {
     "data": {
      "text/plain": [
       "[Text(0, 0, '(0.0009, 0.00383]'),\n",
       " Text(1, 0, '(0.00383, 0.00482]'),\n",
       " Text(2, 0, '(0.00482, 0.00691]'),\n",
       " Text(3, 0, '(0.00691, 0.0124]'),\n",
       " Text(4, 0, '(0.0124, 0.0258]'),\n",
       " Text(5, 0, '(0.0258, 0.0564]'),\n",
       " Text(6, 0, '(0.0564, 0.122]'),\n",
       " Text(7, 0, '(0.122, 1.0]')]"
      ]
     },
     "execution_count": 30,
     "metadata": {},
     "output_type": "execute_result"
    },
    {
     "data": {
      "image/png": "[encoded data removed]",
      "text/plain": [
       "<Figure size 432x288 with 1 Axes>"
      ]
     },
     "metadata": {
      "needs_background": "light"
     },
     "output_type": "display_data"
    }
   ],
   "source": [
    "import matplotlib.pyplot as plt\n",
    "plt.figure(figsize=(6,4))\n",
    "g = sns.countplot(x=\"name_hosp_sum_ratio_amount_D\", data=df3)\n",
    "g.set_xticklabels(g.get_xticklabels(), rotation=90)"
   ]
  },
  {
   "cell_type": "markdown",
   "id": "19b66fc3",
   "metadata": {},
   "source": [
    "We retrieved the hospital divisions which are having a covered charge that are more than the normal charges"
   ]
  },
  {
   "cell_type": "code",
   "execution_count": 31,
   "id": "3fc34959",
   "metadata": {},
   "outputs": [
    {
     "data": {
      "text/plain": [
       "2366         CA - San Francisco\n",
       "2496      CA - San Mateo County\n",
       "2508              CA - San Jose\n",
       "2749              HI - Honolulu\n",
       "3796                TX - Dallas\n",
       "                  ...          \n",
       "162713        PA - Philadelphia\n",
       "162824             TX - Abilene\n",
       "162873       TX - Wichita Falls\n",
       "162893             TX - Lubbock\n",
       "162917      UT - Salt Lake City\n",
       "Name: Hospital_Referral_Region_Description, Length: 1444, dtype: object"
      ]
     },
     "execution_count": 31,
     "metadata": {},
     "output_type": "execute_result"
    }
   ],
   "source": [
    "df3.loc[df3['name_hosp_sum_ratio_amount']>0.13,'Hospital_Referral_Region_Description']"
   ]
  },
  {
   "cell_type": "markdown",
   "id": "89d90aa8",
   "metadata": {},
   "source": [
    "### 3.4 Ratio count of average medicare charges per provider state for each diagnosis procedure"
   ]
  },
  {
   "cell_type": "markdown",
   "id": "7f81e5e2",
   "metadata": {},
   "source": [
    "- Idea: We took the mean of average medicare payments grouping by state and diagnosis procedure. \n",
    "This features helps us to identidy those states which have high payment rates than normal which indicates the hospitals in those states are getting paid more by medicare"
   ]
  },
  {
   "cell_type": "code",
   "execution_count": 32,
   "id": "635ea7ac",
   "metadata": {},
   "outputs": [
    {
     "data": {
      "text/html": [
       "<div>\n",
       "<style scoped>\n",
       "    .dataframe tbody tr th:only-of-type {\n",
       "        vertical-align: middle;\n",
       "    }\n",
       "\n",
       "    .dataframe tbody tr th {\n",
       "        vertical-align: top;\n",
       "    }\n",
       "\n",
       "    .dataframe thead th {\n",
       "        text-align: right;\n",
       "    }\n",
       "</style>\n",
       "<table border=\"1\" class=\"dataframe\">\n",
       "  <thead>\n",
       "    <tr style=\"text-align: right;\">\n",
       "      <th></th>\n",
       "      <th>Provider_State</th>\n",
       "      <th>DRG_Definition</th>\n",
       "      <th>Avg_Payment_ByDRGmedicare</th>\n",
       "    </tr>\n",
       "  </thead>\n",
       "  <tbody>\n",
       "    <tr>\n",
       "      <th>0</th>\n",
       "      <td>AK</td>\n",
       "      <td>039 - EXTRACRANIAL PROCEDURES W/O CC/MCC</td>\n",
       "      <td>6413.780000</td>\n",
       "    </tr>\n",
       "    <tr>\n",
       "      <th>1</th>\n",
       "      <td>AK</td>\n",
       "      <td>057 - DEGENERATIVE NERVOUS SYSTEM DISORDERS W/...</td>\n",
       "      <td>8081.540000</td>\n",
       "    </tr>\n",
       "    <tr>\n",
       "      <th>2</th>\n",
       "      <td>AK</td>\n",
       "      <td>064 - INTRACRANIAL HEMORRHAGE OR CEREBRAL INFA...</td>\n",
       "      <td>20555.255000</td>\n",
       "    </tr>\n",
       "    <tr>\n",
       "      <th>3</th>\n",
       "      <td>AK</td>\n",
       "      <td>065 - INTRACRANIAL HEMORRHAGE OR CEREBRAL INFA...</td>\n",
       "      <td>11140.963333</td>\n",
       "    </tr>\n",
       "    <tr>\n",
       "      <th>4</th>\n",
       "      <td>AK</td>\n",
       "      <td>066 - INTRACRANIAL HEMORRHAGE OR CEREBRAL INFA...</td>\n",
       "      <td>8258.427500</td>\n",
       "    </tr>\n",
       "  </tbody>\n",
       "</table>\n",
       "</div>"
      ],
      "text/plain": [
       "  Provider_State                                     DRG_Definition  \\\n",
       "0             AK           039 - EXTRACRANIAL PROCEDURES W/O CC/MCC   \n",
       "1             AK  057 - DEGENERATIVE NERVOUS SYSTEM DISORDERS W/...   \n",
       "2             AK  064 - INTRACRANIAL HEMORRHAGE OR CEREBRAL INFA...   \n",
       "3             AK  065 - INTRACRANIAL HEMORRHAGE OR CEREBRAL INFA...   \n",
       "4             AK  066 - INTRACRANIAL HEMORRHAGE OR CEREBRAL INFA...   \n",
       "\n",
       "   Avg_Payment_ByDRGmedicare  \n",
       "0                6413.780000  \n",
       "1                8081.540000  \n",
       "2               20555.255000  \n",
       "3               11140.963333  \n",
       "4                8258.427500  "
      ]
     },
     "execution_count": 32,
     "metadata": {},
     "output_type": "execute_result"
    }
   ],
   "source": [
    "d = df.groupby(['Provider_State','DRG_Definition'])['Average_Medicare_Payments'].mean().reset_index()\n",
    "d.columns = ['Provider_State','DRG_Definition','Avg_Payment_ByDRGmedicare']\n",
    "d.head()"
   ]
  },
  {
   "cell_type": "code",
   "execution_count": 33,
   "id": "4a394e10",
   "metadata": {},
   "outputs": [
    {
     "data": {
      "text/plain": [
       "count    163065.000000\n",
       "mean          1.000000\n",
       "std           0.215091\n",
       "min           0.339831\n",
       "25%           0.868395\n",
       "50%           0.954250\n",
       "75%           1.071483\n",
       "max           5.174415\n",
       "Name: state_drug_medi_avg_ratio_amount, dtype: float64"
      ]
     },
     "execution_count": 33,
     "metadata": {},
     "output_type": "execute_result"
    }
   ],
   "source": [
    "df4 = pd.merge(df, d, how='left', on=['Provider_State','DRG_Definition'])\n",
    "df4['state_drug_medi_avg_ratio_amount'] = np.where(df4['Avg_Payment_ByDRGmedicare']==0,0, df4['Average_Medicare_Payments'] / df4['Avg_Payment_ByDRGmedicare'])\n",
    "df4['state_drug_medi_avg_ratio_amount'].describe()"
   ]
  },
  {
   "cell_type": "code",
   "execution_count": 34,
   "id": "9eaa9082",
   "metadata": {},
   "outputs": [
    {
     "data": {
      "text/html": [
       "<div>\n",
       "<style scoped>\n",
       "    .dataframe tbody tr th:only-of-type {\n",
       "        vertical-align: middle;\n",
       "    }\n",
       "\n",
       "    .dataframe tbody tr th {\n",
       "        vertical-align: top;\n",
       "    }\n",
       "\n",
       "    .dataframe thead th {\n",
       "        text-align: right;\n",
       "    }\n",
       "</style>\n",
       "<table border=\"1\" class=\"dataframe\">\n",
       "  <thead>\n",
       "    <tr style=\"text-align: right;\">\n",
       "      <th></th>\n",
       "      <th>DRG_Definition</th>\n",
       "      <th>Provider_Id</th>\n",
       "      <th>Provider_Name</th>\n",
       "      <th>Provider_Street_Address</th>\n",
       "      <th>Provider_City</th>\n",
       "      <th>Provider_State</th>\n",
       "      <th>Provider_Zip_Code</th>\n",
       "      <th>Hospital_Referral_Region_Description</th>\n",
       "      <th>Total_Discharges</th>\n",
       "      <th>Average_Covered_Charges</th>\n",
       "      <th>Average_Total_Payments</th>\n",
       "      <th>Average_Medicare_Payments</th>\n",
       "      <th>Avg_Payment_ByDRGmedicare</th>\n",
       "      <th>state_drug_medi_avg_ratio_amount</th>\n",
       "      <th>state_drug_medi_avg_ratio_amount_D</th>\n",
       "    </tr>\n",
       "  </thead>\n",
       "  <tbody>\n",
       "    <tr>\n",
       "      <th>0</th>\n",
       "      <td>039 - EXTRACRANIAL PROCEDURES W/O CC/MCC</td>\n",
       "      <td>10001</td>\n",
       "      <td>SOUTHEAST ALABAMA MEDICAL CENTER</td>\n",
       "      <td>1108 ROSS CLARK CIRCLE</td>\n",
       "      <td>DOTHAN</td>\n",
       "      <td>AL</td>\n",
       "      <td>36301</td>\n",
       "      <td>AL - Dothan</td>\n",
       "      <td>91</td>\n",
       "      <td>32963.07</td>\n",
       "      <td>5777.24</td>\n",
       "      <td>4763.73</td>\n",
       "      <td>4599.593043</td>\n",
       "      <td>1.035685</td>\n",
       "      <td>(0.954, 1.111]</td>\n",
       "    </tr>\n",
       "    <tr>\n",
       "      <th>1</th>\n",
       "      <td>039 - EXTRACRANIAL PROCEDURES W/O CC/MCC</td>\n",
       "      <td>10005</td>\n",
       "      <td>MARSHALL MEDICAL CENTER SOUTH</td>\n",
       "      <td>2505 U S HIGHWAY 431 NORTH</td>\n",
       "      <td>BOAZ</td>\n",
       "      <td>AL</td>\n",
       "      <td>35957</td>\n",
       "      <td>AL - Birmingham</td>\n",
       "      <td>14</td>\n",
       "      <td>15131.85</td>\n",
       "      <td>5787.57</td>\n",
       "      <td>4976.71</td>\n",
       "      <td>4599.593043</td>\n",
       "      <td>1.081989</td>\n",
       "      <td>(0.954, 1.111]</td>\n",
       "    </tr>\n",
       "    <tr>\n",
       "      <th>2</th>\n",
       "      <td>039 - EXTRACRANIAL PROCEDURES W/O CC/MCC</td>\n",
       "      <td>10006</td>\n",
       "      <td>ELIZA COFFEE MEMORIAL HOSPITAL</td>\n",
       "      <td>205 MARENGO STREET</td>\n",
       "      <td>FLORENCE</td>\n",
       "      <td>AL</td>\n",
       "      <td>35631</td>\n",
       "      <td>AL - Birmingham</td>\n",
       "      <td>24</td>\n",
       "      <td>37560.37</td>\n",
       "      <td>5434.95</td>\n",
       "      <td>4453.79</td>\n",
       "      <td>4599.593043</td>\n",
       "      <td>0.968301</td>\n",
       "      <td>(0.954, 1.111]</td>\n",
       "    </tr>\n",
       "    <tr>\n",
       "      <th>3</th>\n",
       "      <td>039 - EXTRACRANIAL PROCEDURES W/O CC/MCC</td>\n",
       "      <td>10011</td>\n",
       "      <td>ST VINCENT'S EAST</td>\n",
       "      <td>50 MEDICAL PARK EAST DRIVE</td>\n",
       "      <td>BIRMINGHAM</td>\n",
       "      <td>AL</td>\n",
       "      <td>35235</td>\n",
       "      <td>AL - Birmingham</td>\n",
       "      <td>25</td>\n",
       "      <td>13998.28</td>\n",
       "      <td>5417.56</td>\n",
       "      <td>4129.16</td>\n",
       "      <td>4599.593043</td>\n",
       "      <td>0.897723</td>\n",
       "      <td>(0.849, 0.954]</td>\n",
       "    </tr>\n",
       "    <tr>\n",
       "      <th>4</th>\n",
       "      <td>039 - EXTRACRANIAL PROCEDURES W/O CC/MCC</td>\n",
       "      <td>10016</td>\n",
       "      <td>SHELBY BAPTIST MEDICAL CENTER</td>\n",
       "      <td>1000 FIRST STREET NORTH</td>\n",
       "      <td>ALABASTER</td>\n",
       "      <td>AL</td>\n",
       "      <td>35007</td>\n",
       "      <td>AL - Birmingham</td>\n",
       "      <td>18</td>\n",
       "      <td>31633.27</td>\n",
       "      <td>5658.33</td>\n",
       "      <td>4851.44</td>\n",
       "      <td>4599.593043</td>\n",
       "      <td>1.054754</td>\n",
       "      <td>(0.954, 1.111]</td>\n",
       "    </tr>\n",
       "  </tbody>\n",
       "</table>\n",
       "</div>"
      ],
      "text/plain": [
       "                             DRG_Definition Provider_Id  \\\n",
       "0  039 - EXTRACRANIAL PROCEDURES W/O CC/MCC       10001   \n",
       "1  039 - EXTRACRANIAL PROCEDURES W/O CC/MCC       10005   \n",
       "2  039 - EXTRACRANIAL PROCEDURES W/O CC/MCC       10006   \n",
       "3  039 - EXTRACRANIAL PROCEDURES W/O CC/MCC       10011   \n",
       "4  039 - EXTRACRANIAL PROCEDURES W/O CC/MCC       10016   \n",
       "\n",
       "                      Provider_Name     Provider_Street_Address Provider_City  \\\n",
       "0  SOUTHEAST ALABAMA MEDICAL CENTER      1108 ROSS CLARK CIRCLE        DOTHAN   \n",
       "1     MARSHALL MEDICAL CENTER SOUTH  2505 U S HIGHWAY 431 NORTH          BOAZ   \n",
       "2    ELIZA COFFEE MEMORIAL HOSPITAL          205 MARENGO STREET      FLORENCE   \n",
       "3                 ST VINCENT'S EAST  50 MEDICAL PARK EAST DRIVE    BIRMINGHAM   \n",
       "4     SHELBY BAPTIST MEDICAL CENTER     1000 FIRST STREET NORTH     ALABASTER   \n",
       "\n",
       "  Provider_State  Provider_Zip_Code Hospital_Referral_Region_Description  \\\n",
       "0             AL              36301                          AL - Dothan   \n",
       "1             AL              35957                      AL - Birmingham   \n",
       "2             AL              35631                      AL - Birmingham   \n",
       "3             AL              35235                      AL - Birmingham   \n",
       "4             AL              35007                      AL - Birmingham   \n",
       "\n",
       "   Total_Discharges  Average_Covered_Charges  Average_Total_Payments  \\\n",
       "0                91                 32963.07                 5777.24   \n",
       "1                14                 15131.85                 5787.57   \n",
       "2                24                 37560.37                 5434.95   \n",
       "3                25                 13998.28                 5417.56   \n",
       "4                18                 31633.27                 5658.33   \n",
       "\n",
       "   Average_Medicare_Payments  Avg_Payment_ByDRGmedicare  \\\n",
       "0                    4763.73                4599.593043   \n",
       "1                    4976.71                4599.593043   \n",
       "2                    4453.79                4599.593043   \n",
       "3                    4129.16                4599.593043   \n",
       "4                    4851.44                4599.593043   \n",
       "\n",
       "   state_drug_medi_avg_ratio_amount state_drug_medi_avg_ratio_amount_D  \n",
       "0                          1.035685                     (0.954, 1.111]  \n",
       "1                          1.081989                     (0.954, 1.111]  \n",
       "2                          0.968301                     (0.954, 1.111]  \n",
       "3                          0.897723                     (0.849, 0.954]  \n",
       "4                          1.054754                     (0.954, 1.111]  "
      ]
     },
     "execution_count": 34,
     "metadata": {},
     "output_type": "execute_result"
    }
   ],
   "source": [
    "var = 'state_drug_medi_avg_ratio_amount'\n",
    "binned_var = var + '_D'\n",
    "percentile = [0,0.01,0.05,0.2,0.5,0.8,0.95,0.99,1]\n",
    "df4[binned_var] = pd.qcut( df4[var],percentile)\n",
    "df4[['state_drug_medi_avg_ratio_amount_D']]\n",
    "df4.head()"
   ]
  },
  {
   "cell_type": "code",
   "execution_count": 35,
   "id": "6003b269",
   "metadata": {},
   "outputs": [
    {
     "data": {
      "text/plain": [
       "[Text(0, 0, '(0.339, 0.655]'),\n",
       " Text(1, 0, '(0.655, 0.757]'),\n",
       " Text(2, 0, '(0.757, 0.849]'),\n",
       " Text(3, 0, '(0.849, 0.954]'),\n",
       " Text(4, 0, '(0.954, 1.111]'),\n",
       " Text(5, 0, '(1.111, 1.43]'),\n",
       " Text(6, 0, '(1.43, 1.744]'),\n",
       " Text(7, 0, '(1.744, 5.174]')]"
      ]
     },
     "execution_count": 35,
     "metadata": {},
     "output_type": "execute_result"
    },
    {
     "data": {
      "image/png": "[encoded data removed]",
      "text/plain": [
       "<Figure size 432x288 with 1 Axes>"
      ]
     },
     "metadata": {
      "needs_background": "light"
     },
     "output_type": "display_data"
    }
   ],
   "source": [
    "import matplotlib.pyplot as plt\n",
    "plt.figure(figsize=(6,4))\n",
    "g = sns.countplot(x=\"state_drug_medi_avg_ratio_amount_D\", data=df4)\n",
    "g.set_xticklabels(g.get_xticklabels(), rotation=90)"
   ]
  },
  {
   "cell_type": "code",
   "execution_count": 36,
   "id": "d3f21fac",
   "metadata": {},
   "outputs": [
    {
     "data": {
      "text/plain": [
       "59                AR - Little Rock\n",
       "456                 MD - Baltimore\n",
       "690          NY - East Long Island\n",
       "928                   TX - Houston\n",
       "1172      CA - Contra Costa County\n",
       "                    ...           \n",
       "162928        VA - Charlottesville\n",
       "162934               VA - Richmond\n",
       "162972                WA - Seattle\n",
       "163043                WI - Madison\n",
       "163063                 TX - Dallas\n",
       "Name: Hospital_Referral_Region_Description, Length: 2128, dtype: object"
      ]
     },
     "execution_count": 36,
     "metadata": {},
     "output_type": "execute_result"
    }
   ],
   "source": [
    "df4.loc[df4['state_drug_medi_avg_ratio_amount']>1.7,'Hospital_Referral_Region_Description']"
   ]
  },
  {
   "cell_type": "markdown",
   "id": "d09371dc",
   "metadata": {},
   "source": [
    "### 3.5 Ratio count of average number of discharges for each hospital per individual clinical procedure"
   ]
  },
  {
   "cell_type": "markdown",
   "id": "9ab21a2c",
   "metadata": {},
   "source": [
    "- Idea: This features helps us to identify the set of hospitals which are having more number of discharges than the average. This indicats these hospitals are trying to claim more amount for their personal benefits"
   ]
  },
  {
   "cell_type": "code",
   "execution_count": 37,
   "id": "8ca3c21d",
   "metadata": {},
   "outputs": [
    {
     "data": {
      "text/html": [
       "<div>\n",
       "<style scoped>\n",
       "    .dataframe tbody tr th:only-of-type {\n",
       "        vertical-align: middle;\n",
       "    }\n",
       "\n",
       "    .dataframe tbody tr th {\n",
       "        vertical-align: top;\n",
       "    }\n",
       "\n",
       "    .dataframe thead th {\n",
       "        text-align: right;\n",
       "    }\n",
       "</style>\n",
       "<table border=\"1\" class=\"dataframe\">\n",
       "  <thead>\n",
       "    <tr style=\"text-align: right;\">\n",
       "      <th></th>\n",
       "      <th>Hospital_Referral_Region_Description</th>\n",
       "      <th>DRG_Definition</th>\n",
       "      <th>Mean_Total_Discharges</th>\n",
       "    </tr>\n",
       "  </thead>\n",
       "  <tbody>\n",
       "    <tr>\n",
       "      <th>0</th>\n",
       "      <td>AK - Anchorage</td>\n",
       "      <td>039 - EXTRACRANIAL PROCEDURES W/O CC/MCC</td>\n",
       "      <td>23.000000</td>\n",
       "    </tr>\n",
       "    <tr>\n",
       "      <th>1</th>\n",
       "      <td>AK - Anchorage</td>\n",
       "      <td>057 - DEGENERATIVE NERVOUS SYSTEM DISORDERS W/...</td>\n",
       "      <td>11.000000</td>\n",
       "    </tr>\n",
       "    <tr>\n",
       "      <th>2</th>\n",
       "      <td>AK - Anchorage</td>\n",
       "      <td>064 - INTRACRANIAL HEMORRHAGE OR CEREBRAL INFA...</td>\n",
       "      <td>22.500000</td>\n",
       "    </tr>\n",
       "    <tr>\n",
       "      <th>3</th>\n",
       "      <td>AK - Anchorage</td>\n",
       "      <td>065 - INTRACRANIAL HEMORRHAGE OR CEREBRAL INFA...</td>\n",
       "      <td>25.333333</td>\n",
       "    </tr>\n",
       "    <tr>\n",
       "      <th>4</th>\n",
       "      <td>AK - Anchorage</td>\n",
       "      <td>066 - INTRACRANIAL HEMORRHAGE OR CEREBRAL INFA...</td>\n",
       "      <td>21.000000</td>\n",
       "    </tr>\n",
       "  </tbody>\n",
       "</table>\n",
       "</div>"
      ],
      "text/plain": [
       "  Hospital_Referral_Region_Description  \\\n",
       "0                       AK - Anchorage   \n",
       "1                       AK - Anchorage   \n",
       "2                       AK - Anchorage   \n",
       "3                       AK - Anchorage   \n",
       "4                       AK - Anchorage   \n",
       "\n",
       "                                      DRG_Definition  Mean_Total_Discharges  \n",
       "0           039 - EXTRACRANIAL PROCEDURES W/O CC/MCC              23.000000  \n",
       "1  057 - DEGENERATIVE NERVOUS SYSTEM DISORDERS W/...              11.000000  \n",
       "2  064 - INTRACRANIAL HEMORRHAGE OR CEREBRAL INFA...              22.500000  \n",
       "3  065 - INTRACRANIAL HEMORRHAGE OR CEREBRAL INFA...              25.333333  \n",
       "4  066 - INTRACRANIAL HEMORRHAGE OR CEREBRAL INFA...              21.000000  "
      ]
     },
     "execution_count": 37,
     "metadata": {},
     "output_type": "execute_result"
    }
   ],
   "source": [
    "e = df.groupby(['Hospital_Referral_Region_Description','DRG_Definition'])['Total_Discharges'].mean().reset_index()\n",
    "e.columns = ['Hospital_Referral_Region_Description','DRG_Definition','Mean_Total_Discharges']\n",
    "e.head()"
   ]
  },
  {
   "cell_type": "code",
   "execution_count": 38,
   "id": "a827844a",
   "metadata": {},
   "outputs": [
    {
     "data": {
      "text/plain": [
       "count    163065.000000\n",
       "mean          1.000000\n",
       "std           0.596288\n",
       "min           0.015412\n",
       "25%           0.592105\n",
       "50%           0.886894\n",
       "75%           1.250000\n",
       "max          11.008786\n",
       "Name: hosp_drug_dis_ratio_amount, dtype: float64"
      ]
     },
     "execution_count": 38,
     "metadata": {},
     "output_type": "execute_result"
    }
   ],
   "source": [
    "df5 = pd.merge(df, e, how='left', on=['Hospital_Referral_Region_Description','DRG_Definition'])\n",
    "df5['hosp_drug_dis_ratio_amount'] = np.where(df5['Mean_Total_Discharges']==0,0, df5['Total_Discharges'] / df5['Mean_Total_Discharges'])\n",
    "df5['hosp_drug_dis_ratio_amount'].describe()"
   ]
  },
  {
   "cell_type": "code",
   "execution_count": 39,
   "id": "0b8d984e",
   "metadata": {},
   "outputs": [
    {
     "data": {
      "text/html": [
       "<div>\n",
       "<style scoped>\n",
       "    .dataframe tbody tr th:only-of-type {\n",
       "        vertical-align: middle;\n",
       "    }\n",
       "\n",
       "    .dataframe tbody tr th {\n",
       "        vertical-align: top;\n",
       "    }\n",
       "\n",
       "    .dataframe thead th {\n",
       "        text-align: right;\n",
       "    }\n",
       "</style>\n",
       "<table border=\"1\" class=\"dataframe\">\n",
       "  <thead>\n",
       "    <tr style=\"text-align: right;\">\n",
       "      <th></th>\n",
       "      <th>DRG_Definition</th>\n",
       "      <th>Provider_Id</th>\n",
       "      <th>Provider_Name</th>\n",
       "      <th>Provider_Street_Address</th>\n",
       "      <th>Provider_City</th>\n",
       "      <th>Provider_State</th>\n",
       "      <th>Provider_Zip_Code</th>\n",
       "      <th>Hospital_Referral_Region_Description</th>\n",
       "      <th>Total_Discharges</th>\n",
       "      <th>Average_Covered_Charges</th>\n",
       "      <th>Average_Total_Payments</th>\n",
       "      <th>Average_Medicare_Payments</th>\n",
       "      <th>Mean_Total_Discharges</th>\n",
       "      <th>hosp_drug_dis_ratio_amount</th>\n",
       "      <th>hosp_drug_dis_ratio_amount_D</th>\n",
       "    </tr>\n",
       "  </thead>\n",
       "  <tbody>\n",
       "    <tr>\n",
       "      <th>0</th>\n",
       "      <td>039 - EXTRACRANIAL PROCEDURES W/O CC/MCC</td>\n",
       "      <td>10001</td>\n",
       "      <td>SOUTHEAST ALABAMA MEDICAL CENTER</td>\n",
       "      <td>1108 ROSS CLARK CIRCLE</td>\n",
       "      <td>DOTHAN</td>\n",
       "      <td>AL</td>\n",
       "      <td>36301</td>\n",
       "      <td>AL - Dothan</td>\n",
       "      <td>91</td>\n",
       "      <td>32963.07</td>\n",
       "      <td>5777.24</td>\n",
       "      <td>4763.73</td>\n",
       "      <td>68.000000</td>\n",
       "      <td>1.338235</td>\n",
       "      <td>(0.887, 1.369]</td>\n",
       "    </tr>\n",
       "    <tr>\n",
       "      <th>1</th>\n",
       "      <td>039 - EXTRACRANIAL PROCEDURES W/O CC/MCC</td>\n",
       "      <td>10005</td>\n",
       "      <td>MARSHALL MEDICAL CENTER SOUTH</td>\n",
       "      <td>2505 U S HIGHWAY 431 NORTH</td>\n",
       "      <td>BOAZ</td>\n",
       "      <td>AL</td>\n",
       "      <td>35957</td>\n",
       "      <td>AL - Birmingham</td>\n",
       "      <td>14</td>\n",
       "      <td>15131.85</td>\n",
       "      <td>5787.57</td>\n",
       "      <td>4976.71</td>\n",
       "      <td>27.461538</td>\n",
       "      <td>0.509804</td>\n",
       "      <td>(0.321, 0.535]</td>\n",
       "    </tr>\n",
       "    <tr>\n",
       "      <th>2</th>\n",
       "      <td>039 - EXTRACRANIAL PROCEDURES W/O CC/MCC</td>\n",
       "      <td>10006</td>\n",
       "      <td>ELIZA COFFEE MEMORIAL HOSPITAL</td>\n",
       "      <td>205 MARENGO STREET</td>\n",
       "      <td>FLORENCE</td>\n",
       "      <td>AL</td>\n",
       "      <td>35631</td>\n",
       "      <td>AL - Birmingham</td>\n",
       "      <td>24</td>\n",
       "      <td>37560.37</td>\n",
       "      <td>5434.95</td>\n",
       "      <td>4453.79</td>\n",
       "      <td>27.461538</td>\n",
       "      <td>0.873950</td>\n",
       "      <td>(0.535, 0.887]</td>\n",
       "    </tr>\n",
       "    <tr>\n",
       "      <th>3</th>\n",
       "      <td>039 - EXTRACRANIAL PROCEDURES W/O CC/MCC</td>\n",
       "      <td>10011</td>\n",
       "      <td>ST VINCENT'S EAST</td>\n",
       "      <td>50 MEDICAL PARK EAST DRIVE</td>\n",
       "      <td>BIRMINGHAM</td>\n",
       "      <td>AL</td>\n",
       "      <td>35235</td>\n",
       "      <td>AL - Birmingham</td>\n",
       "      <td>25</td>\n",
       "      <td>13998.28</td>\n",
       "      <td>5417.56</td>\n",
       "      <td>4129.16</td>\n",
       "      <td>27.461538</td>\n",
       "      <td>0.910364</td>\n",
       "      <td>(0.887, 1.369]</td>\n",
       "    </tr>\n",
       "    <tr>\n",
       "      <th>4</th>\n",
       "      <td>039 - EXTRACRANIAL PROCEDURES W/O CC/MCC</td>\n",
       "      <td>10016</td>\n",
       "      <td>SHELBY BAPTIST MEDICAL CENTER</td>\n",
       "      <td>1000 FIRST STREET NORTH</td>\n",
       "      <td>ALABASTER</td>\n",
       "      <td>AL</td>\n",
       "      <td>35007</td>\n",
       "      <td>AL - Birmingham</td>\n",
       "      <td>18</td>\n",
       "      <td>31633.27</td>\n",
       "      <td>5658.33</td>\n",
       "      <td>4851.44</td>\n",
       "      <td>27.461538</td>\n",
       "      <td>0.655462</td>\n",
       "      <td>(0.535, 0.887]</td>\n",
       "    </tr>\n",
       "  </tbody>\n",
       "</table>\n",
       "</div>"
      ],
      "text/plain": [
       "                             DRG_Definition Provider_Id  \\\n",
       "0  039 - EXTRACRANIAL PROCEDURES W/O CC/MCC       10001   \n",
       "1  039 - EXTRACRANIAL PROCEDURES W/O CC/MCC       10005   \n",
       "2  039 - EXTRACRANIAL PROCEDURES W/O CC/MCC       10006   \n",
       "3  039 - EXTRACRANIAL PROCEDURES W/O CC/MCC       10011   \n",
       "4  039 - EXTRACRANIAL PROCEDURES W/O CC/MCC       10016   \n",
       "\n",
       "                      Provider_Name     Provider_Street_Address Provider_City  \\\n",
       "0  SOUTHEAST ALABAMA MEDICAL CENTER      1108 ROSS CLARK CIRCLE        DOTHAN   \n",
       "1     MARSHALL MEDICAL CENTER SOUTH  2505 U S HIGHWAY 431 NORTH          BOAZ   \n",
       "2    ELIZA COFFEE MEMORIAL HOSPITAL          205 MARENGO STREET      FLORENCE   \n",
       "3                 ST VINCENT'S EAST  50 MEDICAL PARK EAST DRIVE    BIRMINGHAM   \n",
       "4     SHELBY BAPTIST MEDICAL CENTER     1000 FIRST STREET NORTH     ALABASTER   \n",
       "\n",
       "  Provider_State  Provider_Zip_Code Hospital_Referral_Region_Description  \\\n",
       "0             AL              36301                          AL - Dothan   \n",
       "1             AL              35957                      AL - Birmingham   \n",
       "2             AL              35631                      AL - Birmingham   \n",
       "3             AL              35235                      AL - Birmingham   \n",
       "4             AL              35007                      AL - Birmingham   \n",
       "\n",
       "   Total_Discharges  Average_Covered_Charges  Average_Total_Payments  \\\n",
       "0                91                 32963.07                 5777.24   \n",
       "1                14                 15131.85                 5787.57   \n",
       "2                24                 37560.37                 5434.95   \n",
       "3                25                 13998.28                 5417.56   \n",
       "4                18                 31633.27                 5658.33   \n",
       "\n",
       "   Average_Medicare_Payments  Mean_Total_Discharges  \\\n",
       "0                    4763.73              68.000000   \n",
       "1                    4976.71              27.461538   \n",
       "2                    4453.79              27.461538   \n",
       "3                    4129.16              27.461538   \n",
       "4                    4851.44              27.461538   \n",
       "\n",
       "   hosp_drug_dis_ratio_amount hosp_drug_dis_ratio_amount_D  \n",
       "0                    1.338235               (0.887, 1.369]  \n",
       "1                    0.509804               (0.321, 0.535]  \n",
       "2                    0.873950               (0.535, 0.887]  \n",
       "3                    0.910364               (0.887, 1.369]  \n",
       "4                    0.655462               (0.535, 0.887]  "
      ]
     },
     "execution_count": 39,
     "metadata": {},
     "output_type": "execute_result"
    }
   ],
   "source": [
    "var = 'hosp_drug_dis_ratio_amount'\n",
    "binned_var = var + '_D'\n",
    "percentile = [0,0.01,0.05,0.2,0.5,0.8,0.95,0.99,1]\n",
    "df5[binned_var] = pd.qcut( df5[var],percentile)\n",
    "df5[['hosp_drug_dis_ratio_amount_D']]\n",
    "df5.head()"
   ]
  },
  {
   "cell_type": "code",
   "execution_count": 40,
   "id": "85804afb",
   "metadata": {},
   "outputs": [
    {
     "data": {
      "text/plain": [
       "[Text(0, 0, '(0.0144, 0.2]'),\n",
       " Text(1, 0, '(0.2, 0.321]'),\n",
       " Text(2, 0, '(0.321, 0.535]'),\n",
       " Text(3, 0, '(0.535, 0.887]'),\n",
       " Text(4, 0, '(0.887, 1.369]'),\n",
       " Text(5, 0, '(1.369, 2.098]'),\n",
       " Text(6, 0, '(2.098, 3.086]'),\n",
       " Text(7, 0, '(3.086, 11.009]')]"
      ]
     },
     "execution_count": 40,
     "metadata": {},
     "output_type": "execute_result"
    },
    {
     "data": {
      "image/png": "[encoded data removed]",
      "text/plain": [
       "<Figure size 432x288 with 1 Axes>"
      ]
     },
     "metadata": {
      "needs_background": "light"
     },
     "output_type": "display_data"
    }
   ],
   "source": [
    "import matplotlib.pyplot as plt\n",
    "plt.figure(figsize=(6,4))\n",
    "g = sns.countplot(x=\"hosp_drug_dis_ratio_amount_D\", data=df5)\n",
    "g.set_xticklabels(g.get_xticklabels(), rotation=90)"
   ]
  },
  {
   "cell_type": "code",
   "execution_count": 41,
   "id": "c809fb5f",
   "metadata": {
    "scrolled": true
   },
   "outputs": [
    {
     "data": {
      "text/plain": [
       "60          AR - Little Rock\n",
       "394             KS - Wichita\n",
       "473              MA - Boston\n",
       "571            MO - Columbia\n",
       "795       OK - Oklahoma City\n",
       "                 ...        \n",
       "162070        MA - Worcester\n",
       "162197        MO - St. Louis\n",
       "162296           NJ - Camden\n",
       "162837       TX - Fort Worth\n",
       "163037          WI - Madison\n",
       "Name: Hospital_Referral_Region_Description, Length: 1827, dtype: object"
      ]
     },
     "execution_count": 41,
     "metadata": {},
     "output_type": "execute_result"
    }
   ],
   "source": [
    "df5.loc[df5['hosp_drug_dis_ratio_amount']>3,'Hospital_Referral_Region_Description']"
   ]
  },
  {
   "cell_type": "markdown",
   "id": "77c19950",
   "metadata": {},
   "source": [
    "### 3.6 Ratio count of average covered charges for each hosp per diagnosis procedure"
   ]
  },
  {
   "cell_type": "markdown",
   "id": "ac109d50",
   "metadata": {},
   "source": [
    "- Idea: We calculated the mean of average covered charges grouping by hospital division and each diagnosis procedure. This feature helps us identify any payments that are deviating from the mean payments which indicates these set of hospitals are charging more for discharges and get paid by medicare"
   ]
  },
  {
   "cell_type": "code",
   "execution_count": 42,
   "id": "7c9310de",
   "metadata": {},
   "outputs": [
    {
     "data": {
      "text/html": [
       "<div>\n",
       "<style scoped>\n",
       "    .dataframe tbody tr th:only-of-type {\n",
       "        vertical-align: middle;\n",
       "    }\n",
       "\n",
       "    .dataframe tbody tr th {\n",
       "        vertical-align: top;\n",
       "    }\n",
       "\n",
       "    .dataframe thead th {\n",
       "        text-align: right;\n",
       "    }\n",
       "</style>\n",
       "<table border=\"1\" class=\"dataframe\">\n",
       "  <thead>\n",
       "    <tr style=\"text-align: right;\">\n",
       "      <th></th>\n",
       "      <th>Hospital_Referral_Region_Description</th>\n",
       "      <th>DRG_Definition</th>\n",
       "      <th>Avg_hosp_drg_Covered_Charges</th>\n",
       "    </tr>\n",
       "  </thead>\n",
       "  <tbody>\n",
       "    <tr>\n",
       "      <th>0</th>\n",
       "      <td>AK - Anchorage</td>\n",
       "      <td>039 - EXTRACRANIAL PROCEDURES W/O CC/MCC</td>\n",
       "      <td>34805.1300</td>\n",
       "    </tr>\n",
       "    <tr>\n",
       "      <th>1</th>\n",
       "      <td>AK - Anchorage</td>\n",
       "      <td>057 - DEGENERATIVE NERVOUS SYSTEM DISORDERS W/...</td>\n",
       "      <td>31858.5400</td>\n",
       "    </tr>\n",
       "    <tr>\n",
       "      <th>2</th>\n",
       "      <td>AK - Anchorage</td>\n",
       "      <td>064 - INTRACRANIAL HEMORRHAGE OR CEREBRAL INFA...</td>\n",
       "      <td>42453.8100</td>\n",
       "    </tr>\n",
       "    <tr>\n",
       "      <th>3</th>\n",
       "      <td>AK - Anchorage</td>\n",
       "      <td>065 - INTRACRANIAL HEMORRHAGE OR CEREBRAL INFA...</td>\n",
       "      <td>32629.3700</td>\n",
       "    </tr>\n",
       "    <tr>\n",
       "      <th>4</th>\n",
       "      <td>AK - Anchorage</td>\n",
       "      <td>066 - INTRACRANIAL HEMORRHAGE OR CEREBRAL INFA...</td>\n",
       "      <td>25843.3225</td>\n",
       "    </tr>\n",
       "  </tbody>\n",
       "</table>\n",
       "</div>"
      ],
      "text/plain": [
       "  Hospital_Referral_Region_Description  \\\n",
       "0                       AK - Anchorage   \n",
       "1                       AK - Anchorage   \n",
       "2                       AK - Anchorage   \n",
       "3                       AK - Anchorage   \n",
       "4                       AK - Anchorage   \n",
       "\n",
       "                                      DRG_Definition  \\\n",
       "0           039 - EXTRACRANIAL PROCEDURES W/O CC/MCC   \n",
       "1  057 - DEGENERATIVE NERVOUS SYSTEM DISORDERS W/...   \n",
       "2  064 - INTRACRANIAL HEMORRHAGE OR CEREBRAL INFA...   \n",
       "3  065 - INTRACRANIAL HEMORRHAGE OR CEREBRAL INFA...   \n",
       "4  066 - INTRACRANIAL HEMORRHAGE OR CEREBRAL INFA...   \n",
       "\n",
       "   Avg_hosp_drg_Covered_Charges  \n",
       "0                    34805.1300  \n",
       "1                    31858.5400  \n",
       "2                    42453.8100  \n",
       "3                    32629.3700  \n",
       "4                    25843.3225  "
      ]
     },
     "execution_count": 42,
     "metadata": {},
     "output_type": "execute_result"
    }
   ],
   "source": [
    "f = df.groupby(['Hospital_Referral_Region_Description','DRG_Definition'])['Average_Covered_Charges'].mean().reset_index()\n",
    "f.columns = ['Hospital_Referral_Region_Description','DRG_Definition','Avg_hosp_drg_Covered_Charges']\n",
    "f.head()"
   ]
  },
  {
   "cell_type": "code",
   "execution_count": 43,
   "id": "a04fb172",
   "metadata": {},
   "outputs": [
    {
     "data": {
      "text/plain": [
       "count    163065.000000\n",
       "mean          1.000000\n",
       "std           0.317830\n",
       "min           0.102437\n",
       "25%           0.794733\n",
       "50%           0.975768\n",
       "75%           1.151339\n",
       "max           4.942205\n",
       "Name: hosp_drug_covered_ratio_amount, dtype: float64"
      ]
     },
     "execution_count": 43,
     "metadata": {},
     "output_type": "execute_result"
    }
   ],
   "source": [
    "df6 = pd.merge(df, f, how='left', on=['Hospital_Referral_Region_Description','DRG_Definition'])\n",
    "df6['hosp_drug_covered_ratio_amount'] = np.where(df6['Avg_hosp_drg_Covered_Charges']==0,0, df6['Average_Covered_Charges'] / df6['Avg_hosp_drg_Covered_Charges'])\n",
    "df6['hosp_drug_covered_ratio_amount'].describe()"
   ]
  },
  {
   "cell_type": "code",
   "execution_count": 44,
   "id": "5dce8c3c",
   "metadata": {},
   "outputs": [
    {
     "data": {
      "text/html": [
       "<div>\n",
       "<style scoped>\n",
       "    .dataframe tbody tr th:only-of-type {\n",
       "        vertical-align: middle;\n",
       "    }\n",
       "\n",
       "    .dataframe tbody tr th {\n",
       "        vertical-align: top;\n",
       "    }\n",
       "\n",
       "    .dataframe thead th {\n",
       "        text-align: right;\n",
       "    }\n",
       "</style>\n",
       "<table border=\"1\" class=\"dataframe\">\n",
       "  <thead>\n",
       "    <tr style=\"text-align: right;\">\n",
       "      <th></th>\n",
       "      <th>DRG_Definition</th>\n",
       "      <th>Provider_Id</th>\n",
       "      <th>Provider_Name</th>\n",
       "      <th>Provider_Street_Address</th>\n",
       "      <th>Provider_City</th>\n",
       "      <th>Provider_State</th>\n",
       "      <th>Provider_Zip_Code</th>\n",
       "      <th>Hospital_Referral_Region_Description</th>\n",
       "      <th>Total_Discharges</th>\n",
       "      <th>Average_Covered_Charges</th>\n",
       "      <th>Average_Total_Payments</th>\n",
       "      <th>Average_Medicare_Payments</th>\n",
       "      <th>Avg_hosp_drg_Covered_Charges</th>\n",
       "      <th>hosp_drug_covered_ratio_amount</th>\n",
       "      <th>hosp_drug_covered_ratio_amount_D</th>\n",
       "    </tr>\n",
       "  </thead>\n",
       "  <tbody>\n",
       "    <tr>\n",
       "      <th>0</th>\n",
       "      <td>039 - EXTRACRANIAL PROCEDURES W/O CC/MCC</td>\n",
       "      <td>10001</td>\n",
       "      <td>SOUTHEAST ALABAMA MEDICAL CENTER</td>\n",
       "      <td>1108 ROSS CLARK CIRCLE</td>\n",
       "      <td>DOTHAN</td>\n",
       "      <td>AL</td>\n",
       "      <td>36301</td>\n",
       "      <td>AL - Dothan</td>\n",
       "      <td>91</td>\n",
       "      <td>32963.07</td>\n",
       "      <td>5777.24</td>\n",
       "      <td>4763.73</td>\n",
       "      <td>36285.175000</td>\n",
       "      <td>0.908445</td>\n",
       "      <td>(0.752, 0.976]</td>\n",
       "    </tr>\n",
       "    <tr>\n",
       "      <th>1</th>\n",
       "      <td>039 - EXTRACRANIAL PROCEDURES W/O CC/MCC</td>\n",
       "      <td>10005</td>\n",
       "      <td>MARSHALL MEDICAL CENTER SOUTH</td>\n",
       "      <td>2505 U S HIGHWAY 431 NORTH</td>\n",
       "      <td>BOAZ</td>\n",
       "      <td>AL</td>\n",
       "      <td>35957</td>\n",
       "      <td>AL - Birmingham</td>\n",
       "      <td>14</td>\n",
       "      <td>15131.85</td>\n",
       "      <td>5787.57</td>\n",
       "      <td>4976.71</td>\n",
       "      <td>40237.356923</td>\n",
       "      <td>0.376065</td>\n",
       "      <td>(0.10099999999999999, 0.411]</td>\n",
       "    </tr>\n",
       "    <tr>\n",
       "      <th>2</th>\n",
       "      <td>039 - EXTRACRANIAL PROCEDURES W/O CC/MCC</td>\n",
       "      <td>10006</td>\n",
       "      <td>ELIZA COFFEE MEMORIAL HOSPITAL</td>\n",
       "      <td>205 MARENGO STREET</td>\n",
       "      <td>FLORENCE</td>\n",
       "      <td>AL</td>\n",
       "      <td>35631</td>\n",
       "      <td>AL - Birmingham</td>\n",
       "      <td>24</td>\n",
       "      <td>37560.37</td>\n",
       "      <td>5434.95</td>\n",
       "      <td>4453.79</td>\n",
       "      <td>40237.356923</td>\n",
       "      <td>0.933470</td>\n",
       "      <td>(0.752, 0.976]</td>\n",
       "    </tr>\n",
       "    <tr>\n",
       "      <th>3</th>\n",
       "      <td>039 - EXTRACRANIAL PROCEDURES W/O CC/MCC</td>\n",
       "      <td>10011</td>\n",
       "      <td>ST VINCENT'S EAST</td>\n",
       "      <td>50 MEDICAL PARK EAST DRIVE</td>\n",
       "      <td>BIRMINGHAM</td>\n",
       "      <td>AL</td>\n",
       "      <td>35235</td>\n",
       "      <td>AL - Birmingham</td>\n",
       "      <td>25</td>\n",
       "      <td>13998.28</td>\n",
       "      <td>5417.56</td>\n",
       "      <td>4129.16</td>\n",
       "      <td>40237.356923</td>\n",
       "      <td>0.347893</td>\n",
       "      <td>(0.10099999999999999, 0.411]</td>\n",
       "    </tr>\n",
       "    <tr>\n",
       "      <th>4</th>\n",
       "      <td>039 - EXTRACRANIAL PROCEDURES W/O CC/MCC</td>\n",
       "      <td>10016</td>\n",
       "      <td>SHELBY BAPTIST MEDICAL CENTER</td>\n",
       "      <td>1000 FIRST STREET NORTH</td>\n",
       "      <td>ALABASTER</td>\n",
       "      <td>AL</td>\n",
       "      <td>35007</td>\n",
       "      <td>AL - Birmingham</td>\n",
       "      <td>18</td>\n",
       "      <td>31633.27</td>\n",
       "      <td>5658.33</td>\n",
       "      <td>4851.44</td>\n",
       "      <td>40237.356923</td>\n",
       "      <td>0.786167</td>\n",
       "      <td>(0.752, 0.976]</td>\n",
       "    </tr>\n",
       "  </tbody>\n",
       "</table>\n",
       "</div>"
      ],
      "text/plain": [
       "                             DRG_Definition Provider_Id  \\\n",
       "0  039 - EXTRACRANIAL PROCEDURES W/O CC/MCC       10001   \n",
       "1  039 - EXTRACRANIAL PROCEDURES W/O CC/MCC       10005   \n",
       "2  039 - EXTRACRANIAL PROCEDURES W/O CC/MCC       10006   \n",
       "3  039 - EXTRACRANIAL PROCEDURES W/O CC/MCC       10011   \n",
       "4  039 - EXTRACRANIAL PROCEDURES W/O CC/MCC       10016   \n",
       "\n",
       "                      Provider_Name     Provider_Street_Address Provider_City  \\\n",
       "0  SOUTHEAST ALABAMA MEDICAL CENTER      1108 ROSS CLARK CIRCLE        DOTHAN   \n",
       "1     MARSHALL MEDICAL CENTER SOUTH  2505 U S HIGHWAY 431 NORTH          BOAZ   \n",
       "2    ELIZA COFFEE MEMORIAL HOSPITAL          205 MARENGO STREET      FLORENCE   \n",
       "3                 ST VINCENT'S EAST  50 MEDICAL PARK EAST DRIVE    BIRMINGHAM   \n",
       "4     SHELBY BAPTIST MEDICAL CENTER     1000 FIRST STREET NORTH     ALABASTER   \n",
       "\n",
       "  Provider_State  Provider_Zip_Code Hospital_Referral_Region_Description  \\\n",
       "0             AL              36301                          AL - Dothan   \n",
       "1             AL              35957                      AL - Birmingham   \n",
       "2             AL              35631                      AL - Birmingham   \n",
       "3             AL              35235                      AL - Birmingham   \n",
       "4             AL              35007                      AL - Birmingham   \n",
       "\n",
       "   Total_Discharges  Average_Covered_Charges  Average_Total_Payments  \\\n",
       "0                91                 32963.07                 5777.24   \n",
       "1                14                 15131.85                 5787.57   \n",
       "2                24                 37560.37                 5434.95   \n",
       "3                25                 13998.28                 5417.56   \n",
       "4                18                 31633.27                 5658.33   \n",
       "\n",
       "   Average_Medicare_Payments  Avg_hosp_drg_Covered_Charges  \\\n",
       "0                    4763.73                  36285.175000   \n",
       "1                    4976.71                  40237.356923   \n",
       "2                    4453.79                  40237.356923   \n",
       "3                    4129.16                  40237.356923   \n",
       "4                    4851.44                  40237.356923   \n",
       "\n",
       "   hosp_drug_covered_ratio_amount hosp_drug_covered_ratio_amount_D  \n",
       "0                        0.908445                   (0.752, 0.976]  \n",
       "1                        0.376065     (0.10099999999999999, 0.411]  \n",
       "2                        0.933470                   (0.752, 0.976]  \n",
       "3                        0.347893     (0.10099999999999999, 0.411]  \n",
       "4                        0.786167                   (0.752, 0.976]  "
      ]
     },
     "execution_count": 44,
     "metadata": {},
     "output_type": "execute_result"
    }
   ],
   "source": [
    "var = 'hosp_drug_covered_ratio_amount'\n",
    "binned_var = var + '_D'\n",
    "percentile = [0,0.01,0.05,0.2,0.5,0.8,0.95,0.99,1]\n",
    "df6[binned_var] = pd.qcut(df6[var],percentile)\n",
    "df6[['hosp_drug_covered_ratio_amount_D']]\n",
    "df6.head()"
   ]
  },
  {
   "cell_type": "code",
   "execution_count": 45,
   "id": "3b710491",
   "metadata": {},
   "outputs": [
    {
     "data": {
      "text/plain": [
       "[Text(0, 0, '(0.10099999999999999, 0.411]'),\n",
       " Text(1, 0, '(0.411, 0.556]'),\n",
       " Text(2, 0, '(0.556, 0.752]'),\n",
       " Text(3, 0, '(0.752, 0.976]'),\n",
       " Text(4, 0, '(0.976, 1.208]'),\n",
       " Text(5, 0, '(1.208, 1.56]'),\n",
       " Text(6, 0, '(1.56, 2.021]'),\n",
       " Text(7, 0, '(2.021, 4.942]')]"
      ]
     },
     "execution_count": 45,
     "metadata": {},
     "output_type": "execute_result"
    },
    {
     "data": {
      "image/png": "[encoded data removed]",
      "text/plain": [
       "<Figure size 432x288 with 1 Axes>"
      ]
     },
     "metadata": {
      "needs_background": "light"
     },
     "output_type": "display_data"
    }
   ],
   "source": [
    "import matplotlib.pyplot as plt\n",
    "plt.figure(figsize=(6,4))\n",
    "g = sns.countplot(x=\"hosp_drug_covered_ratio_amount_D\", data=df6)\n",
    "g.set_xticklabels(g.get_xticklabels(), rotation=90)"
   ]
  },
  {
   "cell_type": "code",
   "execution_count": 46,
   "id": "a91993cd",
   "metadata": {},
   "outputs": [
    {
     "data": {
      "text/plain": [
       "59         AR - Little Rock\n",
       "94         CA - Los Angeles\n",
       "123         CA - Sacramento\n",
       "159         DC - Washington\n",
       "160         DC - Washington\n",
       "                ...        \n",
       "162660    PA - Philadelphia\n",
       "162684      PA - Pittsburgh\n",
       "162711    PA - Philadelphia\n",
       "162713    PA - Philadelphia\n",
       "162813         TX - Lubbock\n",
       "Name: Hospital_Referral_Region_Description, Length: 1751, dtype: object"
      ]
     },
     "execution_count": 46,
     "metadata": {},
     "output_type": "execute_result"
    }
   ],
   "source": [
    "df6.loc[df6['hosp_drug_covered_ratio_amount']>2,'Hospital_Referral_Region_Description']"
   ]
  },
  {
   "cell_type": "markdown",
   "id": "f66faccc",
   "metadata": {},
   "source": [
    "### 3.7 Ratio count of average medicare payments zipcode wise"
   ]
  },
  {
   "cell_type": "markdown",
   "id": "9a79442d",
   "metadata": {},
   "source": [
    "- Idea: This feature helps us identify the regions where there are anomalies in the average medicare payments. recording more number of discharges to gain money is a fradulent behaviour. "
   ]
  },
  {
   "cell_type": "code",
   "execution_count": 47,
   "id": "f16d94ac",
   "metadata": {},
   "outputs": [
    {
     "data": {
      "text/html": [
       "<div>\n",
       "<style scoped>\n",
       "    .dataframe tbody tr th:only-of-type {\n",
       "        vertical-align: middle;\n",
       "    }\n",
       "\n",
       "    .dataframe tbody tr th {\n",
       "        vertical-align: top;\n",
       "    }\n",
       "\n",
       "    .dataframe thead th {\n",
       "        text-align: right;\n",
       "    }\n",
       "</style>\n",
       "<table border=\"1\" class=\"dataframe\">\n",
       "  <thead>\n",
       "    <tr style=\"text-align: right;\">\n",
       "      <th></th>\n",
       "      <th>Provider_Zip_Code</th>\n",
       "      <th>Average_Medicare_zip_Payments</th>\n",
       "    </tr>\n",
       "  </thead>\n",
       "  <tbody>\n",
       "    <tr>\n",
       "      <th>0</th>\n",
       "      <td>1040</td>\n",
       "      <td>6978.844746</td>\n",
       "    </tr>\n",
       "    <tr>\n",
       "      <th>1</th>\n",
       "      <td>1060</td>\n",
       "      <td>6362.157903</td>\n",
       "    </tr>\n",
       "    <tr>\n",
       "      <th>2</th>\n",
       "      <td>1069</td>\n",
       "      <td>4846.406579</td>\n",
       "    </tr>\n",
       "    <tr>\n",
       "      <th>3</th>\n",
       "      <td>1082</td>\n",
       "      <td>4665.568462</td>\n",
       "    </tr>\n",
       "    <tr>\n",
       "      <th>4</th>\n",
       "      <td>1085</td>\n",
       "      <td>5584.111944</td>\n",
       "    </tr>\n",
       "  </tbody>\n",
       "</table>\n",
       "</div>"
      ],
      "text/plain": [
       "   Provider_Zip_Code  Average_Medicare_zip_Payments\n",
       "0               1040                    6978.844746\n",
       "1               1060                    6362.157903\n",
       "2               1069                    4846.406579\n",
       "3               1082                    4665.568462\n",
       "4               1085                    5584.111944"
      ]
     },
     "execution_count": 47,
     "metadata": {},
     "output_type": "execute_result"
    }
   ],
   "source": [
    "g = df.groupby(['Provider_Zip_Code'])['Average_Medicare_Payments'].mean().reset_index()\n",
    "g.columns = ['Provider_Zip_Code','Average_Medicare_zip_Payments']\n",
    "g.head()"
   ]
  },
  {
   "cell_type": "code",
   "execution_count": 48,
   "id": "5e81bc4b",
   "metadata": {},
   "outputs": [
    {
     "data": {
      "text/plain": [
       "count    163065.000000\n",
       "mean          1.000000\n",
       "std           0.745538\n",
       "min           0.174998\n",
       "25%           0.532471\n",
       "50%           0.760642\n",
       "75%           1.218994\n",
       "max          15.692215\n",
       "Name: zip_medicare_ratio_amount, dtype: float64"
      ]
     },
     "execution_count": 48,
     "metadata": {},
     "output_type": "execute_result"
    }
   ],
   "source": [
    "df7 = pd.merge(df, g, how='left', on=['Provider_Zip_Code'])\n",
    "df7['zip_medicare_ratio_amount'] = np.where(df7['Average_Medicare_zip_Payments']==0,0, df7['Average_Medicare_Payments'] / df7['Average_Medicare_zip_Payments'])\n",
    "df7['zip_medicare_ratio_amount'].describe()"
   ]
  },
  {
   "cell_type": "code",
   "execution_count": 49,
   "id": "3ae57a49",
   "metadata": {},
   "outputs": [
    {
     "data": {
      "text/html": [
       "<div>\n",
       "<style scoped>\n",
       "    .dataframe tbody tr th:only-of-type {\n",
       "        vertical-align: middle;\n",
       "    }\n",
       "\n",
       "    .dataframe tbody tr th {\n",
       "        vertical-align: top;\n",
       "    }\n",
       "\n",
       "    .dataframe thead th {\n",
       "        text-align: right;\n",
       "    }\n",
       "</style>\n",
       "<table border=\"1\" class=\"dataframe\">\n",
       "  <thead>\n",
       "    <tr style=\"text-align: right;\">\n",
       "      <th></th>\n",
       "      <th>DRG_Definition</th>\n",
       "      <th>Provider_Id</th>\n",
       "      <th>Provider_Name</th>\n",
       "      <th>Provider_Street_Address</th>\n",
       "      <th>Provider_City</th>\n",
       "      <th>Provider_State</th>\n",
       "      <th>Provider_Zip_Code</th>\n",
       "      <th>Hospital_Referral_Region_Description</th>\n",
       "      <th>Total_Discharges</th>\n",
       "      <th>Average_Covered_Charges</th>\n",
       "      <th>Average_Total_Payments</th>\n",
       "      <th>Average_Medicare_Payments</th>\n",
       "      <th>Average_Medicare_zip_Payments</th>\n",
       "      <th>zip_medicare_ratio_amount</th>\n",
       "      <th>zip_medicare_ratio_amount_D</th>\n",
       "    </tr>\n",
       "  </thead>\n",
       "  <tbody>\n",
       "    <tr>\n",
       "      <th>0</th>\n",
       "      <td>039 - EXTRACRANIAL PROCEDURES W/O CC/MCC</td>\n",
       "      <td>10001</td>\n",
       "      <td>SOUTHEAST ALABAMA MEDICAL CENTER</td>\n",
       "      <td>1108 ROSS CLARK CIRCLE</td>\n",
       "      <td>DOTHAN</td>\n",
       "      <td>AL</td>\n",
       "      <td>36301</td>\n",
       "      <td>AL - Dothan</td>\n",
       "      <td>91</td>\n",
       "      <td>32963.07</td>\n",
       "      <td>5777.24</td>\n",
       "      <td>4763.73</td>\n",
       "      <td>7678.214348</td>\n",
       "      <td>0.620422</td>\n",
       "      <td>(0.492, 0.761]</td>\n",
       "    </tr>\n",
       "    <tr>\n",
       "      <th>1</th>\n",
       "      <td>039 - EXTRACRANIAL PROCEDURES W/O CC/MCC</td>\n",
       "      <td>10005</td>\n",
       "      <td>MARSHALL MEDICAL CENTER SOUTH</td>\n",
       "      <td>2505 U S HIGHWAY 431 NORTH</td>\n",
       "      <td>BOAZ</td>\n",
       "      <td>AL</td>\n",
       "      <td>35957</td>\n",
       "      <td>AL - Birmingham</td>\n",
       "      <td>14</td>\n",
       "      <td>15131.85</td>\n",
       "      <td>5787.57</td>\n",
       "      <td>4976.71</td>\n",
       "      <td>5793.631429</td>\n",
       "      <td>0.858997</td>\n",
       "      <td>(0.761, 1.334]</td>\n",
       "    </tr>\n",
       "    <tr>\n",
       "      <th>2</th>\n",
       "      <td>039 - EXTRACRANIAL PROCEDURES W/O CC/MCC</td>\n",
       "      <td>10006</td>\n",
       "      <td>ELIZA COFFEE MEMORIAL HOSPITAL</td>\n",
       "      <td>205 MARENGO STREET</td>\n",
       "      <td>FLORENCE</td>\n",
       "      <td>AL</td>\n",
       "      <td>35631</td>\n",
       "      <td>AL - Birmingham</td>\n",
       "      <td>24</td>\n",
       "      <td>37560.37</td>\n",
       "      <td>5434.95</td>\n",
       "      <td>4453.79</td>\n",
       "      <td>7145.959535</td>\n",
       "      <td>0.623260</td>\n",
       "      <td>(0.492, 0.761]</td>\n",
       "    </tr>\n",
       "    <tr>\n",
       "      <th>3</th>\n",
       "      <td>039 - EXTRACRANIAL PROCEDURES W/O CC/MCC</td>\n",
       "      <td>10011</td>\n",
       "      <td>ST VINCENT'S EAST</td>\n",
       "      <td>50 MEDICAL PARK EAST DRIVE</td>\n",
       "      <td>BIRMINGHAM</td>\n",
       "      <td>AL</td>\n",
       "      <td>35235</td>\n",
       "      <td>AL - Birmingham</td>\n",
       "      <td>25</td>\n",
       "      <td>13998.28</td>\n",
       "      <td>5417.56</td>\n",
       "      <td>4129.16</td>\n",
       "      <td>6810.429310</td>\n",
       "      <td>0.606300</td>\n",
       "      <td>(0.492, 0.761]</td>\n",
       "    </tr>\n",
       "    <tr>\n",
       "      <th>4</th>\n",
       "      <td>039 - EXTRACRANIAL PROCEDURES W/O CC/MCC</td>\n",
       "      <td>10016</td>\n",
       "      <td>SHELBY BAPTIST MEDICAL CENTER</td>\n",
       "      <td>1000 FIRST STREET NORTH</td>\n",
       "      <td>ALABASTER</td>\n",
       "      <td>AL</td>\n",
       "      <td>35007</td>\n",
       "      <td>AL - Birmingham</td>\n",
       "      <td>18</td>\n",
       "      <td>31633.27</td>\n",
       "      <td>5658.33</td>\n",
       "      <td>4851.44</td>\n",
       "      <td>6563.419000</td>\n",
       "      <td>0.739164</td>\n",
       "      <td>(0.492, 0.761]</td>\n",
       "    </tr>\n",
       "  </tbody>\n",
       "</table>\n",
       "</div>"
      ],
      "text/plain": [
       "                             DRG_Definition Provider_Id  \\\n",
       "0  039 - EXTRACRANIAL PROCEDURES W/O CC/MCC       10001   \n",
       "1  039 - EXTRACRANIAL PROCEDURES W/O CC/MCC       10005   \n",
       "2  039 - EXTRACRANIAL PROCEDURES W/O CC/MCC       10006   \n",
       "3  039 - EXTRACRANIAL PROCEDURES W/O CC/MCC       10011   \n",
       "4  039 - EXTRACRANIAL PROCEDURES W/O CC/MCC       10016   \n",
       "\n",
       "                      Provider_Name     Provider_Street_Address Provider_City  \\\n",
       "0  SOUTHEAST ALABAMA MEDICAL CENTER      1108 ROSS CLARK CIRCLE        DOTHAN   \n",
       "1     MARSHALL MEDICAL CENTER SOUTH  2505 U S HIGHWAY 431 NORTH          BOAZ   \n",
       "2    ELIZA COFFEE MEMORIAL HOSPITAL          205 MARENGO STREET      FLORENCE   \n",
       "3                 ST VINCENT'S EAST  50 MEDICAL PARK EAST DRIVE    BIRMINGHAM   \n",
       "4     SHELBY BAPTIST MEDICAL CENTER     1000 FIRST STREET NORTH     ALABASTER   \n",
       "\n",
       "  Provider_State  Provider_Zip_Code Hospital_Referral_Region_Description  \\\n",
       "0             AL              36301                          AL - Dothan   \n",
       "1             AL              35957                      AL - Birmingham   \n",
       "2             AL              35631                      AL - Birmingham   \n",
       "3             AL              35235                      AL - Birmingham   \n",
       "4             AL              35007                      AL - Birmingham   \n",
       "\n",
       "   Total_Discharges  Average_Covered_Charges  Average_Total_Payments  \\\n",
       "0                91                 32963.07                 5777.24   \n",
       "1                14                 15131.85                 5787.57   \n",
       "2                24                 37560.37                 5434.95   \n",
       "3                25                 13998.28                 5417.56   \n",
       "4                18                 31633.27                 5658.33   \n",
       "\n",
       "   Average_Medicare_Payments  Average_Medicare_zip_Payments  \\\n",
       "0                    4763.73                    7678.214348   \n",
       "1                    4976.71                    5793.631429   \n",
       "2                    4453.79                    7145.959535   \n",
       "3                    4129.16                    6810.429310   \n",
       "4                    4851.44                    6563.419000   \n",
       "\n",
       "   zip_medicare_ratio_amount zip_medicare_ratio_amount_D  \n",
       "0                   0.620422              (0.492, 0.761]  \n",
       "1                   0.858997              (0.761, 1.334]  \n",
       "2                   0.623260              (0.492, 0.761]  \n",
       "3                   0.606300              (0.492, 0.761]  \n",
       "4                   0.739164              (0.492, 0.761]  "
      ]
     },
     "execution_count": 49,
     "metadata": {},
     "output_type": "execute_result"
    }
   ],
   "source": [
    "var = 'zip_medicare_ratio_amount'\n",
    "binned_var = var + '_D'\n",
    "percentile = [0,0.01,0.05,0.2,0.5,0.8,0.95,0.99,1]\n",
    "df7[binned_var] = pd.qcut(df7[var],percentile)\n",
    "df7[['zip_medicare_ratio_amount_D']]\n",
    "df7.head()"
   ]
  },
  {
   "cell_type": "code",
   "execution_count": 50,
   "id": "b3aa7ef0",
   "metadata": {},
   "outputs": [
    {
     "data": {
      "text/plain": [
       "[Text(0, 0, '(0.174, 0.308]'),\n",
       " Text(1, 0, '(0.308, 0.374]'),\n",
       " Text(2, 0, '(0.374, 0.492]'),\n",
       " Text(3, 0, '(0.492, 0.761]'),\n",
       " Text(4, 0, '(0.761, 1.334]'),\n",
       " Text(5, 0, '(1.334, 2.324]'),\n",
       " Text(6, 0, '(2.324, 4.218]'),\n",
       " Text(7, 0, '(4.218, 15.692]')]"
      ]
     },
     "execution_count": 50,
     "metadata": {},
     "output_type": "execute_result"
    },
    {
     "data": {
      "image/png": "[encoded data removed]",
      "text/plain": [
       "<Figure size 432x288 with 1 Axes>"
      ]
     },
     "metadata": {
      "needs_background": "light"
     },
     "output_type": "display_data"
    }
   ],
   "source": [
    "import matplotlib.pyplot as plt\n",
    "plt.figure(figsize=(6,4))\n",
    "g = sns.countplot(x=\"zip_medicare_ratio_amount_D\", data=df7)\n",
    "g.set_xticklabels(g.get_xticklabels(), rotation=90)"
   ]
  },
  {
   "cell_type": "code",
   "execution_count": 51,
   "id": "f283bb45",
   "metadata": {},
   "outputs": [
    {
     "data": {
      "text/plain": [
       "39433     AL - Birmingham\n",
       "39437     AL - Birmingham\n",
       "39438     AL - Huntsville\n",
       "39442     AL - Birmingham\n",
       "39443     AL - Birmingham\n",
       "               ...       \n",
       "152210     WI - Milwaukee\n",
       "152211     WI - Milwaukee\n",
       "152212       WI - Madison\n",
       "152213     WI - Milwaukee\n",
       "152215     WI - Milwaukee\n",
       "Name: Hospital_Referral_Region_Description, Length: 2481, dtype: object"
      ]
     },
     "execution_count": 51,
     "metadata": {},
     "output_type": "execute_result"
    }
   ],
   "source": [
    "df7.loc[df7['zip_medicare_ratio_amount']>4,'Hospital_Referral_Region_Description']"
   ]
  },
  {
   "cell_type": "markdown",
   "id": "f908645f",
   "metadata": {},
   "source": [
    "### 3.8 Ratio count of Average medicare payments for hosp and drug"
   ]
  },
  {
   "cell_type": "markdown",
   "id": "a19a469c",
   "metadata": {},
   "source": [
    "- Idea: This feature helps us identify the hospital divisons who are getting paid more than the average amount by medicare for discharges"
   ]
  },
  {
   "cell_type": "code",
   "execution_count": 52,
   "id": "97b0b15d",
   "metadata": {},
   "outputs": [
    {
     "data": {
      "text/html": [
       "<div>\n",
       "<style scoped>\n",
       "    .dataframe tbody tr th:only-of-type {\n",
       "        vertical-align: middle;\n",
       "    }\n",
       "\n",
       "    .dataframe tbody tr th {\n",
       "        vertical-align: top;\n",
       "    }\n",
       "\n",
       "    .dataframe thead th {\n",
       "        text-align: right;\n",
       "    }\n",
       "</style>\n",
       "<table border=\"1\" class=\"dataframe\">\n",
       "  <thead>\n",
       "    <tr style=\"text-align: right;\">\n",
       "      <th></th>\n",
       "      <th>Hospital_Referral_Region_Description</th>\n",
       "      <th>DRG_Definition</th>\n",
       "      <th>Avg_hosp_drg_Medicare_Payments</th>\n",
       "    </tr>\n",
       "  </thead>\n",
       "  <tbody>\n",
       "    <tr>\n",
       "      <th>0</th>\n",
       "      <td>AK - Anchorage</td>\n",
       "      <td>039 - EXTRACRANIAL PROCEDURES W/O CC/MCC</td>\n",
       "      <td>6413.780000</td>\n",
       "    </tr>\n",
       "    <tr>\n",
       "      <th>1</th>\n",
       "      <td>AK - Anchorage</td>\n",
       "      <td>057 - DEGENERATIVE NERVOUS SYSTEM DISORDERS W/...</td>\n",
       "      <td>8081.540000</td>\n",
       "    </tr>\n",
       "    <tr>\n",
       "      <th>2</th>\n",
       "      <td>AK - Anchorage</td>\n",
       "      <td>064 - INTRACRANIAL HEMORRHAGE OR CEREBRAL INFA...</td>\n",
       "      <td>20555.255000</td>\n",
       "    </tr>\n",
       "    <tr>\n",
       "      <th>3</th>\n",
       "      <td>AK - Anchorage</td>\n",
       "      <td>065 - INTRACRANIAL HEMORRHAGE OR CEREBRAL INFA...</td>\n",
       "      <td>11140.963333</td>\n",
       "    </tr>\n",
       "    <tr>\n",
       "      <th>4</th>\n",
       "      <td>AK - Anchorage</td>\n",
       "      <td>066 - INTRACRANIAL HEMORRHAGE OR CEREBRAL INFA...</td>\n",
       "      <td>8258.427500</td>\n",
       "    </tr>\n",
       "  </tbody>\n",
       "</table>\n",
       "</div>"
      ],
      "text/plain": [
       "  Hospital_Referral_Region_Description  \\\n",
       "0                       AK - Anchorage   \n",
       "1                       AK - Anchorage   \n",
       "2                       AK - Anchorage   \n",
       "3                       AK - Anchorage   \n",
       "4                       AK - Anchorage   \n",
       "\n",
       "                                      DRG_Definition  \\\n",
       "0           039 - EXTRACRANIAL PROCEDURES W/O CC/MCC   \n",
       "1  057 - DEGENERATIVE NERVOUS SYSTEM DISORDERS W/...   \n",
       "2  064 - INTRACRANIAL HEMORRHAGE OR CEREBRAL INFA...   \n",
       "3  065 - INTRACRANIAL HEMORRHAGE OR CEREBRAL INFA...   \n",
       "4  066 - INTRACRANIAL HEMORRHAGE OR CEREBRAL INFA...   \n",
       "\n",
       "   Avg_hosp_drg_Medicare_Payments  \n",
       "0                     6413.780000  \n",
       "1                     8081.540000  \n",
       "2                    20555.255000  \n",
       "3                    11140.963333  \n",
       "4                     8258.427500  "
      ]
     },
     "execution_count": 52,
     "metadata": {},
     "output_type": "execute_result"
    }
   ],
   "source": [
    "h = df.groupby(['Hospital_Referral_Region_Description','DRG_Definition'])['Average_Medicare_Payments'].mean().reset_index()\n",
    "h.columns = ['Hospital_Referral_Region_Description','DRG_Definition','Avg_hosp_drg_Medicare_Payments']\n",
    "h.head()"
   ]
  },
  {
   "cell_type": "code",
   "execution_count": 53,
   "id": "2ee3c540",
   "metadata": {},
   "outputs": [
    {
     "data": {
      "text/plain": [
       "count    163065.000000\n",
       "mean          1.000000\n",
       "std           0.175920\n",
       "min           0.339831\n",
       "25%           0.893506\n",
       "50%           0.976954\n",
       "75%           1.063344\n",
       "max           4.516504\n",
       "Name: hosp_drug_medicare_payments_ratio_amount, dtype: float64"
      ]
     },
     "execution_count": 53,
     "metadata": {},
     "output_type": "execute_result"
    }
   ],
   "source": [
    "df8 = pd.merge(df, h, how='left', on=['Hospital_Referral_Region_Description','DRG_Definition'])\n",
    "df8['hosp_drug_medicare_payments_ratio_amount'] = np.where(df8['Avg_hosp_drg_Medicare_Payments']==0,0, df8['Average_Medicare_Payments'] / df8['Avg_hosp_drg_Medicare_Payments'])\n",
    "df8['hosp_drug_medicare_payments_ratio_amount'].describe()"
   ]
  },
  {
   "cell_type": "code",
   "execution_count": 54,
   "id": "d612c448",
   "metadata": {},
   "outputs": [
    {
     "data": {
      "text/html": [
       "<div>\n",
       "<style scoped>\n",
       "    .dataframe tbody tr th:only-of-type {\n",
       "        vertical-align: middle;\n",
       "    }\n",
       "\n",
       "    .dataframe tbody tr th {\n",
       "        vertical-align: top;\n",
       "    }\n",
       "\n",
       "    .dataframe thead th {\n",
       "        text-align: right;\n",
       "    }\n",
       "</style>\n",
       "<table border=\"1\" class=\"dataframe\">\n",
       "  <thead>\n",
       "    <tr style=\"text-align: right;\">\n",
       "      <th></th>\n",
       "      <th>DRG_Definition</th>\n",
       "      <th>Provider_Id</th>\n",
       "      <th>Provider_Name</th>\n",
       "      <th>Provider_Street_Address</th>\n",
       "      <th>Provider_City</th>\n",
       "      <th>Provider_State</th>\n",
       "      <th>Provider_Zip_Code</th>\n",
       "      <th>Hospital_Referral_Region_Description</th>\n",
       "      <th>Total_Discharges</th>\n",
       "      <th>Average_Covered_Charges</th>\n",
       "      <th>Average_Total_Payments</th>\n",
       "      <th>Average_Medicare_Payments</th>\n",
       "      <th>Avg_hosp_drg_Medicare_Payments</th>\n",
       "      <th>hosp_drug_medicare_payments_ratio_amount</th>\n",
       "      <th>hosp_drug_medicare_payments_ratio_amount_D</th>\n",
       "    </tr>\n",
       "  </thead>\n",
       "  <tbody>\n",
       "    <tr>\n",
       "      <th>0</th>\n",
       "      <td>039 - EXTRACRANIAL PROCEDURES W/O CC/MCC</td>\n",
       "      <td>10001</td>\n",
       "      <td>SOUTHEAST ALABAMA MEDICAL CENTER</td>\n",
       "      <td>1108 ROSS CLARK CIRCLE</td>\n",
       "      <td>DOTHAN</td>\n",
       "      <td>AL</td>\n",
       "      <td>36301</td>\n",
       "      <td>AL - Dothan</td>\n",
       "      <td>91</td>\n",
       "      <td>32963.07</td>\n",
       "      <td>5777.24</td>\n",
       "      <td>4763.73</td>\n",
       "      <td>4585.965000</td>\n",
       "      <td>1.038763</td>\n",
       "      <td>(0.977, 1.093]</td>\n",
       "    </tr>\n",
       "    <tr>\n",
       "      <th>1</th>\n",
       "      <td>039 - EXTRACRANIAL PROCEDURES W/O CC/MCC</td>\n",
       "      <td>10005</td>\n",
       "      <td>MARSHALL MEDICAL CENTER SOUTH</td>\n",
       "      <td>2505 U S HIGHWAY 431 NORTH</td>\n",
       "      <td>BOAZ</td>\n",
       "      <td>AL</td>\n",
       "      <td>35957</td>\n",
       "      <td>AL - Birmingham</td>\n",
       "      <td>14</td>\n",
       "      <td>15131.85</td>\n",
       "      <td>5787.57</td>\n",
       "      <td>4976.71</td>\n",
       "      <td>4604.024615</td>\n",
       "      <td>1.080948</td>\n",
       "      <td>(0.977, 1.093]</td>\n",
       "    </tr>\n",
       "    <tr>\n",
       "      <th>2</th>\n",
       "      <td>039 - EXTRACRANIAL PROCEDURES W/O CC/MCC</td>\n",
       "      <td>10006</td>\n",
       "      <td>ELIZA COFFEE MEMORIAL HOSPITAL</td>\n",
       "      <td>205 MARENGO STREET</td>\n",
       "      <td>FLORENCE</td>\n",
       "      <td>AL</td>\n",
       "      <td>35631</td>\n",
       "      <td>AL - Birmingham</td>\n",
       "      <td>24</td>\n",
       "      <td>37560.37</td>\n",
       "      <td>5434.95</td>\n",
       "      <td>4453.79</td>\n",
       "      <td>4604.024615</td>\n",
       "      <td>0.967369</td>\n",
       "      <td>(0.873, 0.977]</td>\n",
       "    </tr>\n",
       "    <tr>\n",
       "      <th>3</th>\n",
       "      <td>039 - EXTRACRANIAL PROCEDURES W/O CC/MCC</td>\n",
       "      <td>10011</td>\n",
       "      <td>ST VINCENT'S EAST</td>\n",
       "      <td>50 MEDICAL PARK EAST DRIVE</td>\n",
       "      <td>BIRMINGHAM</td>\n",
       "      <td>AL</td>\n",
       "      <td>35235</td>\n",
       "      <td>AL - Birmingham</td>\n",
       "      <td>25</td>\n",
       "      <td>13998.28</td>\n",
       "      <td>5417.56</td>\n",
       "      <td>4129.16</td>\n",
       "      <td>4604.024615</td>\n",
       "      <td>0.896859</td>\n",
       "      <td>(0.873, 0.977]</td>\n",
       "    </tr>\n",
       "    <tr>\n",
       "      <th>4</th>\n",
       "      <td>039 - EXTRACRANIAL PROCEDURES W/O CC/MCC</td>\n",
       "      <td>10016</td>\n",
       "      <td>SHELBY BAPTIST MEDICAL CENTER</td>\n",
       "      <td>1000 FIRST STREET NORTH</td>\n",
       "      <td>ALABASTER</td>\n",
       "      <td>AL</td>\n",
       "      <td>35007</td>\n",
       "      <td>AL - Birmingham</td>\n",
       "      <td>18</td>\n",
       "      <td>31633.27</td>\n",
       "      <td>5658.33</td>\n",
       "      <td>4851.44</td>\n",
       "      <td>4604.024615</td>\n",
       "      <td>1.053739</td>\n",
       "      <td>(0.977, 1.093]</td>\n",
       "    </tr>\n",
       "  </tbody>\n",
       "</table>\n",
       "</div>"
      ],
      "text/plain": [
       "                             DRG_Definition Provider_Id  \\\n",
       "0  039 - EXTRACRANIAL PROCEDURES W/O CC/MCC       10001   \n",
       "1  039 - EXTRACRANIAL PROCEDURES W/O CC/MCC       10005   \n",
       "2  039 - EXTRACRANIAL PROCEDURES W/O CC/MCC       10006   \n",
       "3  039 - EXTRACRANIAL PROCEDURES W/O CC/MCC       10011   \n",
       "4  039 - EXTRACRANIAL PROCEDURES W/O CC/MCC       10016   \n",
       "\n",
       "                      Provider_Name     Provider_Street_Address Provider_City  \\\n",
       "0  SOUTHEAST ALABAMA MEDICAL CENTER      1108 ROSS CLARK CIRCLE        DOTHAN   \n",
       "1     MARSHALL MEDICAL CENTER SOUTH  2505 U S HIGHWAY 431 NORTH          BOAZ   \n",
       "2    ELIZA COFFEE MEMORIAL HOSPITAL          205 MARENGO STREET      FLORENCE   \n",
       "3                 ST VINCENT'S EAST  50 MEDICAL PARK EAST DRIVE    BIRMINGHAM   \n",
       "4     SHELBY BAPTIST MEDICAL CENTER     1000 FIRST STREET NORTH     ALABASTER   \n",
       "\n",
       "  Provider_State  Provider_Zip_Code Hospital_Referral_Region_Description  \\\n",
       "0             AL              36301                          AL - Dothan   \n",
       "1             AL              35957                      AL - Birmingham   \n",
       "2             AL              35631                      AL - Birmingham   \n",
       "3             AL              35235                      AL - Birmingham   \n",
       "4             AL              35007                      AL - Birmingham   \n",
       "\n",
       "   Total_Discharges  Average_Covered_Charges  Average_Total_Payments  \\\n",
       "0                91                 32963.07                 5777.24   \n",
       "1                14                 15131.85                 5787.57   \n",
       "2                24                 37560.37                 5434.95   \n",
       "3                25                 13998.28                 5417.56   \n",
       "4                18                 31633.27                 5658.33   \n",
       "\n",
       "   Average_Medicare_Payments  Avg_hosp_drg_Medicare_Payments  \\\n",
       "0                    4763.73                     4585.965000   \n",
       "1                    4976.71                     4604.024615   \n",
       "2                    4453.79                     4604.024615   \n",
       "3                    4129.16                     4604.024615   \n",
       "4                    4851.44                     4604.024615   \n",
       "\n",
       "   hosp_drug_medicare_payments_ratio_amount  \\\n",
       "0                                  1.038763   \n",
       "1                                  1.080948   \n",
       "2                                  0.967369   \n",
       "3                                  0.896859   \n",
       "4                                  1.053739   \n",
       "\n",
       "  hosp_drug_medicare_payments_ratio_amount_D  \n",
       "0                             (0.977, 1.093]  \n",
       "1                             (0.977, 1.093]  \n",
       "2                             (0.873, 0.977]  \n",
       "3                             (0.873, 0.977]  \n",
       "4                             (0.977, 1.093]  "
      ]
     },
     "execution_count": 54,
     "metadata": {},
     "output_type": "execute_result"
    }
   ],
   "source": [
    "var = 'hosp_drug_medicare_payments_ratio_amount'\n",
    "binned_var = var + '_D'\n",
    "percentile = [0,0.01,0.05,0.2,0.5,0.8,0.95,0.99,1]\n",
    "df8[binned_var] = pd.qcut(df8[var],percentile)\n",
    "df8[['hosp_drug_medicare_payments_ratio_amount_D']]\n",
    "df8.head()"
   ]
  },
  {
   "cell_type": "code",
   "execution_count": 55,
   "id": "61332866",
   "metadata": {},
   "outputs": [
    {
     "data": {
      "text/plain": [
       "[Text(0, 0, '(0.339, 0.7]'),\n",
       " Text(1, 0, '(0.7, 0.779]'),\n",
       " Text(2, 0, '(0.779, 0.873]'),\n",
       " Text(3, 0, '(0.873, 0.977]'),\n",
       " Text(4, 0, '(0.977, 1.093]'),\n",
       " Text(5, 0, '(1.093, 1.337]'),\n",
       " Text(6, 0, '(1.337, 1.613]'),\n",
       " Text(7, 0, '(1.613, 4.517]')]"
      ]
     },
     "execution_count": 55,
     "metadata": {},
     "output_type": "execute_result"
    },
    {
     "data": {
      "image/png": "[encoded data removed]",
      "text/plain": [
       "<Figure size 432x288 with 1 Axes>"
      ]
     },
     "metadata": {
      "needs_background": "light"
     },
     "output_type": "display_data"
    }
   ],
   "source": [
    "import matplotlib.pyplot as plt\n",
    "plt.figure(figsize=(6,4))\n",
    "g = sns.countplot(x=\"hosp_drug_medicare_payments_ratio_amount_D\", data=df8)\n",
    "g.set_xticklabels(g.get_xticklabels(), rotation=90)"
   ]
  },
  {
   "cell_type": "code",
   "execution_count": 56,
   "id": "c3b0e041",
   "metadata": {},
   "outputs": [
    {
     "data": {
      "text/plain": [
       "59             AR - Little Rock\n",
       "456              MD - Baltimore\n",
       "690       NY - East Long Island\n",
       "755              OH - Cleveland\n",
       "928                TX - Houston\n",
       "                  ...          \n",
       "162893             TX - Lubbock\n",
       "162934            VA - Richmond\n",
       "162972             WA - Seattle\n",
       "163043             WI - Madison\n",
       "163063              TX - Dallas\n",
       "Name: Hospital_Referral_Region_Description, Length: 1783, dtype: object"
      ]
     },
     "execution_count": 56,
     "metadata": {},
     "output_type": "execute_result"
    }
   ],
   "source": [
    "df8.loc[df8['hosp_drug_medicare_payments_ratio_amount']>1.6,'Hospital_Referral_Region_Description']"
   ]
  },
  {
   "cell_type": "markdown",
   "id": "ff446f22",
   "metadata": {},
   "source": [
    "### 3.9 Ratio count of Median medicare Payments for hosp and drug"
   ]
  },
  {
   "cell_type": "markdown",
   "id": "a546cfdc",
   "metadata": {},
   "source": [
    "- This is similar to the above the intution and the only difference is the median of payments"
   ]
  },
  {
   "cell_type": "code",
   "execution_count": 57,
   "id": "09bb5462",
   "metadata": {},
   "outputs": [
    {
     "data": {
      "text/html": [
       "<div>\n",
       "<style scoped>\n",
       "    .dataframe tbody tr th:only-of-type {\n",
       "        vertical-align: middle;\n",
       "    }\n",
       "\n",
       "    .dataframe tbody tr th {\n",
       "        vertical-align: top;\n",
       "    }\n",
       "\n",
       "    .dataframe thead th {\n",
       "        text-align: right;\n",
       "    }\n",
       "</style>\n",
       "<table border=\"1\" class=\"dataframe\">\n",
       "  <thead>\n",
       "    <tr style=\"text-align: right;\">\n",
       "      <th></th>\n",
       "      <th>Hospital_Referral_Region_Description</th>\n",
       "      <th>DRG_Definition</th>\n",
       "      <th>Median_hosp_drg_Medicare_Payments</th>\n",
       "    </tr>\n",
       "  </thead>\n",
       "  <tbody>\n",
       "    <tr>\n",
       "      <th>0</th>\n",
       "      <td>AK - Anchorage</td>\n",
       "      <td>039 - EXTRACRANIAL PROCEDURES W/O CC/MCC</td>\n",
       "      <td>6413.780</td>\n",
       "    </tr>\n",
       "    <tr>\n",
       "      <th>1</th>\n",
       "      <td>AK - Anchorage</td>\n",
       "      <td>057 - DEGENERATIVE NERVOUS SYSTEM DISORDERS W/...</td>\n",
       "      <td>8081.540</td>\n",
       "    </tr>\n",
       "    <tr>\n",
       "      <th>2</th>\n",
       "      <td>AK - Anchorage</td>\n",
       "      <td>064 - INTRACRANIAL HEMORRHAGE OR CEREBRAL INFA...</td>\n",
       "      <td>20555.255</td>\n",
       "    </tr>\n",
       "    <tr>\n",
       "      <th>3</th>\n",
       "      <td>AK - Anchorage</td>\n",
       "      <td>065 - INTRACRANIAL HEMORRHAGE OR CEREBRAL INFA...</td>\n",
       "      <td>10495.340</td>\n",
       "    </tr>\n",
       "    <tr>\n",
       "      <th>4</th>\n",
       "      <td>AK - Anchorage</td>\n",
       "      <td>066 - INTRACRANIAL HEMORRHAGE OR CEREBRAL INFA...</td>\n",
       "      <td>8372.925</td>\n",
       "    </tr>\n",
       "  </tbody>\n",
       "</table>\n",
       "</div>"
      ],
      "text/plain": [
       "  Hospital_Referral_Region_Description  \\\n",
       "0                       AK - Anchorage   \n",
       "1                       AK - Anchorage   \n",
       "2                       AK - Anchorage   \n",
       "3                       AK - Anchorage   \n",
       "4                       AK - Anchorage   \n",
       "\n",
       "                                      DRG_Definition  \\\n",
       "0           039 - EXTRACRANIAL PROCEDURES W/O CC/MCC   \n",
       "1  057 - DEGENERATIVE NERVOUS SYSTEM DISORDERS W/...   \n",
       "2  064 - INTRACRANIAL HEMORRHAGE OR CEREBRAL INFA...   \n",
       "3  065 - INTRACRANIAL HEMORRHAGE OR CEREBRAL INFA...   \n",
       "4  066 - INTRACRANIAL HEMORRHAGE OR CEREBRAL INFA...   \n",
       "\n",
       "   Median_hosp_drg_Medicare_Payments  \n",
       "0                           6413.780  \n",
       "1                           8081.540  \n",
       "2                          20555.255  \n",
       "3                          10495.340  \n",
       "4                           8372.925  "
      ]
     },
     "execution_count": 57,
     "metadata": {},
     "output_type": "execute_result"
    }
   ],
   "source": [
    "i = df.groupby(['Hospital_Referral_Region_Description','DRG_Definition'])['Average_Medicare_Payments'].median().reset_index()\n",
    "i.columns = ['Hospital_Referral_Region_Description','DRG_Definition','Median_hosp_drg_Medicare_Payments']\n",
    "i.head()"
   ]
  },
  {
   "cell_type": "code",
   "execution_count": 58,
   "id": "5be1b271",
   "metadata": {},
   "outputs": [
    {
     "data": {
      "text/plain": [
       "count    163065.000000\n",
       "mean          1.038494\n",
       "std           0.196388\n",
       "min           0.331728\n",
       "25%           0.935187\n",
       "50%           1.000000\n",
       "75%           1.082952\n",
       "max           5.733904\n",
       "Name: hosp_drug_medicare_payments_median_ratio_amount, dtype: float64"
      ]
     },
     "execution_count": 58,
     "metadata": {},
     "output_type": "execute_result"
    }
   ],
   "source": [
    "df9 = pd.merge(df, i, how='left', on=['Hospital_Referral_Region_Description','DRG_Definition'])\n",
    "df9['hosp_drug_medicare_payments_median_ratio_amount'] = np.where(df9['Median_hosp_drg_Medicare_Payments']==0,0, df9['Average_Medicare_Payments'] / df9['Median_hosp_drg_Medicare_Payments'])\n",
    "df9['hosp_drug_medicare_payments_median_ratio_amount'].describe()"
   ]
  },
  {
   "cell_type": "code",
   "execution_count": 59,
   "id": "26165f54",
   "metadata": {},
   "outputs": [
    {
     "data": {
      "text/html": [
       "<div>\n",
       "<style scoped>\n",
       "    .dataframe tbody tr th:only-of-type {\n",
       "        vertical-align: middle;\n",
       "    }\n",
       "\n",
       "    .dataframe tbody tr th {\n",
       "        vertical-align: top;\n",
       "    }\n",
       "\n",
       "    .dataframe thead th {\n",
       "        text-align: right;\n",
       "    }\n",
       "</style>\n",
       "<table border=\"1\" class=\"dataframe\">\n",
       "  <thead>\n",
       "    <tr style=\"text-align: right;\">\n",
       "      <th></th>\n",
       "      <th>DRG_Definition</th>\n",
       "      <th>Provider_Id</th>\n",
       "      <th>Provider_Name</th>\n",
       "      <th>Provider_Street_Address</th>\n",
       "      <th>Provider_City</th>\n",
       "      <th>Provider_State</th>\n",
       "      <th>Provider_Zip_Code</th>\n",
       "      <th>Hospital_Referral_Region_Description</th>\n",
       "      <th>Total_Discharges</th>\n",
       "      <th>Average_Covered_Charges</th>\n",
       "      <th>Average_Total_Payments</th>\n",
       "      <th>Average_Medicare_Payments</th>\n",
       "      <th>Median_hosp_drg_Medicare_Payments</th>\n",
       "      <th>hosp_drug_medicare_payments_median_ratio_amount</th>\n",
       "      <th>hosp_drug_medicare_payments_median_ratio_amount_D</th>\n",
       "    </tr>\n",
       "  </thead>\n",
       "  <tbody>\n",
       "    <tr>\n",
       "      <th>0</th>\n",
       "      <td>039 - EXTRACRANIAL PROCEDURES W/O CC/MCC</td>\n",
       "      <td>10001</td>\n",
       "      <td>SOUTHEAST ALABAMA MEDICAL CENTER</td>\n",
       "      <td>1108 ROSS CLARK CIRCLE</td>\n",
       "      <td>DOTHAN</td>\n",
       "      <td>AL</td>\n",
       "      <td>36301</td>\n",
       "      <td>AL - Dothan</td>\n",
       "      <td>91</td>\n",
       "      <td>32963.07</td>\n",
       "      <td>5777.24</td>\n",
       "      <td>4763.73</td>\n",
       "      <td>4585.965</td>\n",
       "      <td>1.038763</td>\n",
       "      <td>(1.0, 1.118]</td>\n",
       "    </tr>\n",
       "    <tr>\n",
       "      <th>1</th>\n",
       "      <td>039 - EXTRACRANIAL PROCEDURES W/O CC/MCC</td>\n",
       "      <td>10005</td>\n",
       "      <td>MARSHALL MEDICAL CENTER SOUTH</td>\n",
       "      <td>2505 U S HIGHWAY 431 NORTH</td>\n",
       "      <td>BOAZ</td>\n",
       "      <td>AL</td>\n",
       "      <td>35957</td>\n",
       "      <td>AL - Birmingham</td>\n",
       "      <td>14</td>\n",
       "      <td>15131.85</td>\n",
       "      <td>5787.57</td>\n",
       "      <td>4976.71</td>\n",
       "      <td>4471.680</td>\n",
       "      <td>1.112940</td>\n",
       "      <td>(1.0, 1.118]</td>\n",
       "    </tr>\n",
       "    <tr>\n",
       "      <th>2</th>\n",
       "      <td>039 - EXTRACRANIAL PROCEDURES W/O CC/MCC</td>\n",
       "      <td>10006</td>\n",
       "      <td>ELIZA COFFEE MEMORIAL HOSPITAL</td>\n",
       "      <td>205 MARENGO STREET</td>\n",
       "      <td>FLORENCE</td>\n",
       "      <td>AL</td>\n",
       "      <td>35631</td>\n",
       "      <td>AL - Birmingham</td>\n",
       "      <td>24</td>\n",
       "      <td>37560.37</td>\n",
       "      <td>5434.95</td>\n",
       "      <td>4453.79</td>\n",
       "      <td>4471.680</td>\n",
       "      <td>0.995999</td>\n",
       "      <td>(0.915, 1.0]</td>\n",
       "    </tr>\n",
       "    <tr>\n",
       "      <th>3</th>\n",
       "      <td>039 - EXTRACRANIAL PROCEDURES W/O CC/MCC</td>\n",
       "      <td>10011</td>\n",
       "      <td>ST VINCENT'S EAST</td>\n",
       "      <td>50 MEDICAL PARK EAST DRIVE</td>\n",
       "      <td>BIRMINGHAM</td>\n",
       "      <td>AL</td>\n",
       "      <td>35235</td>\n",
       "      <td>AL - Birmingham</td>\n",
       "      <td>25</td>\n",
       "      <td>13998.28</td>\n",
       "      <td>5417.56</td>\n",
       "      <td>4129.16</td>\n",
       "      <td>4471.680</td>\n",
       "      <td>0.923402</td>\n",
       "      <td>(0.915, 1.0]</td>\n",
       "    </tr>\n",
       "    <tr>\n",
       "      <th>4</th>\n",
       "      <td>039 - EXTRACRANIAL PROCEDURES W/O CC/MCC</td>\n",
       "      <td>10016</td>\n",
       "      <td>SHELBY BAPTIST MEDICAL CENTER</td>\n",
       "      <td>1000 FIRST STREET NORTH</td>\n",
       "      <td>ALABASTER</td>\n",
       "      <td>AL</td>\n",
       "      <td>35007</td>\n",
       "      <td>AL - Birmingham</td>\n",
       "      <td>18</td>\n",
       "      <td>31633.27</td>\n",
       "      <td>5658.33</td>\n",
       "      <td>4851.44</td>\n",
       "      <td>4471.680</td>\n",
       "      <td>1.084926</td>\n",
       "      <td>(1.0, 1.118]</td>\n",
       "    </tr>\n",
       "  </tbody>\n",
       "</table>\n",
       "</div>"
      ],
      "text/plain": [
       "                             DRG_Definition Provider_Id  \\\n",
       "0  039 - EXTRACRANIAL PROCEDURES W/O CC/MCC       10001   \n",
       "1  039 - EXTRACRANIAL PROCEDURES W/O CC/MCC       10005   \n",
       "2  039 - EXTRACRANIAL PROCEDURES W/O CC/MCC       10006   \n",
       "3  039 - EXTRACRANIAL PROCEDURES W/O CC/MCC       10011   \n",
       "4  039 - EXTRACRANIAL PROCEDURES W/O CC/MCC       10016   \n",
       "\n",
       "                      Provider_Name     Provider_Street_Address Provider_City  \\\n",
       "0  SOUTHEAST ALABAMA MEDICAL CENTER      1108 ROSS CLARK CIRCLE        DOTHAN   \n",
       "1     MARSHALL MEDICAL CENTER SOUTH  2505 U S HIGHWAY 431 NORTH          BOAZ   \n",
       "2    ELIZA COFFEE MEMORIAL HOSPITAL          205 MARENGO STREET      FLORENCE   \n",
       "3                 ST VINCENT'S EAST  50 MEDICAL PARK EAST DRIVE    BIRMINGHAM   \n",
       "4     SHELBY BAPTIST MEDICAL CENTER     1000 FIRST STREET NORTH     ALABASTER   \n",
       "\n",
       "  Provider_State  Provider_Zip_Code Hospital_Referral_Region_Description  \\\n",
       "0             AL              36301                          AL - Dothan   \n",
       "1             AL              35957                      AL - Birmingham   \n",
       "2             AL              35631                      AL - Birmingham   \n",
       "3             AL              35235                      AL - Birmingham   \n",
       "4             AL              35007                      AL - Birmingham   \n",
       "\n",
       "   Total_Discharges  Average_Covered_Charges  Average_Total_Payments  \\\n",
       "0                91                 32963.07                 5777.24   \n",
       "1                14                 15131.85                 5787.57   \n",
       "2                24                 37560.37                 5434.95   \n",
       "3                25                 13998.28                 5417.56   \n",
       "4                18                 31633.27                 5658.33   \n",
       "\n",
       "   Average_Medicare_Payments  Median_hosp_drg_Medicare_Payments  \\\n",
       "0                    4763.73                           4585.965   \n",
       "1                    4976.71                           4471.680   \n",
       "2                    4453.79                           4471.680   \n",
       "3                    4129.16                           4471.680   \n",
       "4                    4851.44                           4471.680   \n",
       "\n",
       "   hosp_drug_medicare_payments_median_ratio_amount  \\\n",
       "0                                         1.038763   \n",
       "1                                         1.112940   \n",
       "2                                         0.995999   \n",
       "3                                         0.923402   \n",
       "4                                         1.084926   \n",
       "\n",
       "  hosp_drug_medicare_payments_median_ratio_amount_D  \n",
       "0                                      (1.0, 1.118]  \n",
       "1                                      (1.0, 1.118]  \n",
       "2                                      (0.915, 1.0]  \n",
       "3                                      (0.915, 1.0]  \n",
       "4                                      (1.0, 1.118]  "
      ]
     },
     "execution_count": 59,
     "metadata": {},
     "output_type": "execute_result"
    }
   ],
   "source": [
    "var = 'hosp_drug_medicare_payments_median_ratio_amount'\n",
    "binned_var = var + '_D'\n",
    "percentile = [0,0.01,0.05,0.2,0.5,0.8,0.95,0.99,1]\n",
    "df9[binned_var] = pd.qcut(df9[var],percentile)\n",
    "df9[['hosp_drug_medicare_payments_median_ratio_amount_D']]\n",
    "df9.head()"
   ]
  },
  {
   "cell_type": "code",
   "execution_count": 60,
   "id": "06784958",
   "metadata": {},
   "outputs": [
    {
     "data": {
      "text/plain": [
       "[Text(0, 0, '(0.331, 0.727]'),\n",
       " Text(1, 0, '(0.727, 0.816]'),\n",
       " Text(2, 0, '(0.816, 0.915]'),\n",
       " Text(3, 0, '(0.915, 1.0]'),\n",
       " Text(4, 0, '(1.0, 1.118]'),\n",
       " Text(5, 0, '(1.118, 1.43]'),\n",
       " Text(6, 0, '(1.43, 1.773]'),\n",
       " Text(7, 0, '(1.773, 5.734]')]"
      ]
     },
     "execution_count": 60,
     "metadata": {},
     "output_type": "execute_result"
    },
    {
     "data": {
      "image/png": "[encoded data removed]",
      "text/plain": [
       "<Figure size 432x288 with 1 Axes>"
      ]
     },
     "metadata": {
      "needs_background": "light"
     },
     "output_type": "display_data"
    }
   ],
   "source": [
    "import matplotlib.pyplot as plt\n",
    "plt.figure(figsize=(6,4))\n",
    "g = sns.countplot(x=\"hosp_drug_medicare_payments_median_ratio_amount_D\", data=df9)\n",
    "g.set_xticklabels(g.get_xticklabels(), rotation=90)"
   ]
  },
  {
   "cell_type": "code",
   "execution_count": 61,
   "id": "84004a64",
   "metadata": {},
   "outputs": [
    {
     "data": {
      "text/plain": [
       "59             AR - Little Rock\n",
       "456              MD - Baltimore\n",
       "457             DE - Wilmington\n",
       "690       NY - East Long Island\n",
       "755              OH - Cleveland\n",
       "                  ...          \n",
       "162928     VA - Charlottesville\n",
       "162934            VA - Richmond\n",
       "162972             WA - Seattle\n",
       "163043             WI - Madison\n",
       "163063              TX - Dallas\n",
       "Name: Hospital_Referral_Region_Description, Length: 2431, dtype: object"
      ]
     },
     "execution_count": 61,
     "metadata": {},
     "output_type": "execute_result"
    }
   ],
   "source": [
    "df9.loc[df9['hosp_drug_medicare_payments_median_ratio_amount']>1.7,'Hospital_Referral_Region_Description']"
   ]
  },
  {
   "cell_type": "markdown",
   "id": "12862d9b",
   "metadata": {},
   "source": [
    "### 3.10 ratio count of median medicare payments for each state and drugs"
   ]
  },
  {
   "cell_type": "markdown",
   "id": "ebce361e",
   "metadata": {},
   "source": [
    "- This characteristic, which identifies the median of payments grouping by state and diagnosis procedure of the typical Medicare payments, was already covered above."
   ]
  },
  {
   "cell_type": "code",
   "execution_count": 62,
   "id": "baab936f",
   "metadata": {},
   "outputs": [
    {
     "data": {
      "text/html": [
       "<div>\n",
       "<style scoped>\n",
       "    .dataframe tbody tr th:only-of-type {\n",
       "        vertical-align: middle;\n",
       "    }\n",
       "\n",
       "    .dataframe tbody tr th {\n",
       "        vertical-align: top;\n",
       "    }\n",
       "\n",
       "    .dataframe thead th {\n",
       "        text-align: right;\n",
       "    }\n",
       "</style>\n",
       "<table border=\"1\" class=\"dataframe\">\n",
       "  <thead>\n",
       "    <tr style=\"text-align: right;\">\n",
       "      <th></th>\n",
       "      <th>Provider_State</th>\n",
       "      <th>DRG_Definition</th>\n",
       "      <th>Median_Payment_ByDRGmedicare</th>\n",
       "    </tr>\n",
       "  </thead>\n",
       "  <tbody>\n",
       "    <tr>\n",
       "      <th>0</th>\n",
       "      <td>AK</td>\n",
       "      <td>039 - EXTRACRANIAL PROCEDURES W/O CC/MCC</td>\n",
       "      <td>6413.780</td>\n",
       "    </tr>\n",
       "    <tr>\n",
       "      <th>1</th>\n",
       "      <td>AK</td>\n",
       "      <td>057 - DEGENERATIVE NERVOUS SYSTEM DISORDERS W/...</td>\n",
       "      <td>8081.540</td>\n",
       "    </tr>\n",
       "    <tr>\n",
       "      <th>2</th>\n",
       "      <td>AK</td>\n",
       "      <td>064 - INTRACRANIAL HEMORRHAGE OR CEREBRAL INFA...</td>\n",
       "      <td>20555.255</td>\n",
       "    </tr>\n",
       "    <tr>\n",
       "      <th>3</th>\n",
       "      <td>AK</td>\n",
       "      <td>065 - INTRACRANIAL HEMORRHAGE OR CEREBRAL INFA...</td>\n",
       "      <td>10495.340</td>\n",
       "    </tr>\n",
       "    <tr>\n",
       "      <th>4</th>\n",
       "      <td>AK</td>\n",
       "      <td>066 - INTRACRANIAL HEMORRHAGE OR CEREBRAL INFA...</td>\n",
       "      <td>8372.925</td>\n",
       "    </tr>\n",
       "  </tbody>\n",
       "</table>\n",
       "</div>"
      ],
      "text/plain": [
       "  Provider_State                                     DRG_Definition  \\\n",
       "0             AK           039 - EXTRACRANIAL PROCEDURES W/O CC/MCC   \n",
       "1             AK  057 - DEGENERATIVE NERVOUS SYSTEM DISORDERS W/...   \n",
       "2             AK  064 - INTRACRANIAL HEMORRHAGE OR CEREBRAL INFA...   \n",
       "3             AK  065 - INTRACRANIAL HEMORRHAGE OR CEREBRAL INFA...   \n",
       "4             AK  066 - INTRACRANIAL HEMORRHAGE OR CEREBRAL INFA...   \n",
       "\n",
       "   Median_Payment_ByDRGmedicare  \n",
       "0                      6413.780  \n",
       "1                      8081.540  \n",
       "2                     20555.255  \n",
       "3                     10495.340  \n",
       "4                      8372.925  "
      ]
     },
     "execution_count": 62,
     "metadata": {},
     "output_type": "execute_result"
    }
   ],
   "source": [
    "j = df.groupby(['Provider_State','DRG_Definition'])['Average_Medicare_Payments'].median().reset_index()\n",
    "j.columns = ['Provider_State','DRG_Definition','Median_Payment_ByDRGmedicare']\n",
    "j.head()"
   ]
  },
  {
   "cell_type": "code",
   "execution_count": 63,
   "id": "42077461",
   "metadata": {},
   "outputs": [
    {
     "data": {
      "text/plain": [
       "count    163065.000000\n",
       "mean          1.055484\n",
       "std           0.234139\n",
       "min           0.367836\n",
       "25%           0.916191\n",
       "50%           1.000000\n",
       "75%           1.121178\n",
       "max           6.030981\n",
       "Name: state_drug_medi_median_ratio_amount, dtype: float64"
      ]
     },
     "execution_count": 63,
     "metadata": {},
     "output_type": "execute_result"
    }
   ],
   "source": [
    "df10 = pd.merge(df, j, how='left', on=['Provider_State','DRG_Definition'])\n",
    "df10['state_drug_medi_median_ratio_amount'] = np.where(df10['Median_Payment_ByDRGmedicare']==0,0, df10['Average_Medicare_Payments'] / df10['Median_Payment_ByDRGmedicare'])\n",
    "df10['state_drug_medi_median_ratio_amount'].describe()"
   ]
  },
  {
   "cell_type": "code",
   "execution_count": 64,
   "id": "22f141db",
   "metadata": {},
   "outputs": [
    {
     "data": {
      "text/html": [
       "<div>\n",
       "<style scoped>\n",
       "    .dataframe tbody tr th:only-of-type {\n",
       "        vertical-align: middle;\n",
       "    }\n",
       "\n",
       "    .dataframe tbody tr th {\n",
       "        vertical-align: top;\n",
       "    }\n",
       "\n",
       "    .dataframe thead th {\n",
       "        text-align: right;\n",
       "    }\n",
       "</style>\n",
       "<table border=\"1\" class=\"dataframe\">\n",
       "  <thead>\n",
       "    <tr style=\"text-align: right;\">\n",
       "      <th></th>\n",
       "      <th>DRG_Definition</th>\n",
       "      <th>Provider_Id</th>\n",
       "      <th>Provider_Name</th>\n",
       "      <th>Provider_Street_Address</th>\n",
       "      <th>Provider_City</th>\n",
       "      <th>Provider_State</th>\n",
       "      <th>Provider_Zip_Code</th>\n",
       "      <th>Hospital_Referral_Region_Description</th>\n",
       "      <th>Total_Discharges</th>\n",
       "      <th>Average_Covered_Charges</th>\n",
       "      <th>Average_Total_Payments</th>\n",
       "      <th>Average_Medicare_Payments</th>\n",
       "      <th>Median_Payment_ByDRGmedicare</th>\n",
       "      <th>state_drug_medi_median_ratio_amount</th>\n",
       "      <th>state_drug_medi_median_ratio_amount_D</th>\n",
       "    </tr>\n",
       "  </thead>\n",
       "  <tbody>\n",
       "    <tr>\n",
       "      <th>0</th>\n",
       "      <td>039 - EXTRACRANIAL PROCEDURES W/O CC/MCC</td>\n",
       "      <td>10001</td>\n",
       "      <td>SOUTHEAST ALABAMA MEDICAL CENTER</td>\n",
       "      <td>1108 ROSS CLARK CIRCLE</td>\n",
       "      <td>DOTHAN</td>\n",
       "      <td>AL</td>\n",
       "      <td>36301</td>\n",
       "      <td>AL - Dothan</td>\n",
       "      <td>91</td>\n",
       "      <td>32963.07</td>\n",
       "      <td>5777.24</td>\n",
       "      <td>4763.73</td>\n",
       "      <td>4471.68</td>\n",
       "      <td>1.065311</td>\n",
       "      <td>(1.0, 1.167]</td>\n",
       "    </tr>\n",
       "    <tr>\n",
       "      <th>1</th>\n",
       "      <td>039 - EXTRACRANIAL PROCEDURES W/O CC/MCC</td>\n",
       "      <td>10005</td>\n",
       "      <td>MARSHALL MEDICAL CENTER SOUTH</td>\n",
       "      <td>2505 U S HIGHWAY 431 NORTH</td>\n",
       "      <td>BOAZ</td>\n",
       "      <td>AL</td>\n",
       "      <td>35957</td>\n",
       "      <td>AL - Birmingham</td>\n",
       "      <td>14</td>\n",
       "      <td>15131.85</td>\n",
       "      <td>5787.57</td>\n",
       "      <td>4976.71</td>\n",
       "      <td>4471.68</td>\n",
       "      <td>1.112940</td>\n",
       "      <td>(1.0, 1.167]</td>\n",
       "    </tr>\n",
       "    <tr>\n",
       "      <th>2</th>\n",
       "      <td>039 - EXTRACRANIAL PROCEDURES W/O CC/MCC</td>\n",
       "      <td>10006</td>\n",
       "      <td>ELIZA COFFEE MEMORIAL HOSPITAL</td>\n",
       "      <td>205 MARENGO STREET</td>\n",
       "      <td>FLORENCE</td>\n",
       "      <td>AL</td>\n",
       "      <td>35631</td>\n",
       "      <td>AL - Birmingham</td>\n",
       "      <td>24</td>\n",
       "      <td>37560.37</td>\n",
       "      <td>5434.95</td>\n",
       "      <td>4453.79</td>\n",
       "      <td>4471.68</td>\n",
       "      <td>0.995999</td>\n",
       "      <td>(0.897, 1.0]</td>\n",
       "    </tr>\n",
       "    <tr>\n",
       "      <th>3</th>\n",
       "      <td>039 - EXTRACRANIAL PROCEDURES W/O CC/MCC</td>\n",
       "      <td>10011</td>\n",
       "      <td>ST VINCENT'S EAST</td>\n",
       "      <td>50 MEDICAL PARK EAST DRIVE</td>\n",
       "      <td>BIRMINGHAM</td>\n",
       "      <td>AL</td>\n",
       "      <td>35235</td>\n",
       "      <td>AL - Birmingham</td>\n",
       "      <td>25</td>\n",
       "      <td>13998.28</td>\n",
       "      <td>5417.56</td>\n",
       "      <td>4129.16</td>\n",
       "      <td>4471.68</td>\n",
       "      <td>0.923402</td>\n",
       "      <td>(0.897, 1.0]</td>\n",
       "    </tr>\n",
       "    <tr>\n",
       "      <th>4</th>\n",
       "      <td>039 - EXTRACRANIAL PROCEDURES W/O CC/MCC</td>\n",
       "      <td>10016</td>\n",
       "      <td>SHELBY BAPTIST MEDICAL CENTER</td>\n",
       "      <td>1000 FIRST STREET NORTH</td>\n",
       "      <td>ALABASTER</td>\n",
       "      <td>AL</td>\n",
       "      <td>35007</td>\n",
       "      <td>AL - Birmingham</td>\n",
       "      <td>18</td>\n",
       "      <td>31633.27</td>\n",
       "      <td>5658.33</td>\n",
       "      <td>4851.44</td>\n",
       "      <td>4471.68</td>\n",
       "      <td>1.084926</td>\n",
       "      <td>(1.0, 1.167]</td>\n",
       "    </tr>\n",
       "  </tbody>\n",
       "</table>\n",
       "</div>"
      ],
      "text/plain": [
       "                             DRG_Definition Provider_Id  \\\n",
       "0  039 - EXTRACRANIAL PROCEDURES W/O CC/MCC       10001   \n",
       "1  039 - EXTRACRANIAL PROCEDURES W/O CC/MCC       10005   \n",
       "2  039 - EXTRACRANIAL PROCEDURES W/O CC/MCC       10006   \n",
       "3  039 - EXTRACRANIAL PROCEDURES W/O CC/MCC       10011   \n",
       "4  039 - EXTRACRANIAL PROCEDURES W/O CC/MCC       10016   \n",
       "\n",
       "                      Provider_Name     Provider_Street_Address Provider_City  \\\n",
       "0  SOUTHEAST ALABAMA MEDICAL CENTER      1108 ROSS CLARK CIRCLE        DOTHAN   \n",
       "1     MARSHALL MEDICAL CENTER SOUTH  2505 U S HIGHWAY 431 NORTH          BOAZ   \n",
       "2    ELIZA COFFEE MEMORIAL HOSPITAL          205 MARENGO STREET      FLORENCE   \n",
       "3                 ST VINCENT'S EAST  50 MEDICAL PARK EAST DRIVE    BIRMINGHAM   \n",
       "4     SHELBY BAPTIST MEDICAL CENTER     1000 FIRST STREET NORTH     ALABASTER   \n",
       "\n",
       "  Provider_State  Provider_Zip_Code Hospital_Referral_Region_Description  \\\n",
       "0             AL              36301                          AL - Dothan   \n",
       "1             AL              35957                      AL - Birmingham   \n",
       "2             AL              35631                      AL - Birmingham   \n",
       "3             AL              35235                      AL - Birmingham   \n",
       "4             AL              35007                      AL - Birmingham   \n",
       "\n",
       "   Total_Discharges  Average_Covered_Charges  Average_Total_Payments  \\\n",
       "0                91                 32963.07                 5777.24   \n",
       "1                14                 15131.85                 5787.57   \n",
       "2                24                 37560.37                 5434.95   \n",
       "3                25                 13998.28                 5417.56   \n",
       "4                18                 31633.27                 5658.33   \n",
       "\n",
       "   Average_Medicare_Payments  Median_Payment_ByDRGmedicare  \\\n",
       "0                    4763.73                       4471.68   \n",
       "1                    4976.71                       4471.68   \n",
       "2                    4453.79                       4471.68   \n",
       "3                    4129.16                       4471.68   \n",
       "4                    4851.44                       4471.68   \n",
       "\n",
       "   state_drug_medi_median_ratio_amount state_drug_medi_median_ratio_amount_D  \n",
       "0                             1.065311                          (1.0, 1.167]  \n",
       "1                             1.112940                          (1.0, 1.167]  \n",
       "2                             0.995999                          (0.897, 1.0]  \n",
       "3                             0.923402                          (0.897, 1.0]  \n",
       "4                             1.084926                          (1.0, 1.167]  "
      ]
     },
     "execution_count": 64,
     "metadata": {},
     "output_type": "execute_result"
    }
   ],
   "source": [
    "var = 'state_drug_medi_median_ratio_amount'\n",
    "binned_var = var + '_D'\n",
    "percentile = [0,0.01,0.05,0.2,0.5,0.8,0.95,0.99,1]\n",
    "df10[binned_var] = pd.qcut(df10[var],percentile)\n",
    "df10[['state_drug_medi_median_ratio_amount_D']]\n",
    "df10.head()"
   ]
  },
  {
   "cell_type": "code",
   "execution_count": 65,
   "id": "087af645",
   "metadata": {},
   "outputs": [
    {
     "data": {
      "text/plain": [
       "[Text(0, 0, '(0.367, 0.714]'),\n",
       " Text(1, 0, '(0.714, 0.805]'),\n",
       " Text(2, 0, '(0.805, 0.897]'),\n",
       " Text(3, 0, '(0.897, 1.0]'),\n",
       " Text(4, 0, '(1.0, 1.167]'),\n",
       " Text(5, 0, '(1.167, 1.527]'),\n",
       " Text(6, 0, '(1.527, 1.898]'),\n",
       " Text(7, 0, '(1.898, 6.031]')]"
      ]
     },
     "execution_count": 65,
     "metadata": {},
     "output_type": "execute_result"
    },
    {
     "data": {
      "image/png": "[encoded data removed]",
      "text/plain": [
       "<Figure size 432x288 with 1 Axes>"
      ]
     },
     "metadata": {
      "needs_background": "light"
     },
     "output_type": "display_data"
    }
   ],
   "source": [
    "import matplotlib.pyplot as plt\n",
    "plt.figure(figsize=(6,4))\n",
    "g = sns.countplot(x=\"state_drug_medi_median_ratio_amount_D\", data=df10)\n",
    "g.set_xticklabels(g.get_xticklabels(), rotation=90)"
   ]
  },
  {
   "cell_type": "code",
   "execution_count": 66,
   "id": "306e2160",
   "metadata": {},
   "outputs": [
    {
     "data": {
      "text/plain": [
       "456                 MD - Baltimore\n",
       "690          NY - East Long Island\n",
       "1172      CA - Contra Costa County\n",
       "1186              CA - Los Angeles\n",
       "1191         CA - San Mateo County\n",
       "                    ...           \n",
       "162822                TX - Houston\n",
       "162893                TX - Lubbock\n",
       "162928        VA - Charlottesville\n",
       "163043                WI - Madison\n",
       "163063                 TX - Dallas\n",
       "Name: Hospital_Referral_Region_Description, Length: 1610, dtype: object"
      ]
     },
     "execution_count": 66,
     "metadata": {},
     "output_type": "execute_result"
    }
   ],
   "source": [
    "df10.loc[df10['state_drug_medi_median_ratio_amount']>1.9,'Hospital_Referral_Region_Description']"
   ]
  },
  {
   "cell_type": "markdown",
   "id": "35e30963",
   "metadata": {},
   "source": [
    "# 4.Anomaly Detection with PyOD"
   ]
  },
  {
   "cell_type": "markdown",
   "id": "8ac22054",
   "metadata": {},
   "source": [
    "Feature Engineering plays a crucial role in deterimining outliers for anomaly detection. Now that we created features for the data, we try to detect the outliers using PyOD module in python. Before that let's understand what's PyOD.\n",
    "\n",
    "\n",
    "What's PyOD?\n",
    "PyOD is a scalable Python toolkit for detecting outliers in multivariate data. It provides access to around 20 outlier detection algorithms under a single well-documented API.\n",
    "\n",
    "This includes three steps:\n",
    "\n",
    "Building the model\n",
    "Determining the boundary\n",
    "Providing summary statistics\n",
    "First, we prepare the data for modeling by creating a new dataframe for the features created above."
   ]
  },
  {
   "cell_type": "markdown",
   "id": "37beccc2",
   "metadata": {},
   "source": [
    "What's HBOS?\n",
    "Histogram- based outlier detection (HBOS) is an efficient unsupervised method. It assumes the feature independence and calculates the degree\n",
    "of outlyingness by building histograms.\n",
    "\n",
    "Two versions of HBOS are supported:        \n",
    "    - Static number of bins: uses a static number of bins for all features.\n",
    "    - Automatic number of bins: every feature uses a number of bins deemed to be optimal according to the Birge-Rozenblac method\n",
    "\n",
    "    Parameters\n",
    "    ----------\n",
    "    n_bins : int or string, optional (default=10)\n",
    "        The number of bins. \"auto\" uses the birge-rozenblac method for\n",
    "        automatic selection of the optimal number of bins for each feature.\n",
    "\n",
    "    alpha : float in (0, 1), optional (default=0.1)\n",
    "        The regularizer for preventing overflow.\n",
    "\n",
    "    tol : float in (0, 1), optional (default=0.5)\n",
    "        The parameter to decide the flexibility while dealing\n",
    "        the samples falling outside the bins.\n",
    "\n",
    "    contamination : float in (0., 0.5), optional (default=0.1)\n",
    "        The amount of contamination of the data set,\n",
    "        i.e. the proportion of outliers in the data set. Used when fitting to\n",
    "        define the threshold on the decision function.\n",
    "        \n",
    "For more info: https://pyod.readthedocs.io/en/latest/_modules/pyod/models/hbos.html"
   ]
  },
  {
   "cell_type": "markdown",
   "id": "781d9c1d",
   "metadata": {},
   "source": [
    "Coming back to the topic now first, we prepare the data for modeling by creating a new dataframe for the features created above."
   ]
  },
  {
   "cell_type": "code",
   "execution_count": 72,
   "id": "d46ee810",
   "metadata": {},
   "outputs": [],
   "source": [
    "#!pip install pyod"
   ]
  },
  {
   "cell_type": "code",
   "execution_count": 67,
   "id": "c3fbf629",
   "metadata": {},
   "outputs": [],
   "source": [
    "# get all the features created in previous assignment 4/ as created above\n",
    "d1 = df1['state_drug_avg_ratio_amount']\n",
    "d2 = df2['state_drug_median_ratio_amount']\n",
    "d3 = df3['name_hosp_sum_ratio_amount']\n",
    "d4 = df4['state_drug_medi_avg_ratio_amount']\n",
    "d5 = df5['hosp_drug_dis_ratio_amount']\n",
    "d6 = df6['hosp_drug_covered_ratio_amount']\n",
    "d7 = df7['zip_medicare_ratio_amount']\n",
    "d8 = df8['hosp_drug_medicare_payments_ratio_amount']\n",
    "d9 = df9['hosp_drug_medicare_payments_median_ratio_amount']\n",
    "d10 = df10['state_drug_medi_median_ratio_amount']"
   ]
  },
  {
   "cell_type": "code",
   "execution_count": 68,
   "id": "527ec37d",
   "metadata": {},
   "outputs": [
    {
     "data": {
      "text/html": [
       "<div>\n",
       "<style scoped>\n",
       "    .dataframe tbody tr th:only-of-type {\n",
       "        vertical-align: middle;\n",
       "    }\n",
       "\n",
       "    .dataframe tbody tr th {\n",
       "        vertical-align: top;\n",
       "    }\n",
       "\n",
       "    .dataframe thead th {\n",
       "        text-align: right;\n",
       "    }\n",
       "</style>\n",
       "<table border=\"1\" class=\"dataframe\">\n",
       "  <thead>\n",
       "    <tr style=\"text-align: right;\">\n",
       "      <th></th>\n",
       "      <th>state_drug_avg_ratio_amount</th>\n",
       "      <th>state_drug_median_ratio_amount</th>\n",
       "      <th>name_hosp_sum_ratio_amount</th>\n",
       "      <th>state_drug_medi_avg_ratio_amount</th>\n",
       "      <th>hosp_drug_dis_ratio_amount</th>\n",
       "      <th>hosp_drug_covered_ratio_amount</th>\n",
       "      <th>zip_medicare_ratio_amount</th>\n",
       "      <th>hosp_drug_medicare_payments_ratio_amount</th>\n",
       "      <th>hosp_drug_medicare_payments_median_ratio_amount</th>\n",
       "      <th>state_drug_medi_median_ratio_amount</th>\n",
       "    </tr>\n",
       "  </thead>\n",
       "  <tbody>\n",
       "    <tr>\n",
       "      <th>0</th>\n",
       "      <td>1.005855</td>\n",
       "      <td>1.021015</td>\n",
       "      <td>0.010165</td>\n",
       "      <td>1.035685</td>\n",
       "      <td>1.338235</td>\n",
       "      <td>0.908445</td>\n",
       "      <td>0.620422</td>\n",
       "      <td>1.038763</td>\n",
       "      <td>1.038763</td>\n",
       "      <td>1.065311</td>\n",
       "    </tr>\n",
       "    <tr>\n",
       "      <th>1</th>\n",
       "      <td>1.007653</td>\n",
       "      <td>1.022841</td>\n",
       "      <td>0.018772</td>\n",
       "      <td>1.081989</td>\n",
       "      <td>0.509804</td>\n",
       "      <td>0.376065</td>\n",
       "      <td>0.858997</td>\n",
       "      <td>1.080948</td>\n",
       "      <td>1.112940</td>\n",
       "      <td>1.112940</td>\n",
       "    </tr>\n",
       "    <tr>\n",
       "      <th>2</th>\n",
       "      <td>0.946260</td>\n",
       "      <td>0.960522</td>\n",
       "      <td>0.011822</td>\n",
       "      <td>0.968301</td>\n",
       "      <td>0.873950</td>\n",
       "      <td>0.933470</td>\n",
       "      <td>0.623260</td>\n",
       "      <td>0.967369</td>\n",
       "      <td>0.995999</td>\n",
       "      <td>0.995999</td>\n",
       "    </tr>\n",
       "    <tr>\n",
       "      <th>3</th>\n",
       "      <td>0.943232</td>\n",
       "      <td>0.957449</td>\n",
       "      <td>0.005797</td>\n",
       "      <td>0.897723</td>\n",
       "      <td>0.910364</td>\n",
       "      <td>0.347893</td>\n",
       "      <td>0.606300</td>\n",
       "      <td>0.896859</td>\n",
       "      <td>0.923402</td>\n",
       "      <td>0.923402</td>\n",
       "    </tr>\n",
       "    <tr>\n",
       "      <th>4</th>\n",
       "      <td>0.985152</td>\n",
       "      <td>1.000000</td>\n",
       "      <td>0.009953</td>\n",
       "      <td>1.054754</td>\n",
       "      <td>0.655462</td>\n",
       "      <td>0.786167</td>\n",
       "      <td>0.739164</td>\n",
       "      <td>1.053739</td>\n",
       "      <td>1.084926</td>\n",
       "      <td>1.084926</td>\n",
       "    </tr>\n",
       "    <tr>\n",
       "      <th>...</th>\n",
       "      <td>...</td>\n",
       "      <td>...</td>\n",
       "      <td>...</td>\n",
       "      <td>...</td>\n",
       "      <td>...</td>\n",
       "      <td>...</td>\n",
       "      <td>...</td>\n",
       "      <td>...</td>\n",
       "      <td>...</td>\n",
       "      <td>...</td>\n",
       "    </tr>\n",
       "    <tr>\n",
       "      <th>163060</th>\n",
       "      <td>0.822038</td>\n",
       "      <td>0.871542</td>\n",
       "      <td>0.009897</td>\n",
       "      <td>0.821462</td>\n",
       "      <td>0.636364</td>\n",
       "      <td>0.957621</td>\n",
       "      <td>0.457385</td>\n",
       "      <td>0.849746</td>\n",
       "      <td>0.950907</td>\n",
       "      <td>0.890412</td>\n",
       "    </tr>\n",
       "    <tr>\n",
       "      <th>163061</th>\n",
       "      <td>0.869652</td>\n",
       "      <td>0.922023</td>\n",
       "      <td>0.009307</td>\n",
       "      <td>0.708684</td>\n",
       "      <td>0.282051</td>\n",
       "      <td>1.016316</td>\n",
       "      <td>0.370675</td>\n",
       "      <td>0.683327</td>\n",
       "      <td>0.673311</td>\n",
       "      <td>0.768167</td>\n",
       "    </tr>\n",
       "    <tr>\n",
       "      <th>163062</th>\n",
       "      <td>1.231776</td>\n",
       "      <td>1.305955</td>\n",
       "      <td>0.018543</td>\n",
       "      <td>1.085434</td>\n",
       "      <td>0.525692</td>\n",
       "      <td>1.423700</td>\n",
       "      <td>0.521927</td>\n",
       "      <td>1.122806</td>\n",
       "      <td>1.256474</td>\n",
       "      <td>1.176539</td>\n",
       "    </tr>\n",
       "    <tr>\n",
       "      <th>163063</th>\n",
       "      <td>1.654736</td>\n",
       "      <td>1.754386</td>\n",
       "      <td>0.017202</td>\n",
       "      <td>1.831685</td>\n",
       "      <td>0.465041</td>\n",
       "      <td>1.347301</td>\n",
       "      <td>0.676129</td>\n",
       "      <td>1.844885</td>\n",
       "      <td>2.031629</td>\n",
       "      <td>1.985426</td>\n",
       "    </tr>\n",
       "    <tr>\n",
       "      <th>163064</th>\n",
       "      <td>0.764359</td>\n",
       "      <td>0.810390</td>\n",
       "      <td>0.027291</td>\n",
       "      <td>0.772256</td>\n",
       "      <td>0.507317</td>\n",
       "      <td>0.701903</td>\n",
       "      <td>0.507787</td>\n",
       "      <td>0.777821</td>\n",
       "      <td>0.856554</td>\n",
       "      <td>0.837075</td>\n",
       "    </tr>\n",
       "  </tbody>\n",
       "</table>\n",
       "<p>163065 rows × 10 columns</p>\n",
       "</div>"
      ],
      "text/plain": [
       "        state_drug_avg_ratio_amount  state_drug_median_ratio_amount  \\\n",
       "0                          1.005855                        1.021015   \n",
       "1                          1.007653                        1.022841   \n",
       "2                          0.946260                        0.960522   \n",
       "3                          0.943232                        0.957449   \n",
       "4                          0.985152                        1.000000   \n",
       "...                             ...                             ...   \n",
       "163060                     0.822038                        0.871542   \n",
       "163061                     0.869652                        0.922023   \n",
       "163062                     1.231776                        1.305955   \n",
       "163063                     1.654736                        1.754386   \n",
       "163064                     0.764359                        0.810390   \n",
       "\n",
       "        name_hosp_sum_ratio_amount  state_drug_medi_avg_ratio_amount  \\\n",
       "0                         0.010165                          1.035685   \n",
       "1                         0.018772                          1.081989   \n",
       "2                         0.011822                          0.968301   \n",
       "3                         0.005797                          0.897723   \n",
       "4                         0.009953                          1.054754   \n",
       "...                            ...                               ...   \n",
       "163060                    0.009897                          0.821462   \n",
       "163061                    0.009307                          0.708684   \n",
       "163062                    0.018543                          1.085434   \n",
       "163063                    0.017202                          1.831685   \n",
       "163064                    0.027291                          0.772256   \n",
       "\n",
       "        hosp_drug_dis_ratio_amount  hosp_drug_covered_ratio_amount  \\\n",
       "0                         1.338235                        0.908445   \n",
       "1                         0.509804                        0.376065   \n",
       "2                         0.873950                        0.933470   \n",
       "3                         0.910364                        0.347893   \n",
       "4                         0.655462                        0.786167   \n",
       "...                            ...                             ...   \n",
       "163060                    0.636364                        0.957621   \n",
       "163061                    0.282051                        1.016316   \n",
       "163062                    0.525692                        1.423700   \n",
       "163063                    0.465041                        1.347301   \n",
       "163064                    0.507317                        0.701903   \n",
       "\n",
       "        zip_medicare_ratio_amount  hosp_drug_medicare_payments_ratio_amount  \\\n",
       "0                        0.620422                                  1.038763   \n",
       "1                        0.858997                                  1.080948   \n",
       "2                        0.623260                                  0.967369   \n",
       "3                        0.606300                                  0.896859   \n",
       "4                        0.739164                                  1.053739   \n",
       "...                           ...                                       ...   \n",
       "163060                   0.457385                                  0.849746   \n",
       "163061                   0.370675                                  0.683327   \n",
       "163062                   0.521927                                  1.122806   \n",
       "163063                   0.676129                                  1.844885   \n",
       "163064                   0.507787                                  0.777821   \n",
       "\n",
       "        hosp_drug_medicare_payments_median_ratio_amount  \\\n",
       "0                                              1.038763   \n",
       "1                                              1.112940   \n",
       "2                                              0.995999   \n",
       "3                                              0.923402   \n",
       "4                                              1.084926   \n",
       "...                                                 ...   \n",
       "163060                                         0.950907   \n",
       "163061                                         0.673311   \n",
       "163062                                         1.256474   \n",
       "163063                                         2.031629   \n",
       "163064                                         0.856554   \n",
       "\n",
       "        state_drug_medi_median_ratio_amount  \n",
       "0                                  1.065311  \n",
       "1                                  1.112940  \n",
       "2                                  0.995999  \n",
       "3                                  0.923402  \n",
       "4                                  1.084926  \n",
       "...                                     ...  \n",
       "163060                             0.890412  \n",
       "163061                             0.768167  \n",
       "163062                             1.176539  \n",
       "163063                             1.985426  \n",
       "163064                             0.837075  \n",
       "\n",
       "[163065 rows x 10 columns]"
      ]
     },
     "execution_count": 68,
     "metadata": {},
     "output_type": "execute_result"
    }
   ],
   "source": [
    "#combine them to create new dataframe d\n",
    "d = pd.concat([d1,d2,d3,d4,d5,d6,d7,d8,d9,d10],axis=1)\n",
    "d"
   ]
  },
  {
   "cell_type": "code",
   "execution_count": 69,
   "id": "395dc8f1",
   "metadata": {},
   "outputs": [],
   "source": [
    "#rename for easier practice\n",
    "d.columns = ['F1', 'F2', 'F3', 'F4',\n",
    "       'F5', 'F6', 'F7', 'F8',\n",
    "       'F9', 'F10']"
   ]
  },
  {
   "cell_type": "code",
   "execution_count": 70,
   "id": "e98951a8",
   "metadata": {},
   "outputs": [
    {
     "data": {
      "text/html": [
       "<div>\n",
       "<style scoped>\n",
       "    .dataframe tbody tr th:only-of-type {\n",
       "        vertical-align: middle;\n",
       "    }\n",
       "\n",
       "    .dataframe tbody tr th {\n",
       "        vertical-align: top;\n",
       "    }\n",
       "\n",
       "    .dataframe thead th {\n",
       "        text-align: right;\n",
       "    }\n",
       "</style>\n",
       "<table border=\"1\" class=\"dataframe\">\n",
       "  <thead>\n",
       "    <tr style=\"text-align: right;\">\n",
       "      <th></th>\n",
       "      <th>F1</th>\n",
       "      <th>F2</th>\n",
       "      <th>F3</th>\n",
       "      <th>F4</th>\n",
       "      <th>F5</th>\n",
       "      <th>F6</th>\n",
       "      <th>F7</th>\n",
       "      <th>F8</th>\n",
       "      <th>F9</th>\n",
       "      <th>F10</th>\n",
       "    </tr>\n",
       "  </thead>\n",
       "  <tbody>\n",
       "    <tr>\n",
       "      <th>count</th>\n",
       "      <td>163065.000000</td>\n",
       "      <td>163065.000000</td>\n",
       "      <td>163065.000000</td>\n",
       "      <td>163065.000000</td>\n",
       "      <td>163065.000000</td>\n",
       "      <td>163065.000000</td>\n",
       "      <td>163065.000000</td>\n",
       "      <td>163065.000000</td>\n",
       "      <td>163065.000000</td>\n",
       "      <td>163065.000000</td>\n",
       "    </tr>\n",
       "    <tr>\n",
       "      <th>mean</th>\n",
       "      <td>1.000000</td>\n",
       "      <td>1.050746</td>\n",
       "      <td>0.020452</td>\n",
       "      <td>1.000000</td>\n",
       "      <td>1.000000</td>\n",
       "      <td>1.000000</td>\n",
       "      <td>1.000000</td>\n",
       "      <td>1.000000</td>\n",
       "      <td>1.038494</td>\n",
       "      <td>1.055484</td>\n",
       "    </tr>\n",
       "    <tr>\n",
       "      <th>std</th>\n",
       "      <td>0.195274</td>\n",
       "      <td>0.211465</td>\n",
       "      <td>0.036628</td>\n",
       "      <td>0.215091</td>\n",
       "      <td>0.596288</td>\n",
       "      <td>0.317830</td>\n",
       "      <td>0.745538</td>\n",
       "      <td>0.175920</td>\n",
       "      <td>0.196388</td>\n",
       "      <td>0.234139</td>\n",
       "    </tr>\n",
       "    <tr>\n",
       "      <th>min</th>\n",
       "      <td>0.384805</td>\n",
       "      <td>0.517695</td>\n",
       "      <td>0.001903</td>\n",
       "      <td>0.339831</td>\n",
       "      <td>0.015412</td>\n",
       "      <td>0.102437</td>\n",
       "      <td>0.174998</td>\n",
       "      <td>0.339831</td>\n",
       "      <td>0.331728</td>\n",
       "      <td>0.367836</td>\n",
       "    </tr>\n",
       "    <tr>\n",
       "      <th>25%</th>\n",
       "      <td>0.880824</td>\n",
       "      <td>0.925511</td>\n",
       "      <td>0.007624</td>\n",
       "      <td>0.868395</td>\n",
       "      <td>0.592105</td>\n",
       "      <td>0.794733</td>\n",
       "      <td>0.532471</td>\n",
       "      <td>0.893506</td>\n",
       "      <td>0.935187</td>\n",
       "      <td>0.916191</td>\n",
       "    </tr>\n",
       "    <tr>\n",
       "      <th>50%</th>\n",
       "      <td>0.956830</td>\n",
       "      <td>1.000000</td>\n",
       "      <td>0.012352</td>\n",
       "      <td>0.954250</td>\n",
       "      <td>0.886894</td>\n",
       "      <td>0.975768</td>\n",
       "      <td>0.760642</td>\n",
       "      <td>0.976954</td>\n",
       "      <td>1.000000</td>\n",
       "      <td>1.000000</td>\n",
       "    </tr>\n",
       "    <tr>\n",
       "      <th>75%</th>\n",
       "      <td>1.064688</td>\n",
       "      <td>1.112126</td>\n",
       "      <td>0.021981</td>\n",
       "      <td>1.071483</td>\n",
       "      <td>1.250000</td>\n",
       "      <td>1.151339</td>\n",
       "      <td>1.218994</td>\n",
       "      <td>1.063344</td>\n",
       "      <td>1.082952</td>\n",
       "      <td>1.121178</td>\n",
       "    </tr>\n",
       "    <tr>\n",
       "      <th>max</th>\n",
       "      <td>7.857934</td>\n",
       "      <td>9.338775</td>\n",
       "      <td>1.000000</td>\n",
       "      <td>5.174415</td>\n",
       "      <td>11.008786</td>\n",
       "      <td>4.942205</td>\n",
       "      <td>15.692215</td>\n",
       "      <td>4.516504</td>\n",
       "      <td>5.733904</td>\n",
       "      <td>6.030981</td>\n",
       "    </tr>\n",
       "  </tbody>\n",
       "</table>\n",
       "</div>"
      ],
      "text/plain": [
       "                  F1             F2             F3             F4  \\\n",
       "count  163065.000000  163065.000000  163065.000000  163065.000000   \n",
       "mean        1.000000       1.050746       0.020452       1.000000   \n",
       "std         0.195274       0.211465       0.036628       0.215091   \n",
       "min         0.384805       0.517695       0.001903       0.339831   \n",
       "25%         0.880824       0.925511       0.007624       0.868395   \n",
       "50%         0.956830       1.000000       0.012352       0.954250   \n",
       "75%         1.064688       1.112126       0.021981       1.071483   \n",
       "max         7.857934       9.338775       1.000000       5.174415   \n",
       "\n",
       "                  F5             F6             F7             F8  \\\n",
       "count  163065.000000  163065.000000  163065.000000  163065.000000   \n",
       "mean        1.000000       1.000000       1.000000       1.000000   \n",
       "std         0.596288       0.317830       0.745538       0.175920   \n",
       "min         0.015412       0.102437       0.174998       0.339831   \n",
       "25%         0.592105       0.794733       0.532471       0.893506   \n",
       "50%         0.886894       0.975768       0.760642       0.976954   \n",
       "75%         1.250000       1.151339       1.218994       1.063344   \n",
       "max        11.008786       4.942205      15.692215       4.516504   \n",
       "\n",
       "                  F9            F10  \n",
       "count  163065.000000  163065.000000  \n",
       "mean        1.038494       1.055484  \n",
       "std         0.196388       0.234139  \n",
       "min         0.331728       0.367836  \n",
       "25%         0.935187       0.916191  \n",
       "50%         1.000000       1.000000  \n",
       "75%         1.082952       1.121178  \n",
       "max         5.733904       6.030981  "
      ]
     },
     "execution_count": 70,
     "metadata": {},
     "output_type": "execute_result"
    }
   ],
   "source": [
    "d.describe()"
   ]
  },
  {
   "cell_type": "markdown",
   "id": "26815bbb",
   "metadata": {},
   "source": [
    "PyOD consists of around 55 algorithms based on Linear models, Proximity based, Probabilistic, Outlier Ensembles, Neural Networks and Combination.\n",
    "For this analysis, we use HBOS (Proximity-Based)"
   ]
  },
  {
   "cell_type": "markdown",
   "id": "f089768d",
   "metadata": {},
   "source": [
    "# 4.1 Histogram Based Outlier Detection (HBOS)"
   ]
  },
  {
   "cell_type": "markdown",
   "id": "4e8814a9",
   "metadata": {},
   "source": [
    "HBOS Outline\n",
    "\n",
    "The extreme points in a histogram are called the outliers. A data point can be an outlier for one variable but not in an another variable. If a datapoint is an outlier in almost all of the variables, we can confidently categorise it as an outlier. We can calculate all the univariate outlier scores of the data point and get the multivariate score for the point. This multivariate outlier score is called the histogram based outlier score (HBOS).\n",
    "\n",
    "It can be use to measure the outlierness of a data point interms of all variables. The height of the bin of a data point can be determined as the outlier score.\n",
    "\n",
    "We used the training and test split data and train the HBOS model."
   ]
  },
  {
   "cell_type": "markdown",
   "id": "08ed88a5",
   "metadata": {},
   "source": [
    "\n",
    "First select the features which we created in the above analysis and create a new dataframe with these selected features\n",
    "Split the data into 80% training and 20% testing data\n",
    "Standardise the data before importing it into the mode"
   ]
  },
  {
   "cell_type": "code",
   "execution_count": 74,
   "id": "b1d03f74",
   "metadata": {},
   "outputs": [],
   "source": [
    "from sklearn.model_selection import train_test_split\n",
    "train,test = train_test_split(d,train_size=0.8, test_size=0.2,random_state=1234)"
   ]
  },
  {
   "cell_type": "code",
   "execution_count": 75,
   "id": "37b3bae7",
   "metadata": {},
   "outputs": [],
   "source": [
    "from sklearn.preprocessing import StandardScaler\n",
    "scaler = StandardScaler() \n",
    "scaler.fit(train)    # Only the training data are used to fit the scaler transformation,\n",
    "train_scaled = scaler.transform(train) \n",
    "test_scaled = scaler.transform(test)  # then the scaler is used to trans"
   ]
  },
  {
   "cell_type": "markdown",
   "id": "a3ed5939",
   "metadata": {},
   "source": [
    "The features of data anomalies are significantly different from those of normal instances"
   ]
  },
  {
   "cell_type": "code",
   "execution_count": 76,
   "id": "c2838d1a",
   "metadata": {},
   "outputs": [],
   "source": [
    "# train hbos detector\n",
    "from pyod.models.hbos import HBOS\n",
    "n_bins = 50\n",
    "hbos = HBOS(n_bins=n_bins)\n",
    "hbos.fit(train_scaled)\n",
    "HBOS(alpha=0.1, contamination=0.1, n_bins=n_bins, tol=0.5)\n",
    "train_scores_h = hbos.decision_function(train_scaled)"
   ]
  },
  {
   "cell_type": "markdown",
   "id": "bceefcb2",
   "metadata": {},
   "source": [
    "Then, we predict the test data and get the test scores"
   ]
  },
  {
   "cell_type": "code",
   "execution_count": 78,
   "id": "b0701692",
   "metadata": {},
   "outputs": [
    {
     "data": {
      "text/plain": [
       "array([10.29360513,  8.4656878 ,  3.77552753, ..., 18.78228362,\n",
       "       12.79209082,  9.33398142])"
      ]
     },
     "execution_count": 78,
     "metadata": {},
     "output_type": "execute_result"
    }
   ],
   "source": [
    "# Now we have the trained hbos model, let's apply to the test data to get the predictions\n",
    "test_pred_h = hbos.predict(test_scaled) # outlier labels (0 or 1)\n",
    "# Because it is '0' and '1', we can run a count statistic. The number of anomalies is roughly ten percent:\n",
    "unique, counts = np.unique(test_pred_h, return_counts=True)\n",
    "dict(zip(unique, counts))\n",
    "#{0: 29408, 1: 3205}\n",
    "# And you can generate the anomaly score using clf.decision_function:\n",
    "test_scores_h = hbos.decision_function(test_scaled)\n",
    "test_scores_h"
   ]
  },
  {
   "cell_type": "code",
   "execution_count": 79,
   "id": "c8fddb67",
   "metadata": {},
   "outputs": [
    {
     "data": {
      "text/plain": [
       "(array([0, 1]), array([29408,  3205]))"
      ]
     },
     "execution_count": 79,
     "metadata": {},
     "output_type": "execute_result"
    }
   ],
   "source": [
    "unique, counts"
   ]
  },
  {
   "cell_type": "markdown",
   "id": "b8f4e442",
   "metadata": {},
   "source": [
    "Train and test scores are the anomaly scores for each data point in training data and testing data respectively. From the above calculation, we see that there are 3205 (approx 10%) data points in the testing data in the anomalous category.\n",
    "\n",
    "Plotting a histogram for the test scores against the count of data points for the respective points."
   ]
  },
  {
   "cell_type": "markdown",
   "id": "790a317c",
   "metadata": {},
   "source": [
    "## Determining Boundary"
   ]
  },
  {
   "cell_type": "code",
   "execution_count": 80,
   "id": "786e0453",
   "metadata": {},
   "outputs": [
    {
     "data": {
      "image/png": "[encoded data removed]",
      "text/plain": [
       "<Figure size 432x288 with 1 Axes>"
      ]
     },
     "metadata": {
      "needs_background": "light"
     },
     "output_type": "display_data"
    }
   ],
   "source": [
    "import matplotlib.pyplot as plt\n",
    "plt.hist(test_scores_h, bins='auto')  # arguments are passed to np.histogram\n",
    "plt.title(\"Histogram with 'auto' bins\")\n",
    "plt.show()"
   ]
  },
  {
   "cell_type": "markdown",
   "id": "93d35fe6",
   "metadata": {},
   "source": [
    "We see here that the majority of the points are having low score which is seen as we move towards the right of the graph. We take the cut point as 25 as there are fewer data points after that score and then cluster the observations less than 25 into cluster 0 which is the normal cluster and the points with score greater than 25 as cluster 1 which is the abnormal or anomalous cluster. We see that there are 156 points in cluster 1 and 32457 points in cluster 0"
   ]
  },
  {
   "cell_type": "markdown",
   "id": "00b67f8f",
   "metadata": {},
   "source": [
    "## Summary Statistics"
   ]
  },
  {
   "cell_type": "code",
   "execution_count": 82,
   "id": "2706fe6a",
   "metadata": {},
   "outputs": [
    {
     "data": {
      "text/html": [
       "<div>\n",
       "<style scoped>\n",
       "    .dataframe tbody tr th:only-of-type {\n",
       "        vertical-align: middle;\n",
       "    }\n",
       "\n",
       "    .dataframe tbody tr th {\n",
       "        vertical-align: top;\n",
       "    }\n",
       "\n",
       "    .dataframe thead th {\n",
       "        text-align: right;\n",
       "    }\n",
       "</style>\n",
       "<table border=\"1\" class=\"dataframe\">\n",
       "  <thead>\n",
       "    <tr style=\"text-align: right;\">\n",
       "      <th></th>\n",
       "      <th>cluster</th>\n",
       "      <th>F1</th>\n",
       "      <th>F2</th>\n",
       "      <th>F3</th>\n",
       "      <th>F4</th>\n",
       "      <th>F5</th>\n",
       "      <th>F6</th>\n",
       "      <th>F7</th>\n",
       "      <th>F8</th>\n",
       "      <th>F9</th>\n",
       "      <th>F10</th>\n",
       "      <th>score</th>\n",
       "    </tr>\n",
       "  </thead>\n",
       "  <tbody>\n",
       "    <tr>\n",
       "      <th>0</th>\n",
       "      <td>0</td>\n",
       "      <td>-0.019888</td>\n",
       "      <td>-0.020240</td>\n",
       "      <td>-0.007106</td>\n",
       "      <td>-0.015911</td>\n",
       "      <td>0.001332</td>\n",
       "      <td>-0.000963</td>\n",
       "      <td>-0.014151</td>\n",
       "      <td>-0.016598</td>\n",
       "      <td>-0.020538</td>\n",
       "      <td>-0.016632</td>\n",
       "      <td>10.511294</td>\n",
       "    </tr>\n",
       "    <tr>\n",
       "      <th>1</th>\n",
       "      <td>1</td>\n",
       "      <td>3.554988</td>\n",
       "      <td>3.636675</td>\n",
       "      <td>1.195636</td>\n",
       "      <td>3.437139</td>\n",
       "      <td>0.109101</td>\n",
       "      <td>1.748478</td>\n",
       "      <td>2.420712</td>\n",
       "      <td>3.303163</td>\n",
       "      <td>3.684525</td>\n",
       "      <td>3.510713</td>\n",
       "      <td>26.665856</td>\n",
       "    </tr>\n",
       "  </tbody>\n",
       "</table>\n",
       "</div>"
      ],
      "text/plain": [
       "   cluster        F1        F2        F3        F4        F5        F6  \\\n",
       "0        0 -0.019888 -0.020240 -0.007106 -0.015911  0.001332 -0.000963   \n",
       "1        1  3.554988  3.636675  1.195636  3.437139  0.109101  1.748478   \n",
       "\n",
       "         F7        F8        F9       F10      score  \n",
       "0 -0.014151 -0.016598 -0.020538 -0.016632  10.511294  \n",
       "1  2.420712  3.303163  3.684525  3.510713  26.665856  "
      ]
     },
     "execution_count": 82,
     "metadata": {},
     "output_type": "execute_result"
    }
   ],
   "source": [
    "# Let's see how many '0's and '1's. We get 32457 '0's and 156 '1's.\n",
    "df_test_h = pd.DataFrame(test_scaled)\n",
    "df_test_h['score'] = test_scores_h\n",
    "df_test_h['cluster'] = np.where(df_test_h['score']<25, 0, 1)\n",
    "df_test_h['cluster'].value_counts()\n",
    "# Now let's show the summary statistics:\n",
    "dff_h = df_test_h.groupby('cluster').mean().reset_index()\n",
    "dff_h.columns = ['cluster','F1', 'F2', 'F3', 'F4',\n",
    "       'F5', 'F6', 'F7', 'F8',\n",
    "       'F9', 'F10', 'score']\n",
    "dff_h"
   ]
  },
  {
   "cell_type": "markdown",
   "id": "4f5b5d71",
   "metadata": {},
   "source": [
    "1. Seeing the cluster analysis, it is observed that cluster 1 is having a higher score than cluster 0.\n",
    "2. We then check if there are any features contradicting the cluster scores which means we drop those set of features which are having high scores in cluster 0 than in cluster 1 because they don't make any sense\n",
    "3. Since all the variables are rightly aligning with the cluster scores which means all of them are having higher scores in cluster 1 than in cluster 0, we do not drop any feature"
   ]
  },
  {
   "cell_type": "markdown",
   "id": "23847d00",
   "metadata": {},
   "source": [
    "## 4. 2 Business Insights\n",
    "An outlier is any data point which differs greatly from the rest of the observations in the dataset. Detecting and treating outliers is also a major step in the data exploration stage. The quality of the inputs decide the quality of the output. Outliers are not necessarily a bad thing. These are just observations that are not following the same pattern as the other ones. But it can be the case that an outlier is very interesting. From the above analysis, we determined the probable outliers and categorised them into clusters. Each cluster has the score for every feature which indicates the distribution of data points inside the respective clusters. By seeing the cluster analysis, we realised that there is no need to drop any of the features which gives the businesses an insight that every feature is important and is contributing for the outlier detection.We found that there are  data points in the abnormal cluster and from this we can check for the features which are having high average anomaly score in this cluster which gives an inference about the attribues influencing the frauds in the industry.Also, we observed that there is approximately 10% of the data points in the abnormal cluster which is a good result. If we generate the aggregate models to avoid overfitting, we check for the outliers overall in the data. This way, we could see if a particular data point is categorised as an outlier in all the models, we could confidently categorise it as an outlier"
   ]
  },
  {
   "cell_type": "code",
   "execution_count": null,
   "id": "3b5c2208",
   "metadata": {},
   "outputs": [],
   "source": []
  }
 ],
 "metadata": {
  "kernelspec": {
   "display_name": "Python 3 (ipykernel)",
   "language": "python",
   "name": "python3"
  },
  "language_info": {
   "codemirror_mode": {
    "name": "ipython",
    "version": 3
   },
   "file_extension": ".py",
   "mimetype": "text/x-python",
   "name": "python",
   "nbconvert_exporter": "python",
   "pygments_lexer": "ipython3",
   "version": "3.9.12"
  }
 },
 "nbformat": 4,
 "nbformat_minor": 5
}
