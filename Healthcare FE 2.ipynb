{
 "cells": [
  {
   "cell_type": "markdown",
   "metadata": {},
   "source": [
    "# Module 4 -- Feature Engineering"
   ]
  },
  {
   "cell_type": "markdown",
   "metadata": {},
   "source": [
    "## Objectives\n",
    "It is important in any data science project to define the objective as specific as possible. Below let's write it from general to specific. This will direct your analysis.\n",
    "* Detect any hospital that may abuse the resources.\n",
    "* Detect any hospital that may abuse the resources compared to its peers.\n",
    "* Detect any hospital that may abuse the resources compared to the average (median etc) of its peers.\n",
    "* Detect any hospital that may abuse the resources compared to the average (median etc) of its peers of the same DRG and State.\n",
    "\n",
    "## FE:\n",
    "* We will focus on the \"Average Medicare Payments\", which is the \"Medicare Payment Amount / Total Discharges\" to create features.\n",
    "\n",
    "\n",
    "## Table of Contents\n",
    "* [Section 1: data preparation](#Section_1)\n",
    "    * [Section 1.1: Load data](#Section_11)\n",
    "    * [Section 1.2: data preparation](#Section_12)\n",
    "* [Section 2: EDA](#Section_2)\n",
    "    * [Section 2.1: Distribution plots](#Section_21)\n",
    "    * [Section 2.2: Count by state(#Sect](#Section_22)    \n",
    "    * [Section 2.3: Count of top cities](#Section_23)\n",
    "* [Section 3: Feature engineering](#Section_3)\n",
    "    * [Section 3.1: Create the benchmark table - State & DRG average](#Section_31)\n",
    "    * [Section 3.2: Create features](#Section_32)    "
   ]
  },
  {
   "cell_type": "code",
   "execution_count": 27,
   "metadata": {},
   "outputs": [],
   "source": [
    "#from IPython.core.interactiveshell import InteractiveShell\n",
    "#InteractiveShell.ast_node_interactivity = \"all\"\n",
    "\n",
    "#pd.options.display.float_format = '{:.2f}'.format"
   ]
  },
  {
   "cell_type": "markdown",
   "metadata": {},
   "source": [
    "## Section 1: Data preparation <a class=\"anchor\" id=\"Section_1\"></a>\n",
    "### Section 1.1: Load Data <a class=\"anchor\" id=\"Section_11\"></a>\n",
    "* Import packages and data \n",
    "* Rename column\n",
    "* Change data type and transfer spending amount with dollar sign into numeric\n",
    "* Understand the data strcuture. "
   ]
  },
  {
   "cell_type": "code",
   "execution_count": 2,
   "metadata": {},
   "outputs": [],
   "source": [
    "import pandas as pd\n",
    "import numpy as np\n",
    "import matplotlib.pyplot as plt\n",
    "import seaborn as sns\n",
    "%matplotlib inline"
   ]
  },
  {
   "cell_type": "code",
   "execution_count": 28,
   "metadata": {},
   "outputs": [],
   "source": [
    "path = ''\n",
    "data = pd.read_csv(path + '/inpatientCharges.csv')"
   ]
  },
  {
   "cell_type": "code",
   "execution_count": 29,
   "metadata": {},
   "outputs": [
    {
     "name": "stdout",
     "output_type": "stream",
     "text": [
      "<class 'pandas.core.frame.DataFrame'>\n",
      "RangeIndex: 163065 entries, 0 to 163064\n",
      "Data columns (total 12 columns):\n",
      " #   Column                                Non-Null Count   Dtype \n",
      "---  ------                                --------------   ----- \n",
      " 0   DRG Definition                        163065 non-null  object\n",
      " 1   Provider Id                           163065 non-null  int64 \n",
      " 2   Provider Name                         163065 non-null  object\n",
      " 3   Provider Street Address               163065 non-null  object\n",
      " 4   Provider City                         163065 non-null  object\n",
      " 5   Provider State                        163065 non-null  object\n",
      " 6   Provider Zip Code                     163065 non-null  int64 \n",
      " 7   Hospital Referral Region Description  163065 non-null  object\n",
      " 8    Total Discharges                     163065 non-null  int64 \n",
      " 9    Average Covered Charges              163065 non-null  object\n",
      " 10   Average Total Payments               163065 non-null  object\n",
      " 11  Average Medicare Payments             163065 non-null  object\n",
      "dtypes: int64(3), object(9)\n",
      "memory usage: 14.9+ MB\n"
     ]
    }
   ],
   "source": [
    "#data.describe()\n",
    "#data.head()\n",
    "data.info()"
   ]
  },
  {
   "cell_type": "code",
   "execution_count": 30,
   "metadata": {},
   "outputs": [],
   "source": [
    "data.columns = ['DRG','Provider_Id', 'Provider_Name','Provider_StreetAddress','Provider_City',\n",
    "               'Provider_State','Provider_Zipcode','Hospital_referral_region_desp',\n",
    "                'Total_Discharges','Average_Covered_Charges','Average_Total_Payments',\n",
    "                'Average_Medicare_Payment']\n",
    "data = data.drop('Average_Covered_Charges',axis=1)"
   ]
  },
  {
   "cell_type": "code",
   "execution_count": 31,
   "metadata": {},
   "outputs": [
    {
     "data": {
      "text/html": [
       "<div>\n",
       "<style scoped>\n",
       "    .dataframe tbody tr th:only-of-type {\n",
       "        vertical-align: middle;\n",
       "    }\n",
       "\n",
       "    .dataframe tbody tr th {\n",
       "        vertical-align: top;\n",
       "    }\n",
       "\n",
       "    .dataframe thead th {\n",
       "        text-align: right;\n",
       "    }\n",
       "</style>\n",
       "<table border=\"1\" class=\"dataframe\">\n",
       "  <thead>\n",
       "    <tr style=\"text-align: right;\">\n",
       "      <th></th>\n",
       "      <th>DRG</th>\n",
       "      <th>Provider_Id</th>\n",
       "      <th>Provider_Name</th>\n",
       "      <th>Provider_StreetAddress</th>\n",
       "      <th>Provider_City</th>\n",
       "      <th>Provider_State</th>\n",
       "      <th>Provider_Zipcode</th>\n",
       "      <th>Hospital_referral_region_desp</th>\n",
       "      <th>Total_Discharges</th>\n",
       "      <th>Average_Total_Payments</th>\n",
       "      <th>Average_Medicare_Payment</th>\n",
       "    </tr>\n",
       "  </thead>\n",
       "  <tbody>\n",
       "    <tr>\n",
       "      <th>0</th>\n",
       "      <td>039 - EXTRACRANIAL PROCEDURES W/O CC/MCC</td>\n",
       "      <td>10001</td>\n",
       "      <td>SOUTHEAST ALABAMA MEDICAL CENTER</td>\n",
       "      <td>1108 ROSS CLARK CIRCLE</td>\n",
       "      <td>DOTHAN</td>\n",
       "      <td>AL</td>\n",
       "      <td>36301</td>\n",
       "      <td>AL - Dothan</td>\n",
       "      <td>91</td>\n",
       "      <td>$5777.24</td>\n",
       "      <td>$4763.73</td>\n",
       "    </tr>\n",
       "    <tr>\n",
       "      <th>1</th>\n",
       "      <td>039 - EXTRACRANIAL PROCEDURES W/O CC/MCC</td>\n",
       "      <td>10005</td>\n",
       "      <td>MARSHALL MEDICAL CENTER SOUTH</td>\n",
       "      <td>2505 U S HIGHWAY 431 NORTH</td>\n",
       "      <td>BOAZ</td>\n",
       "      <td>AL</td>\n",
       "      <td>35957</td>\n",
       "      <td>AL - Birmingham</td>\n",
       "      <td>14</td>\n",
       "      <td>$5787.57</td>\n",
       "      <td>$4976.71</td>\n",
       "    </tr>\n",
       "    <tr>\n",
       "      <th>2</th>\n",
       "      <td>039 - EXTRACRANIAL PROCEDURES W/O CC/MCC</td>\n",
       "      <td>10006</td>\n",
       "      <td>ELIZA COFFEE MEMORIAL HOSPITAL</td>\n",
       "      <td>205 MARENGO STREET</td>\n",
       "      <td>FLORENCE</td>\n",
       "      <td>AL</td>\n",
       "      <td>35631</td>\n",
       "      <td>AL - Birmingham</td>\n",
       "      <td>24</td>\n",
       "      <td>$5434.95</td>\n",
       "      <td>$4453.79</td>\n",
       "    </tr>\n",
       "    <tr>\n",
       "      <th>3</th>\n",
       "      <td>039 - EXTRACRANIAL PROCEDURES W/O CC/MCC</td>\n",
       "      <td>10011</td>\n",
       "      <td>ST VINCENT'S EAST</td>\n",
       "      <td>50 MEDICAL PARK EAST DRIVE</td>\n",
       "      <td>BIRMINGHAM</td>\n",
       "      <td>AL</td>\n",
       "      <td>35235</td>\n",
       "      <td>AL - Birmingham</td>\n",
       "      <td>25</td>\n",
       "      <td>$5417.56</td>\n",
       "      <td>$4129.16</td>\n",
       "    </tr>\n",
       "    <tr>\n",
       "      <th>4</th>\n",
       "      <td>039 - EXTRACRANIAL PROCEDURES W/O CC/MCC</td>\n",
       "      <td>10016</td>\n",
       "      <td>SHELBY BAPTIST MEDICAL CENTER</td>\n",
       "      <td>1000 FIRST STREET NORTH</td>\n",
       "      <td>ALABASTER</td>\n",
       "      <td>AL</td>\n",
       "      <td>35007</td>\n",
       "      <td>AL - Birmingham</td>\n",
       "      <td>18</td>\n",
       "      <td>$5658.33</td>\n",
       "      <td>$4851.44</td>\n",
       "    </tr>\n",
       "  </tbody>\n",
       "</table>\n",
       "</div>"
      ],
      "text/plain": [
       "                                        DRG  Provider_Id  \\\n",
       "0  039 - EXTRACRANIAL PROCEDURES W/O CC/MCC        10001   \n",
       "1  039 - EXTRACRANIAL PROCEDURES W/O CC/MCC        10005   \n",
       "2  039 - EXTRACRANIAL PROCEDURES W/O CC/MCC        10006   \n",
       "3  039 - EXTRACRANIAL PROCEDURES W/O CC/MCC        10011   \n",
       "4  039 - EXTRACRANIAL PROCEDURES W/O CC/MCC        10016   \n",
       "\n",
       "                      Provider_Name      Provider_StreetAddress Provider_City  \\\n",
       "0  SOUTHEAST ALABAMA MEDICAL CENTER      1108 ROSS CLARK CIRCLE        DOTHAN   \n",
       "1     MARSHALL MEDICAL CENTER SOUTH  2505 U S HIGHWAY 431 NORTH          BOAZ   \n",
       "2    ELIZA COFFEE MEMORIAL HOSPITAL          205 MARENGO STREET      FLORENCE   \n",
       "3                 ST VINCENT'S EAST  50 MEDICAL PARK EAST DRIVE    BIRMINGHAM   \n",
       "4     SHELBY BAPTIST MEDICAL CENTER     1000 FIRST STREET NORTH     ALABASTER   \n",
       "\n",
       "  Provider_State  Provider_Zipcode Hospital_referral_region_desp  \\\n",
       "0             AL             36301                   AL - Dothan   \n",
       "1             AL             35957               AL - Birmingham   \n",
       "2             AL             35631               AL - Birmingham   \n",
       "3             AL             35235               AL - Birmingham   \n",
       "4             AL             35007               AL - Birmingham   \n",
       "\n",
       "   Total_Discharges Average_Total_Payments Average_Medicare_Payment  \n",
       "0                91               $5777.24                 $4763.73  \n",
       "1                14               $5787.57                 $4976.71  \n",
       "2                24               $5434.95                 $4453.79  \n",
       "3                25               $5417.56                 $4129.16  \n",
       "4                18               $5658.33                 $4851.44  "
      ]
     },
     "execution_count": 31,
     "metadata": {},
     "output_type": "execute_result"
    }
   ],
   "source": [
    "data.head()"
   ]
  },
  {
   "cell_type": "code",
   "execution_count": 32,
   "metadata": {},
   "outputs": [
    {
     "data": {
      "text/plain": [
       "count       163065\n",
       "unique      147842\n",
       "top       $4370.00\n",
       "freq             9\n",
       "Name: Average_Total_Payments, dtype: object"
      ]
     },
     "execution_count": 32,
     "metadata": {},
     "output_type": "execute_result"
    }
   ],
   "source": [
    "# Distribution plots of average total payments \n",
    "data['Average_Total_Payments'].describe()"
   ]
  },
  {
   "cell_type": "code",
   "execution_count": 33,
   "metadata": {},
   "outputs": [],
   "source": [
    "# Change data type and transfer spending amount with dollar sign into numeric\n",
    "data['DRG'] = data['DRG'].astype('category')\n",
    "data['Provider_State'] = data['Provider_State'].astype('category')\n",
    "data['Provider_City'] = data['Provider_City'].astype('category')\n",
    "data['Provider_Id'] = data['Provider_Id'].astype('category')\n",
    "data['Average_Total_Payments'] = (data['Average_Total_Payments']\n",
    "                              .str.replace(r'[^-+\\d.]', '').astype(float))\n",
    "data['Average_Medicare_Payment'] = (data['Average_Medicare_Payment']\n",
    "                              .str.replace(r'[^-+\\d.]', '').astype(float))"
   ]
  },
  {
   "cell_type": "code",
   "execution_count": 34,
   "metadata": {},
   "outputs": [
    {
     "name": "stdout",
     "output_type": "stream",
     "text": [
      "<class 'pandas.core.frame.DataFrame'>\n",
      "RangeIndex: 163065 entries, 0 to 163064\n",
      "Data columns (total 11 columns):\n",
      " #   Column                         Non-Null Count   Dtype   \n",
      "---  ------                         --------------   -----   \n",
      " 0   DRG                            163065 non-null  category\n",
      " 1   Provider_Id                    163065 non-null  category\n",
      " 2   Provider_Name                  163065 non-null  object  \n",
      " 3   Provider_StreetAddress         163065 non-null  object  \n",
      " 4   Provider_City                  163065 non-null  category\n",
      " 5   Provider_State                 163065 non-null  category\n",
      " 6   Provider_Zipcode               163065 non-null  int64   \n",
      " 7   Hospital_referral_region_desp  163065 non-null  object  \n",
      " 8   Total_Discharges               163065 non-null  int64   \n",
      " 9   Average_Total_Payments         163065 non-null  float64 \n",
      " 10  Average_Medicare_Payment       163065 non-null  float64 \n",
      "dtypes: category(4), float64(2), int64(2), object(3)\n",
      "memory usage: 9.9+ MB\n"
     ]
    }
   ],
   "source": [
    "data.info()"
   ]
  },
  {
   "cell_type": "markdown",
   "metadata": {},
   "source": [
    "## Section 2: EDA <a class=\"anchor\" id=\"Section_2\"></a>\n",
    "### Section 2.1: Distribution plots <a class=\"anchor\" id=\"Section_21\"></a>"
   ]
  },
  {
   "cell_type": "code",
   "execution_count": 35,
   "metadata": {},
   "outputs": [
    {
     "data": {
      "text/plain": [
       "count    163065.000000\n",
       "mean       9707.473804\n",
       "std        7664.642598\n",
       "min        2673.000000\n",
       "25%        5234.500000\n",
       "50%        7214.100000\n",
       "75%       11286.400000\n",
       "max      156158.180000\n",
       "Name: Average_Total_Payments, dtype: float64"
      ]
     },
     "execution_count": 35,
     "metadata": {},
     "output_type": "execute_result"
    }
   ],
   "source": [
    "# Distribution plots of average total payments \n",
    "data['Average_Total_Payments'].describe()"
   ]
  },
  {
   "cell_type": "code",
   "execution_count": 36,
   "metadata": {},
   "outputs": [
    {
     "data": {
      "text/plain": [
       "<AxesSubplot:xlabel='Average_Total_Payments', ylabel='Count'>"
      ]
     },
     "execution_count": 36,
     "metadata": {},
     "output_type": "execute_result"
    },
    {
     "data": {
      "image/png": "[encoded data removed]",
      "text/plain": [
       "<Figure size 720x360 with 1 Axes>"
      ]
     },
     "metadata": {
      "needs_background": "light"
     },
     "output_type": "display_data"
    }
   ],
   "source": [
    "plt.figure(figsize=(10,5)) # Plot a graph with reasonable size.\n",
    "sns.histplot(data['Average_Total_Payments'])\n",
    "# plt.plot(data['Average_Total_Payments'])"
   ]
  },
  {
   "cell_type": "markdown",
   "metadata": {},
   "source": [
    "* One plot is enough. The following plot can be omitted."
   ]
  },
  {
   "cell_type": "code",
   "execution_count": 37,
   "metadata": {},
   "outputs": [
    {
     "data": {
      "text/plain": [
       "<AxesSubplot:xlabel='Average_Total_Payments'>"
      ]
     },
     "execution_count": 37,
     "metadata": {},
     "output_type": "execute_result"
    },
    {
     "data": {
      "image/png": "[encoded data removed]",
      "text/plain": [
       "<Figure size 432x288 with 1 Axes>"
      ]
     },
     "metadata": {
      "needs_background": "light"
     },
     "output_type": "display_data"
    }
   ],
   "source": [
    "sns.boxplot(x = 'Average_Total_Payments', data = data) "
   ]
  },
  {
   "cell_type": "markdown",
   "metadata": {},
   "source": [
    "* From those 2 plots we can see 75% of the charges are under 10,000 dollar, but the highest charge amounts to 156,158"
   ]
  },
  {
   "cell_type": "markdown",
   "metadata": {},
   "source": [
    "### Section 2.2: Count by State <a class=\"anchor\" id=\"Section_22\"></a>"
   ]
  },
  {
   "cell_type": "code",
   "execution_count": 38,
   "metadata": {},
   "outputs": [
    {
     "data": {
      "image/png": "[encoded data removed]",
      "text/plain": [
       "<Figure size 1080x360 with 1 Axes>"
      ]
     },
     "metadata": {
      "needs_background": "light"
     },
     "output_type": "display_data"
    }
   ],
   "source": [
    "# data['Provider_State'].value_counts()\n",
    "plt.figure(figsize=(15,5))\n",
    "sns.countplot(x='Provider_State',data=data,order=data['Provider_State'].value_counts().index)\n",
    "#plt.xticks(rotation = 90)\n",
    "#ax = plt.gca()\n",
    "#for p in ax.patches:\n",
    "#    ax.text(p.get_x() + p.get_width()/2., p.get_height(), '%d' % int(p.get_height()), \n",
    "#            fontsize=12, color='blue', ha='center', va='bottom')\n",
    "plt.rcParams[\"axes.labelsize\"] = 20"
   ]
  },
  {
   "cell_type": "markdown",
   "metadata": {},
   "source": [
    "* From this histogram, California, Texas, and Florid has the highest number of hospital divisions."
   ]
  },
  {
   "cell_type": "markdown",
   "metadata": {},
   "source": [
    "### Section 2.3: Count of top 20 cities <a class=\"anchor\" id=\"Section_23\"></a>"
   ]
  },
  {
   "cell_type": "code",
   "execution_count": 39,
   "metadata": {},
   "outputs": [
    {
     "data": {
      "text/plain": [
       "GOOD SAMARITAN HOSPITAL                          633\n",
       "ST JOSEPH MEDICAL CENTER                         427\n",
       "MERCY MEDICAL CENTER                             357\n",
       "MERCY HOSPITAL                                   347\n",
       "ST JOSEPH HOSPITAL                               343\n",
       "                                                ... \n",
       "BRIGHTON HOSPITAL                                  1\n",
       "WESTBURY COMMUNITY HOSPITAL, LLC                   1\n",
       "CHRISTUS ST VINCENT PHYSICIANS MEDICAL CENTER      1\n",
       "WESTERN PENNSYLVANIA HOSPITAL                      1\n",
       "TURNING POINT HOSPITAL                             1\n",
       "Name: Provider_Name, Length: 3201, dtype: int64"
      ]
     },
     "execution_count": 39,
     "metadata": {},
     "output_type": "execute_result"
    }
   ],
   "source": [
    "data['Provider_Name'].value_counts()"
   ]
  },
  {
   "cell_type": "code",
   "execution_count": 40,
   "metadata": {},
   "outputs": [
    {
     "data": {
      "text/plain": [
       "(array([ 0,  1,  2,  3,  4,  5,  6,  7,  8,  9, 10, 11, 12, 13, 14, 15, 16,\n",
       "        17, 18, 19]),\n",
       " [Text(0, 0, 'CHICAGO'),\n",
       "  Text(1, 0, 'BALTIMORE'),\n",
       "  Text(2, 0, 'HOUSTON'),\n",
       "  Text(3, 0, 'PHILADELPHIA'),\n",
       "  Text(4, 0, 'BROOKLYN'),\n",
       "  Text(5, 0, 'SPRINGFIELD'),\n",
       "  Text(6, 0, 'COLUMBUS'),\n",
       "  Text(7, 0, 'LOS ANGELES'),\n",
       "  Text(8, 0, 'NEW YORK'),\n",
       "  Text(9, 0, 'DALLAS'),\n",
       "  Text(10, 0, 'LAS VEGAS'),\n",
       "  Text(11, 0, 'JACKSON'),\n",
       "  Text(12, 0, 'JACKSONVILLE'),\n",
       "  Text(13, 0, 'COLUMBIA'),\n",
       "  Text(14, 0, 'WASHINGTON'),\n",
       "  Text(15, 0, 'CINCINNATI'),\n",
       "  Text(16, 0, 'MIAMI'),\n",
       "  Text(17, 0, 'CLEVELAND'),\n",
       "  Text(18, 0, 'BOSTON'),\n",
       "  Text(19, 0, 'INDIANAPOLIS')])"
      ]
     },
     "execution_count": 40,
     "metadata": {},
     "output_type": "execute_result"
    },
    {
     "data": {
      "image/png": "[encoded data removed]",
      "text/plain": [
       "<Figure size 1080x360 with 1 Axes>"
      ]
     },
     "metadata": {
      "needs_background": "light"
     },
     "output_type": "display_data"
    }
   ],
   "source": [
    "plt.figure(figsize=(15,5))\n",
    "ch = sns.countplot(x='Provider_City',data=data,order=data['Provider_City'].value_counts()[:20].index)\n",
    "plt.xticks(rotation = 90)\n",
    "# junk = ch.set_xticklabels(ch.get_xticklabels()) # Use this line to collect the text prints\n",
    "                          \n",
    "#ax = plt.gca()\n",
    "#plt.rcParams[\"axes.labelsize\"] = 20\n",
    "\n",
    "\n",
    "# b.set_xlabel(\"X Label\",fontsize=30)\n",
    "# b.set_ylabel(\"Y Label\",fontsize=20)\n",
    "# b.tick_params(labelsize=5)\n",
    "\n",
    "# for p in ax.patches:\n",
    "#     ax.text(p.get_x() + p.get_width()/2., p.get_height(), '%d' % int(p.get_height()), \n",
    "#             fontsize=12, color='blue', ha='center', va='bottom')\n",
    "# plt.rcParams[\"axes.labelsize\"] = 20"
   ]
  },
  {
   "cell_type": "markdown",
   "metadata": {},
   "source": [
    "* The above text are from matplotlib. \n",
    "* We really do not want to print the text. \n",
    "* You can assign them to \"_\" to throw them away."
   ]
  },
  {
   "cell_type": "code",
   "execution_count": 41,
   "metadata": {},
   "outputs": [
    {
     "data": {
      "image/png": "[encoded data removed]",
      "text/plain": [
       "<Figure size 1080x360 with 1 Axes>"
      ]
     },
     "metadata": {
      "needs_background": "light"
     },
     "output_type": "display_data"
    }
   ],
   "source": [
    "# This will look better\n",
    "plt.figure(figsize=(15,5))\n",
    "txt = data['Provider_City'].value_counts()[:20].index\n",
    "\n",
    "chart = sns.countplot(\n",
    "    x='Provider_City' ,data=data , order=txt\n",
    ")\n",
    "\n",
    "_ = chart.set_xticklabels(chart.get_xticklabels(), rotation=45)\n",
    "plt.rcParams[\"axes.labelsize\"] = 10"
   ]
  },
  {
   "cell_type": "markdown",
   "metadata": {},
   "source": [
    "#### Class discussion/Thought process:\n",
    "- The following shows the average medicare payment by DRG. Does it make sense to compare \"917 - POISONING & TOXIC EFFECTS OF DRUGS W MCC\" with \"885 - PSYCHOSES\"?"
   ]
  },
  {
   "cell_type": "code",
   "execution_count": 49,
   "metadata": {},
   "outputs": [
    {
     "data": {
      "text/html": [
       "<div>\n",
       "<style scoped>\n",
       "    .dataframe tbody tr th:only-of-type {\n",
       "        vertical-align: middle;\n",
       "    }\n",
       "\n",
       "    .dataframe tbody tr th {\n",
       "        vertical-align: top;\n",
       "    }\n",
       "\n",
       "    .dataframe thead th {\n",
       "        text-align: right;\n",
       "    }\n",
       "</style>\n",
       "<table border=\"1\" class=\"dataframe\">\n",
       "  <thead>\n",
       "    <tr style=\"text-align: right;\">\n",
       "      <th></th>\n",
       "      <th>DRG</th>\n",
       "      <th>count</th>\n",
       "      <th>mean</th>\n",
       "      <th>std</th>\n",
       "      <th>min</th>\n",
       "      <th>25%</th>\n",
       "      <th>50%</th>\n",
       "      <th>75%</th>\n",
       "      <th>max</th>\n",
       "    </tr>\n",
       "  </thead>\n",
       "  <tbody>\n",
       "    <tr>\n",
       "      <th>0</th>\n",
       "      <td>039 - EXTRACRANIAL PROCEDURES W/O CC/MCC</td>\n",
       "      <td>1079.0</td>\n",
       "      <td>6960.534004</td>\n",
       "      <td>1477.873952</td>\n",
       "      <td>4968.00</td>\n",
       "      <td>6001.8300</td>\n",
       "      <td>6582.890</td>\n",
       "      <td>7516.825</td>\n",
       "      <td>18420.56</td>\n",
       "    </tr>\n",
       "    <tr>\n",
       "      <th>1</th>\n",
       "      <td>057 - DEGENERATIVE NERVOUS SYSTEM DISORDERS W/...</td>\n",
       "      <td>1201.0</td>\n",
       "      <td>6706.276445</td>\n",
       "      <td>2033.965862</td>\n",
       "      <td>4194.09</td>\n",
       "      <td>5412.8700</td>\n",
       "      <td>6093.750</td>\n",
       "      <td>7345.360</td>\n",
       "      <td>25519.43</td>\n",
       "    </tr>\n",
       "    <tr>\n",
       "      <th>2</th>\n",
       "      <td>064 - INTRACRANIAL HEMORRHAGE OR CEREBRAL INFA...</td>\n",
       "      <td>1659.0</td>\n",
       "      <td>13263.823032</td>\n",
       "      <td>3847.918207</td>\n",
       "      <td>8174.28</td>\n",
       "      <td>10762.2200</td>\n",
       "      <td>12084.700</td>\n",
       "      <td>14424.325</td>\n",
       "      <td>50882.40</td>\n",
       "    </tr>\n",
       "    <tr>\n",
       "      <th>3</th>\n",
       "      <td>065 - INTRACRANIAL HEMORRHAGE OR CEREBRAL INFA...</td>\n",
       "      <td>2269.0</td>\n",
       "      <td>7922.671141</td>\n",
       "      <td>2084.658336</td>\n",
       "      <td>5368.73</td>\n",
       "      <td>6626.2700</td>\n",
       "      <td>7280.050</td>\n",
       "      <td>8503.060</td>\n",
       "      <td>26510.15</td>\n",
       "    </tr>\n",
       "    <tr>\n",
       "      <th>4</th>\n",
       "      <td>066 - INTRACRANIAL HEMORRHAGE OR CEREBRAL INFA...</td>\n",
       "      <td>1806.0</td>\n",
       "      <td>5713.985221</td>\n",
       "      <td>1342.538675</td>\n",
       "      <td>3916.41</td>\n",
       "      <td>4819.3250</td>\n",
       "      <td>5326.025</td>\n",
       "      <td>6197.480</td>\n",
       "      <td>14744.05</td>\n",
       "    </tr>\n",
       "    <tr>\n",
       "      <th>...</th>\n",
       "      <td>...</td>\n",
       "      <td>...</td>\n",
       "      <td>...</td>\n",
       "      <td>...</td>\n",
       "      <td>...</td>\n",
       "      <td>...</td>\n",
       "      <td>...</td>\n",
       "      <td>...</td>\n",
       "      <td>...</td>\n",
       "    </tr>\n",
       "    <tr>\n",
       "      <th>95</th>\n",
       "      <td>885 - PSYCHOSES</td>\n",
       "      <td>613.0</td>\n",
       "      <td>6968.721876</td>\n",
       "      <td>2440.280958</td>\n",
       "      <td>4444.90</td>\n",
       "      <td>5477.2400</td>\n",
       "      <td>6155.560</td>\n",
       "      <td>7841.280</td>\n",
       "      <td>32200.77</td>\n",
       "    </tr>\n",
       "    <tr>\n",
       "      <th>96</th>\n",
       "      <td>897 - ALCOHOL/DRUG ABUSE OR DEPENDENCE W/O REH...</td>\n",
       "      <td>906.0</td>\n",
       "      <td>4949.907307</td>\n",
       "      <td>1462.463278</td>\n",
       "      <td>3172.44</td>\n",
       "      <td>3969.9675</td>\n",
       "      <td>4529.535</td>\n",
       "      <td>5440.675</td>\n",
       "      <td>18630.92</td>\n",
       "    </tr>\n",
       "    <tr>\n",
       "      <th>97</th>\n",
       "      <td>917 - POISONING &amp; TOXIC EFFECTS OF DRUGS W MCC</td>\n",
       "      <td>843.0</td>\n",
       "      <td>10763.814413</td>\n",
       "      <td>2823.004637</td>\n",
       "      <td>6942.83</td>\n",
       "      <td>8851.4550</td>\n",
       "      <td>10062.280</td>\n",
       "      <td>11788.675</td>\n",
       "      <td>33251.14</td>\n",
       "    </tr>\n",
       "    <tr>\n",
       "      <th>98</th>\n",
       "      <td>918 - POISONING &amp; TOXIC EFFECTS OF DRUGS W/O MCC</td>\n",
       "      <td>1382.0</td>\n",
       "      <td>4485.378734</td>\n",
       "      <td>1154.328951</td>\n",
       "      <td>3040.72</td>\n",
       "      <td>3720.5725</td>\n",
       "      <td>4136.105</td>\n",
       "      <td>4879.390</td>\n",
       "      <td>12479.80</td>\n",
       "    </tr>\n",
       "    <tr>\n",
       "      <th>99</th>\n",
       "      <td>948 - SIGNS &amp; SYMPTOMS W/O MCC</td>\n",
       "      <td>1793.0</td>\n",
       "      <td>4824.766436</td>\n",
       "      <td>1352.077957</td>\n",
       "      <td>3247.66</td>\n",
       "      <td>3997.8400</td>\n",
       "      <td>4411.180</td>\n",
       "      <td>5221.920</td>\n",
       "      <td>28968.20</td>\n",
       "    </tr>\n",
       "  </tbody>\n",
       "</table>\n",
       "<p>100 rows × 9 columns</p>\n",
       "</div>"
      ],
      "text/plain": [
       "                                                  DRG   count          mean  \\\n",
       "0            039 - EXTRACRANIAL PROCEDURES W/O CC/MCC  1079.0   6960.534004   \n",
       "1   057 - DEGENERATIVE NERVOUS SYSTEM DISORDERS W/...  1201.0   6706.276445   \n",
       "2   064 - INTRACRANIAL HEMORRHAGE OR CEREBRAL INFA...  1659.0  13263.823032   \n",
       "3   065 - INTRACRANIAL HEMORRHAGE OR CEREBRAL INFA...  2269.0   7922.671141   \n",
       "4   066 - INTRACRANIAL HEMORRHAGE OR CEREBRAL INFA...  1806.0   5713.985221   \n",
       "..                                                ...     ...           ...   \n",
       "95                                    885 - PSYCHOSES   613.0   6968.721876   \n",
       "96  897 - ALCOHOL/DRUG ABUSE OR DEPENDENCE W/O REH...   906.0   4949.907307   \n",
       "97     917 - POISONING & TOXIC EFFECTS OF DRUGS W MCC   843.0  10763.814413   \n",
       "98   918 - POISONING & TOXIC EFFECTS OF DRUGS W/O MCC  1382.0   4485.378734   \n",
       "99                     948 - SIGNS & SYMPTOMS W/O MCC  1793.0   4824.766436   \n",
       "\n",
       "            std      min         25%        50%        75%       max  \n",
       "0   1477.873952  4968.00   6001.8300   6582.890   7516.825  18420.56  \n",
       "1   2033.965862  4194.09   5412.8700   6093.750   7345.360  25519.43  \n",
       "2   3847.918207  8174.28  10762.2200  12084.700  14424.325  50882.40  \n",
       "3   2084.658336  5368.73   6626.2700   7280.050   8503.060  26510.15  \n",
       "4   1342.538675  3916.41   4819.3250   5326.025   6197.480  14744.05  \n",
       "..          ...      ...         ...        ...        ...       ...  \n",
       "95  2440.280958  4444.90   5477.2400   6155.560   7841.280  32200.77  \n",
       "96  1462.463278  3172.44   3969.9675   4529.535   5440.675  18630.92  \n",
       "97  2823.004637  6942.83   8851.4550  10062.280  11788.675  33251.14  \n",
       "98  1154.328951  3040.72   3720.5725   4136.105   4879.390  12479.80  \n",
       "99  1352.077957  3247.66   3997.8400   4411.180   5221.920  28968.20  \n",
       "\n",
       "[100 rows x 9 columns]"
      ]
     },
     "execution_count": 49,
     "metadata": {},
     "output_type": "execute_result"
    }
   ],
   "source": [
    "data.groupby('DRG')['Average_Total_Payments'].describe().reset_index()"
   ]
  },
  {
   "cell_type": "markdown",
   "metadata": {},
   "source": [
    "## Section 3: Feature Engineering <a class=\"anchor\" id=\"Section_3\"></a>\n",
    "\n",
    "\n",
    "#### Discussions:\n",
    "* Think of the objective: \"Detect any hospital that may abuse the resources compared to the average of its peers of the same DRG and State.\"\n",
    "* A feature should be able to \"detect any hospital...\". The above table does not have hospitals.\n",
    "* The above table is the benchmark. Are they features?\n",
    "\n",
    "### Section 3.1: Create the benchmark table - State & DRG average <a class=\"anchor\" id=\"Section_31\"></a>"
   ]
  },
  {
   "cell_type": "code",
   "execution_count": 44,
   "metadata": {},
   "outputs": [
    {
     "data": {
      "text/html": [
       "<div>\n",
       "<style scoped>\n",
       "    .dataframe tbody tr th:only-of-type {\n",
       "        vertical-align: middle;\n",
       "    }\n",
       "\n",
       "    .dataframe tbody tr th {\n",
       "        vertical-align: top;\n",
       "    }\n",
       "\n",
       "    .dataframe thead th {\n",
       "        text-align: right;\n",
       "    }\n",
       "</style>\n",
       "<table border=\"1\" class=\"dataframe\">\n",
       "  <thead>\n",
       "    <tr style=\"text-align: right;\">\n",
       "      <th></th>\n",
       "      <th>Provider_State</th>\n",
       "      <th>DRG</th>\n",
       "      <th>Avg_Payment_ByStateDRG</th>\n",
       "    </tr>\n",
       "  </thead>\n",
       "  <tbody>\n",
       "    <tr>\n",
       "      <th>0</th>\n",
       "      <td>AK</td>\n",
       "      <td>039 - EXTRACRANIAL PROCEDURES W/O CC/MCC</td>\n",
       "      <td>8401.950000</td>\n",
       "    </tr>\n",
       "    <tr>\n",
       "      <th>1</th>\n",
       "      <td>AK</td>\n",
       "      <td>057 - DEGENERATIVE NERVOUS SYSTEM DISORDERS W/...</td>\n",
       "      <td>8799.000000</td>\n",
       "    </tr>\n",
       "    <tr>\n",
       "      <th>2</th>\n",
       "      <td>AK</td>\n",
       "      <td>064 - INTRACRANIAL HEMORRHAGE OR CEREBRAL INFA...</td>\n",
       "      <td>21608.010000</td>\n",
       "    </tr>\n",
       "    <tr>\n",
       "      <th>3</th>\n",
       "      <td>AK</td>\n",
       "      <td>065 - INTRACRANIAL HEMORRHAGE OR CEREBRAL INFA...</td>\n",
       "      <td>12555.548333</td>\n",
       "    </tr>\n",
       "    <tr>\n",
       "      <th>4</th>\n",
       "      <td>AK</td>\n",
       "      <td>066 - INTRACRANIAL HEMORRHAGE OR CEREBRAL INFA...</td>\n",
       "      <td>9275.867500</td>\n",
       "    </tr>\n",
       "  </tbody>\n",
       "</table>\n",
       "</div>"
      ],
      "text/plain": [
       "  Provider_State                                                DRG  \\\n",
       "0             AK           039 - EXTRACRANIAL PROCEDURES W/O CC/MCC   \n",
       "1             AK  057 - DEGENERATIVE NERVOUS SYSTEM DISORDERS W/...   \n",
       "2             AK  064 - INTRACRANIAL HEMORRHAGE OR CEREBRAL INFA...   \n",
       "3             AK  065 - INTRACRANIAL HEMORRHAGE OR CEREBRAL INFA...   \n",
       "4             AK  066 - INTRACRANIAL HEMORRHAGE OR CEREBRAL INFA...   \n",
       "\n",
       "   Avg_Payment_ByStateDRG  \n",
       "0             8401.950000  \n",
       "1             8799.000000  \n",
       "2            21608.010000  \n",
       "3            12555.548333  \n",
       "4             9275.867500  "
      ]
     },
     "execution_count": 44,
     "metadata": {},
     "output_type": "execute_result"
    }
   ],
   "source": [
    "benchmark = data.groupby(['Provider_State','DRG'])['Average_Total_Payments'].mean().reset_index()\n",
    "benchmark.columns = ['Provider_State','DRG','Avg_Payment_ByStateDRG']\n",
    "benchmark.head()"
   ]
  },
  {
   "cell_type": "markdown",
   "metadata": {},
   "source": [
    "#### Discussions:\n",
    "- There is no label to train a supervised model. What are the unsupervised techniques that you can think of?\n",
    "- How do we validate an unsupervised model outcome?\n",
    "- What will happen if you have a bad feature in an unsupervised model?"
   ]
  },
  {
   "cell_type": "code",
   "execution_count": null,
   "metadata": {},
   "outputs": [],
   "source": []
  },
  {
   "cell_type": "code",
   "execution_count": null,
   "metadata": {},
   "outputs": [],
   "source": []
  }
 ],
 "metadata": {
  "kernelspec": {
   "display_name": "Python 3 (ipykernel)",
   "language": "python",
   "name": "python3"
  },
  "language_info": {
   "codemirror_mode": {
    "name": "ipython",
    "version": 3
   },
   "file_extension": ".py",
   "mimetype": "text/x-python",
   "name": "python",
   "nbconvert_exporter": "python",
   "pygments_lexer": "ipython3",
   "version": "3.9.12"
  }
 },
 "nbformat": 4,
 "nbformat_minor": 4
}
